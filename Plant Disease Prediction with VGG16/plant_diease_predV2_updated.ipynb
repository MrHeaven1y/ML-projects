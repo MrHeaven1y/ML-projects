{
  "cells": [
    {
      "cell_type": "code",
      "source": [
        "import kagglehub\n",
        "\n",
        "# Download latest version\n",
        "path = kagglehub.dataset_download(\"vipoooool/new-plant-diseases-dataset\")\n",
        "\n",
        "print(\"Path to dataset files:\", path)"
      ],
      "metadata": {
        "id": "xj6xek_2EwAL",
        "colab": {
          "base_uri": "https://localhost:8080/"
        },
        "outputId": "4ba3bb2d-af7d-4d41-b088-8c3c5ad64c02"
      },
      "execution_count": null,
      "outputs": [
        {
          "output_type": "stream",
          "name": "stdout",
          "text": [
            "Path to dataset files: /root/.cache/kagglehub/datasets/vipoooool/new-plant-diseases-dataset/versions/2\n"
          ]
        }
      ]
    },
    {
      "cell_type": "code",
      "source": [
        "import tensorflow as tf\n",
        "from tensorflow.keras.applications import VGG16\n",
        "from tensorflow.keras import layers, models, optimizers\n",
        "from tensorflow.keras.preprocessing.image import ImageDataGenerator\n",
        "from tensorflow.keras.models import load_model\n",
        "from tensorflow.keras.preprocessing import image"
      ],
      "metadata": {
        "id": "-w4PruaAmrw9"
      },
      "execution_count": null,
      "outputs": []
    },
    {
      "cell_type": "code",
      "source": [
        "os.listdir(path)"
      ],
      "metadata": {
        "colab": {
          "base_uri": "https://localhost:8080/"
        },
        "id": "dLAUQ-zbtVjB",
        "outputId": "415ae55f-cfc2-4a9b-887c-3563e874d7cb"
      },
      "execution_count": null,
      "outputs": [
        {
          "output_type": "execute_result",
          "data": {
            "text/plain": [
              "['test',\n",
              " 'new plant diseases dataset(augmented)',\n",
              " 'New Plant Diseases Dataset(Augmented)']"
            ]
          },
          "metadata": {},
          "execution_count": 7
        }
      ]
    },
    {
      "cell_type": "code",
      "source": [
        "\n",
        "train_path = os.path.join(path,\"new plant diseases dataset(augmented)\",\"New Plant Diseases Dataset(Augmented)\",'train')\n",
        "valid_path = os.path.join(path,\"new plant diseases dataset(augmented)\",\"New Plant Diseases Dataset(Augmented)\",'valid')\n",
        "test_path = os.path.join(path,'test',\"test\")\n"
      ],
      "metadata": {
        "id": "CB4SowNQtamM"
      },
      "execution_count": null,
      "outputs": []
    },
    {
      "cell_type": "code",
      "source": [
        "names = os.listdir(train_path)\n",
        "\n",
        "values = [i for i in range(len(names))]\n",
        "classes_index = {value:key for (key,value) in zip(names,values)}\n",
        "classes_names= {key:value for (key,value) in zip(names,values)}"
      ],
      "metadata": {
        "id": "F9VKKMdft5-G"
      },
      "execution_count": null,
      "outputs": []
    },
    {
      "cell_type": "markdown",
      "source": [
        "## Data Preparation"
      ],
      "metadata": {
        "id": "PE_91sRWvX-k"
      }
    },
    {
      "cell_type": "code",
      "source": [
        "# Data augmentation & preprocessing\n",
        "train_datagen = ImageDataGenerator(\n",
        "    rescale=1./255,\n",
        "    rotation_range=20,\n",
        "    width_shift_range=0.2,\n",
        "    height_shift_range=0.2,\n",
        "    shear_range=0.2,\n",
        "    zoom_range=0.2,\n",
        "    horizontal_flip=True,\n",
        "    fill_mode='nearest'\n",
        ")\n",
        "\n",
        "val_datagen = ImageDataGenerator(rescale=1./255)\n"
      ],
      "metadata": {
        "id": "GyFNuxJgvXj0"
      },
      "execution_count": null,
      "outputs": []
    },
    {
      "cell_type": "code",
      "source": [
        "# Load data\n",
        "train_generator = train_datagen.flow_from_directory(\n",
        "    train_path,\n",
        "    target_size=(224, 224),  # VGG input size\n",
        "    batch_size=32,\n",
        "    class_mode='categorical'\n",
        ")\n",
        "\n",
        "val_generator = val_datagen.flow_from_directory(\n",
        "    valid_path,\n",
        "    target_size=(224, 224),\n",
        "    batch_size=32,\n",
        "    class_mode='categorical'\n",
        ")\n"
      ],
      "metadata": {
        "id": "gkZLN42Yvcqz"
      },
      "execution_count": null,
      "outputs": []
    },
    {
      "cell_type": "markdown",
      "source": [
        "## Model Building (Using transfer Learning)"
      ],
      "metadata": {
        "id": "2Z20SD3y0JSa"
      }
    },
    {
      "cell_type": "code",
      "source": [
        "# Load pre-trained VGG16 (without top layer)\n",
        "base_model = VGG16(weights='imagenet', include_top=False, input_shape=(224, 224, 3))\n",
        "\n",
        "# Freeze convolutional layers (optional)\n",
        "for layer in base_model.layers:\n",
        "    layer.trainable = False  # Freeze to avoid overfitting"
      ],
      "metadata": {
        "id": "P0As6WjQve9R"
      },
      "execution_count": null,
      "outputs": []
    },
    {
      "cell_type": "code",
      "source": [
        "# Add custom classification head\n",
        "model = models.Sequential([\n",
        "    base_model,\n",
        "    layers.Flatten(),\n",
        "    layers.Dense(256, activation='relu'),\n",
        "    layers.Dropout(0.5),\n",
        "    layers.Dense(train_generator.num_classes, activation='softmax')  # Output layer\n",
        "])\n",
        "\n"
      ],
      "metadata": {
        "id": "KJZsv-YDvnao"
      },
      "execution_count": null,
      "outputs": []
    },
    {
      "cell_type": "code",
      "source": [
        "# Compile\n",
        "model.compile(\n",
        "    optimizer=optimizers.Adam(learning_rate=1e-4),\n",
        "    loss='categorical_crossentropy',\n",
        "    metrics=['accuracy']\n",
        ")\n"
      ],
      "metadata": {
        "id": "gWyvF7jFvmf-"
      },
      "execution_count": null,
      "outputs": []
    },
    {
      "cell_type": "code",
      "source": [
        "# Train\n",
        "history = model.fit(\n",
        "    train_generator,\n",
        "    steps_per_epoch=train_generator.samples // 32,\n",
        "    epochs=10,\n",
        "    validation_data=val_generator,\n",
        "    validation_steps=val_generator.samples // 32\n",
        ")\n",
        "\n",
        "# Save model\n",
        "model.save('my_vgg_model.h5')"
      ],
      "metadata": {
        "colab": {
          "base_uri": "https://localhost:8080/"
        },
        "id": "cY6ftEUntLkb",
        "outputId": "dbaa1826-6cb4-4e2b-8029-ec7b195c3bd8"
      },
      "execution_count": null,
      "outputs": [
        {
          "output_type": "stream",
          "name": "stdout",
          "text": [
            "Found 70295 images belonging to 38 classes.\n",
            "Found 17572 images belonging to 38 classes.\n",
            "Downloading data from https://storage.googleapis.com/tensorflow/keras-applications/vgg16/vgg16_weights_tf_dim_ordering_tf_kernels_notop.h5\n",
            "\u001b[1m58889256/58889256\u001b[0m \u001b[32m━━━━━━━━━━━━━━━━━━━━\u001b[0m\u001b[37m\u001b[0m \u001b[1m0s\u001b[0m 0us/step\n"
          ]
        },
        {
          "output_type": "stream",
          "name": "stderr",
          "text": [
            "/usr/local/lib/python3.11/dist-packages/keras/src/trainers/data_adapters/py_dataset_adapter.py:121: UserWarning: Your `PyDataset` class should call `super().__init__(**kwargs)` in its constructor. `**kwargs` can include `workers`, `use_multiprocessing`, `max_queue_size`. Do not pass these arguments to `fit()`, as they will be ignored.\n",
            "  self._warn_if_super_not_called()\n"
          ]
        },
        {
          "output_type": "stream",
          "name": "stdout",
          "text": [
            "Epoch 1/10\n",
            "\u001b[1m2196/2196\u001b[0m \u001b[32m━━━━━━━━━━━━━━━━━━━━\u001b[0m\u001b[37m\u001b[0m \u001b[1m1086s\u001b[0m 488ms/step - accuracy: 0.3535 - loss: 2.3670 - val_accuracy: 0.8543 - val_loss: 0.5931\n",
            "Epoch 2/10\n",
            "\u001b[1m   1/2196\u001b[0m \u001b[37m━━━━━━━━━━━━━━━━━━━━\u001b[0m \u001b[1m6:05\u001b[0m 166ms/step - accuracy: 0.7812 - loss: 0.8308"
          ]
        },
        {
          "output_type": "stream",
          "name": "stderr",
          "text": [
            "/usr/local/lib/python3.11/dist-packages/keras/src/trainers/epoch_iterator.py:107: UserWarning: Your input ran out of data; interrupting training. Make sure that your dataset or generator can generate at least `steps_per_epoch * epochs` batches. You may need to use the `.repeat()` function when building your dataset.\n",
            "  self._interrupted_warning()\n"
          ]
        },
        {
          "output_type": "stream",
          "name": "stdout",
          "text": [
            "\b\b\b\b\b\b\b\b\b\b\b\b\b\b\b\b\b\b\b\b\b\b\b\b\b\b\b\b\b\b\b\b\b\b\b\b\b\b\b\b\b\b\b\b\b\b\b\b\b\b\b\b\b\b\b\b\b\b\b\b\b\b\b\b\b\b\b\b\b\b\b\b\b\b\b\b\b\b\b\b\r\u001b[1m2196/2196\u001b[0m \u001b[32m━━━━━━━━━━━━━━━━━━━━\u001b[0m\u001b[37m\u001b[0m \u001b[1m96s\u001b[0m 44ms/step - accuracy: 0.7812 - loss: 0.8308 - val_accuracy: 0.8547 - val_loss: 0.5907\n",
            "Epoch 3/10\n",
            "\u001b[1m2196/2196\u001b[0m \u001b[32m━━━━━━━━━━━━━━━━━━━━\u001b[0m\u001b[37m\u001b[0m \u001b[1m1103s\u001b[0m 502ms/step - accuracy: 0.6666 - loss: 1.1047 - val_accuracy: 0.8854 - val_loss: 0.4136\n",
            "Epoch 4/10\n",
            "\u001b[1m2196/2196\u001b[0m \u001b[32m━━━━━━━━━━━━━━━━━━━━\u001b[0m\u001b[37m\u001b[0m \u001b[1m142s\u001b[0m 65ms/step - accuracy: 0.8125 - loss: 0.6109 - val_accuracy: 0.8861 - val_loss: 0.4129\n",
            "Epoch 5/10\n",
            "\u001b[1m2196/2196\u001b[0m \u001b[32m━━━━━━━━━━━━━━━━━━━━\u001b[0m\u001b[37m\u001b[0m \u001b[1m1102s\u001b[0m 485ms/step - accuracy: 0.7246 - loss: 0.8863 - val_accuracy: 0.8940 - val_loss: 0.3554\n",
            "Epoch 6/10\n",
            "\u001b[1m2196/2196\u001b[0m \u001b[32m━━━━━━━━━━━━━━━━━━━━\u001b[0m\u001b[37m\u001b[0m \u001b[1m96s\u001b[0m 44ms/step - accuracy: 0.7812 - loss: 0.8392 - val_accuracy: 0.8929 - val_loss: 0.3576\n",
            "Epoch 7/10\n",
            "\u001b[1m2196/2196\u001b[0m \u001b[32m━━━━━━━━━━━━━━━━━━━━\u001b[0m\u001b[37m\u001b[0m \u001b[1m1030s\u001b[0m 468ms/step - accuracy: 0.7604 - loss: 0.7615 - val_accuracy: 0.9043 - val_loss: 0.3128\n",
            "Epoch 8/10\n",
            "\u001b[1m2196/2196\u001b[0m \u001b[32m━━━━━━━━━━━━━━━━━━━━\u001b[0m\u001b[37m\u001b[0m \u001b[1m96s\u001b[0m 44ms/step - accuracy: 0.8438 - loss: 0.4734 - val_accuracy: 0.9044 - val_loss: 0.3123\n",
            "Epoch 9/10\n",
            "\u001b[1m2196/2196\u001b[0m \u001b[32m━━━━━━━━━━━━━━━━━━━━\u001b[0m\u001b[37m\u001b[0m \u001b[1m1043s\u001b[0m 475ms/step - accuracy: 0.7814 - loss: 0.6926 - val_accuracy: 0.9064 - val_loss: 0.2999\n",
            "Epoch 10/10\n",
            "\u001b[1m2196/2196\u001b[0m \u001b[32m━━━━━━━━━━━━━━━━━━━━\u001b[0m\u001b[37m\u001b[0m \u001b[1m142s\u001b[0m 65ms/step - accuracy: 0.7812 - loss: 0.5083 - val_accuracy: 0.9066 - val_loss: 0.3000\n"
          ]
        },
        {
          "output_type": "stream",
          "name": "stderr",
          "text": [
            "WARNING:absl:You are saving your model as an HDF5 file via `model.save()` or `keras.saving.save_model(model)`. This file format is considered legacy. We recommend using instead the native Keras format, e.g. `model.save('my_model.keras')` or `keras.saving.save_model(model, 'my_model.keras')`. \n"
          ]
        }
      ]
    },
    {
      "cell_type": "code",
      "source": [
        "test_imgs = []\n",
        "root = os.path.dirname(test_path)\n",
        "for file in os.listdir(test_path):\n",
        "    file_source = os.path.join(root,file)\n",
        "    test_imgs.append(file_source)\n",
        "test_imgs[0]"
      ],
      "metadata": {
        "id": "bw8GXmeHFgGS"
      },
      "execution_count": null,
      "outputs": []
    },
    {
      "cell_type": "code",
      "source": [
        "\n",
        "def predict_image(img_path):\n",
        "    # Load and preprocess image\n",
        "    img = image.load_img(img_path, target_size=(224, 224))\n",
        "    img_array = image.img_to_array(img)\n",
        "    img_array = np.expand_dims(img_array, axis=0)\n",
        "    img_array = img_array / 255.0  # Normalize (same as training)\n",
        "\n",
        "    # Predict\n",
        "    predictions = model.predict(img_array)\n",
        "    predicted_class = np.argmax(predictions)\n",
        "    confidence = np.max(predictions)\n",
        "\n",
        "    return predicted_class, confidence\n",
        "\n",
        "# Example usage\n",
        "img_path = train_imgs[0]\n",
        "predicted_class, confidence = predict_image(img_path)\n",
        "print(f\"Predicted: {predicted_class} (Confidence: {confidence:.2f})\")"
      ],
      "metadata": {
        "colab": {
          "base_uri": "https://localhost:8080/"
        },
        "id": "-tNFcQJ4Ekr_",
        "outputId": "c0949b8d-ae6b-43a4-f2bc-a637a46d1255"
      },
      "execution_count": null,
      "outputs": [
        {
          "output_type": "stream",
          "name": "stdout",
          "text": [
            "\u001b[1m1/1\u001b[0m \u001b[32m━━━━━━━━━━━━━━━━━━━━\u001b[0m\u001b[37m\u001b[0m \u001b[1m0s\u001b[0m 64ms/step\n",
            "Predicted: 22 (Confidence: 1.00)\n"
          ]
        }
      ]
    },
    {
      "cell_type": "code",
      "source": [
        "classes_names"
      ],
      "metadata": {
        "colab": {
          "base_uri": "https://localhost:8080/"
        },
        "id": "X-uushfxFm4X",
        "outputId": "df229838-c0c6-4ba5-dab0-80b3f1517d1a"
      },
      "execution_count": null,
      "outputs": [
        {
          "output_type": "execute_result",
          "data": {
            "text/plain": [
              "{'Potato___healthy': 0,\n",
              " 'Raspberry___healthy': 1,\n",
              " 'Soybean___healthy': 2,\n",
              " 'Potato___Late_blight': 3,\n",
              " 'Strawberry___Leaf_scorch': 4,\n",
              " 'Apple___Cedar_apple_rust': 5,\n",
              " 'Potato___Early_blight': 6,\n",
              " 'Tomato___Leaf_Mold': 7,\n",
              " 'Cherry_(including_sour)___Powdery_mildew': 8,\n",
              " 'Peach___Bacterial_spot': 9,\n",
              " 'Tomato___Tomato_mosaic_virus': 10,\n",
              " 'Cherry_(including_sour)___healthy': 11,\n",
              " 'Peach___healthy': 12,\n",
              " 'Tomato___Spider_mites Two-spotted_spider_mite': 13,\n",
              " 'Apple___Black_rot': 14,\n",
              " 'Corn_(maize)___Common_rust_': 15,\n",
              " 'Apple___Apple_scab': 16,\n",
              " 'Corn_(maize)___healthy': 17,\n",
              " 'Squash___Powdery_mildew': 18,\n",
              " 'Grape___Leaf_blight_(Isariopsis_Leaf_Spot)': 19,\n",
              " 'Corn_(maize)___Northern_Leaf_Blight': 20,\n",
              " 'Tomato___Septoria_leaf_spot': 21,\n",
              " 'Grape___healthy': 22,\n",
              " 'Pepper,_bell___Bacterial_spot': 23,\n",
              " 'Corn_(maize)___Cercospora_leaf_spot Gray_leaf_spot': 24,\n",
              " 'Grape___Black_rot': 25,\n",
              " 'Blueberry___healthy': 26,\n",
              " 'Tomato___Tomato_Yellow_Leaf_Curl_Virus': 27,\n",
              " 'Tomato___Bacterial_spot': 28,\n",
              " 'Tomato___healthy': 29,\n",
              " 'Tomato___Early_blight': 30,\n",
              " 'Apple___healthy': 31,\n",
              " 'Tomato___Target_Spot': 32,\n",
              " 'Grape___Esca_(Black_Measles)': 33,\n",
              " 'Strawberry___healthy': 34,\n",
              " 'Orange___Haunglongbing_(Citrus_greening)': 35,\n",
              " 'Tomato___Late_blight': 36,\n",
              " 'Pepper,_bell___healthy': 37}"
            ]
          },
          "metadata": {},
          "execution_count": 47
        }
      ]
    },
    {
      "cell_type": "code",
      "source": [
        "train_imgs[0]"
      ],
      "metadata": {
        "colab": {
          "base_uri": "https://localhost:8080/",
          "height": 54
        },
        "id": "o36iS11nGn3I",
        "outputId": "5d38d140-dcb0-4fb9-e51d-a5bd4526266e"
      },
      "execution_count": null,
      "outputs": [
        {
          "output_type": "execute_result",
          "data": {
            "text/plain": [
              "'/root/.cache/kagglehub/datasets/vipoooool/new-plant-diseases-dataset/versions/2/new plant diseases dataset(augmented)/New Plant Diseases Dataset(Augmented)/train/Potato___healthy/20ac28d6-5708-4e31-8676-1b1979de094f___RS_HL 1735_new30degFlipTB.JPG'"
            ],
            "application/vnd.google.colaboratory.intrinsic+json": {
              "type": "string"
            }
          },
          "metadata": {},
          "execution_count": 56
        }
      ]
    },
    {
      "cell_type": "code",
      "source": [
        "classes_index"
      ],
      "metadata": {
        "colab": {
          "base_uri": "https://localhost:8080/"
        },
        "id": "-gQgVv42Ga3S",
        "outputId": "404e12de-94bd-4646-bc06-5d34fb231f16"
      },
      "execution_count": null,
      "outputs": [
        {
          "output_type": "execute_result",
          "data": {
            "text/plain": [
              "{0: 'Potato___healthy',\n",
              " 1: 'Raspberry___healthy',\n",
              " 2: 'Soybean___healthy',\n",
              " 3: 'Potato___Late_blight',\n",
              " 4: 'Strawberry___Leaf_scorch',\n",
              " 5: 'Apple___Cedar_apple_rust',\n",
              " 6: 'Potato___Early_blight',\n",
              " 7: 'Tomato___Leaf_Mold',\n",
              " 8: 'Cherry_(including_sour)___Powdery_mildew',\n",
              " 9: 'Peach___Bacterial_spot',\n",
              " 10: 'Tomato___Tomato_mosaic_virus',\n",
              " 11: 'Cherry_(including_sour)___healthy',\n",
              " 12: 'Peach___healthy',\n",
              " 13: 'Tomato___Spider_mites Two-spotted_spider_mite',\n",
              " 14: 'Apple___Black_rot',\n",
              " 15: 'Corn_(maize)___Common_rust_',\n",
              " 16: 'Apple___Apple_scab',\n",
              " 17: 'Corn_(maize)___healthy',\n",
              " 18: 'Squash___Powdery_mildew',\n",
              " 19: 'Grape___Leaf_blight_(Isariopsis_Leaf_Spot)',\n",
              " 20: 'Corn_(maize)___Northern_Leaf_Blight',\n",
              " 21: 'Tomato___Septoria_leaf_spot',\n",
              " 22: 'Grape___healthy',\n",
              " 23: 'Pepper,_bell___Bacterial_spot',\n",
              " 24: 'Corn_(maize)___Cercospora_leaf_spot Gray_leaf_spot',\n",
              " 25: 'Grape___Black_rot',\n",
              " 26: 'Blueberry___healthy',\n",
              " 27: 'Tomato___Tomato_Yellow_Leaf_Curl_Virus',\n",
              " 28: 'Tomato___Bacterial_spot',\n",
              " 29: 'Tomato___healthy',\n",
              " 30: 'Tomato___Early_blight',\n",
              " 31: 'Apple___healthy',\n",
              " 32: 'Tomato___Target_Spot',\n",
              " 33: 'Grape___Esca_(Black_Measles)',\n",
              " 34: 'Strawberry___healthy',\n",
              " 35: 'Orange___Haunglongbing_(Citrus_greening)',\n",
              " 36: 'Tomato___Late_blight',\n",
              " 37: 'Pepper,_bell___healthy'}"
            ]
          },
          "metadata": {},
          "execution_count": 51
        }
      ]
    }
  ],
  "metadata": {
    "colab": {
      "provenance": [],
      "gpuType": "T4"
    },
    "kernelspec": {
      "display_name": "Python 3",
      "name": "python3"
    },
    "language_info": {
      "name": "python"
    },
    "accelerator": "GPU"
  },
  "nbformat": 4,
  "nbformat_minor": 0
}