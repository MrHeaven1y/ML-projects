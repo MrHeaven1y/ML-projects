{
  "metadata": {
    "kernelspec": {
      "language": "python",
      "display_name": "Python 3",
      "name": "python3"
    },
    "language_info": {
      "name": "python",
      "version": "3.10.13",
      "mimetype": "text/x-python",
      "codemirror_mode": {
        "name": "ipython",
        "version": 3
      },
      "pygments_lexer": "ipython3",
      "nbconvert_exporter": "python",
      "file_extension": ".py"
    },
    "kaggle": {
      "accelerator": "gpu",
      "dataSources": [
        {
          "sourceId": 1553068,
          "sourceType": "datasetVersion",
          "datasetId": 916586
        },
        {
          "sourceId": 94771,
          "sourceType": "modelInstanceVersion",
          "isSourceIdPinned": true,
          "modelInstanceId": 79467,
          "modelId": 103939
        }
      ],
      "dockerImageVersionId": 30746,
      "isInternetEnabled": true,
      "language": "python",
      "sourceType": "notebook",
      "isGpuEnabled": true
    },
    "colab": {
      "name": "fatalHealthAnalysis",
      "provenance": []
    }
  },
  "nbformat_minor": 0,
  "nbformat": 4,
  "cells": [
    {
      "source": [
        "import os\n",
        "import sys\n",
        "from tempfile import NamedTemporaryFile\n",
        "from urllib.request import urlopen\n",
        "from urllib.parse import unquote, urlparse\n",
        "from urllib.error import HTTPError\n",
        "from zipfile import ZipFile\n",
        "import tarfile\n",
        "import shutil\n",
        "\n",
        "CHUNK_SIZE = 40960\n",
        "DATA_SOURCE_MAPPING = 'fetal-health-classification:https%3A%2F%2Fstorage.googleapis.com%2Fkaggle-data-sets%2F916586%2F1553068%2Fbundle%2Farchive.zip%3FX-Goog-Algorithm%3DGOOG4-RSA-SHA256%26X-Goog-Credential%3Dgcp-kaggle-com%2540kaggle-161607.iam.gserviceaccount.com%252F20240816%252Fauto%252Fstorage%252Fgoog4_request%26X-Goog-Date%3D20240816T034152Z%26X-Goog-Expires%3D259200%26X-Goog-SignedHeaders%3Dhost%26X-Goog-Signature%3D53e324b11b5b4d196006fab53130368f66c476b05ca6a3c100baf200662555e66718fc48369f1a6c1581387677eb4dfe3a06dc0d6d56a10053c9c7a7ec4ea774e95b375ec4e4b42602d6a043c16492a562f4e7fa0d0c97fc9c8122459ef8aa2ad6848609ca1399a7bef6db947d0668affb62661d8ebcda83b163c63c22ace7218da52f6c9a9650ec9e304a3063b42829ab69da1aca6d7644dfcb0370e85f1d338e7388e7ce0352d271dc27ea1d19e7556359f5481d434774196cbdd24839398dd036b14dbb6c59db625f5b6f7189de963ccb44d18a8e573efce09c2c6d07e70792bd8aabf97ca44d61b96e40e22ebf2304e300ea9479b7cedf23890788c31d17,fatalhealthanalysis/scikitlearn/default/1:https%3A%2F%2Fstorage.googleapis.com%2Fkaggle-models-data%2F79467%2F94771%2Fbundle%2Farchive.tar.gz%3FX-Goog-Algorithm%3DGOOG4-RSA-SHA256%26X-Goog-Credential%3Dgcp-kaggle-com%2540kaggle-161607.iam.gserviceaccount.com%252F20240816%252Fauto%252Fstorage%252Fgoog4_request%26X-Goog-Date%3D20240816T034152Z%26X-Goog-Expires%3D259200%26X-Goog-SignedHeaders%3Dhost%26X-Goog-Signature%3D1398e5e694d8ea09ed5c4bed4a6802d4392f72b4db32dd97fe0c82d70e3a4ed0891af4b1a90dc768dc6b15dcb90d18971ea142ebaeacb3db162aa75fc4eba1dcc8777bdf2801f10ac983337c30a04f5033fff00f66219fd3327adc171dde0b3d36d995fd5a161d87cf6ecfb3cf94d48d0162ee22bad03b2c8952b35bdca955eb14618afa572c94c724d6530fac3904e4b3147e81345177b29d09cefe11e54d037caa42fcca05a1c6cebe716d0fe8ca7cb33642ad6d05220e7515c949cb14ce0ecede8697d942747d0f472db01811ab2c6b45c77909351673cc0fe05d160bbe8f18be82cbb69a55659a136a7f1bb3ca36303c1708894bcdb3d519a2ee0dbc3ba7'\n",
        "\n",
        "KAGGLE_INPUT_PATH='/kaggle/input'\n",
        "KAGGLE_WORKING_PATH='/kaggle/working'\n",
        "KAGGLE_SYMLINK='kaggle'\n",
        "\n",
        "!umount /kaggle/input/ 2> /dev/null\n",
        "shutil.rmtree('/kaggle/input', ignore_errors=True)\n",
        "os.makedirs(KAGGLE_INPUT_PATH, 0o777, exist_ok=True)\n",
        "os.makedirs(KAGGLE_WORKING_PATH, 0o777, exist_ok=True)\n",
        "\n",
        "try:\n",
        "  os.symlink(KAGGLE_INPUT_PATH, os.path.join(\"..\", 'input'), target_is_directory=True)\n",
        "except FileExistsError:\n",
        "  pass\n",
        "try:\n",
        "  os.symlink(KAGGLE_WORKING_PATH, os.path.join(\"..\", 'working'), target_is_directory=True)\n",
        "except FileExistsError:\n",
        "  pass\n",
        "\n",
        "for data_source_mapping in DATA_SOURCE_MAPPING.split(','):\n",
        "    directory, download_url_encoded = data_source_mapping.split(':')\n",
        "    download_url = unquote(download_url_encoded)\n",
        "    filename = urlparse(download_url).path\n",
        "    destination_path = os.path.join(KAGGLE_INPUT_PATH, directory)\n",
        "    try:\n",
        "        with urlopen(download_url) as fileres, NamedTemporaryFile() as tfile:\n",
        "            total_length = fileres.headers['content-length']\n",
        "            print(f'Downloading {directory}, {total_length} bytes compressed')\n",
        "            dl = 0\n",
        "            data = fileres.read(CHUNK_SIZE)\n",
        "            while len(data) > 0:\n",
        "                dl += len(data)\n",
        "                tfile.write(data)\n",
        "                done = int(50 * dl / int(total_length))\n",
        "                sys.stdout.write(f\"\\r[{'=' * done}{' ' * (50-done)}] {dl} bytes downloaded\")\n",
        "                sys.stdout.flush()\n",
        "                data = fileres.read(CHUNK_SIZE)\n",
        "            if filename.endswith('.zip'):\n",
        "              with ZipFile(tfile) as zfile:\n",
        "                zfile.extractall(destination_path)\n",
        "            else:\n",
        "              with tarfile.open(tfile.name) as tarfile:\n",
        "                tarfile.extractall(destination_path)\n",
        "            print(f'\\nDownloaded and uncompressed: {directory}')\n",
        "    except HTTPError as e:\n",
        "        print(f'Failed to load (likely expired) {download_url} to path {destination_path}')\n",
        "        continue\n",
        "    except OSError as e:\n",
        "        print(f'Failed to load {download_url} to path {destination_path}')\n",
        "        continue\n",
        "\n",
        "print('Data source import complete.')\n"
      ],
      "metadata": {
        "id": "GaXKokudRxeG"
      },
      "cell_type": "code",
      "outputs": [],
      "execution_count": null
    },
    {
      "cell_type": "code",
      "source": [
        "from sklearn.impute import SimpleImputer\n",
        "from sklearn.preprocessing import MinMaxScaler\n",
        "import hashlib\n",
        "from sklearn.linear_model import LogisticRegression\n",
        "from sklearn.tree import DecisionTreeClassifier\n",
        "from sklearn.ensemble import RandomForestClassifier, AdaBoostClassifier\n",
        "from xgboost import XGBClassifier\n",
        "from sklearn.svm import SVC\n",
        "from sklearn.neighbors import KNeighborsClassifier\n",
        "from sklearn.naive_bayes import GaussianNB\n",
        "from sklearn.neural_network import MLPClassifier\n",
        "from sklearn.discriminant_analysis import LinearDiscriminantAnalysis, QuadraticDiscriminantAnalysis\n",
        "\n",
        "# accuracy\n",
        "from sklearn.metrics import accuracy_score\n",
        "from sklearn.model_selection import StratifiedShuffleSplit,StratifiedKFold,GridSearchCV,cross_val_score\n",
        "import numpy as np # linear algebra\n",
        "import pandas as pd # data processing, CSV file I/O (e.g. pd.read_csv)\n",
        "import matplotlib.pyplot as plt\n",
        "import seaborn as sns\n",
        "\n",
        "import os"
      ],
      "metadata": {
        "_uuid": "8f2839f25d086af736a60e9eeb907d3b93b6e0e5",
        "_cell_guid": "b1076dfc-b9ad-4769-8c92-a6c4dae69d19",
        "execution": {
          "iopub.status.busy": "2024-08-14T17:30:07.880441Z",
          "iopub.execute_input": "2024-08-14T17:30:07.880752Z",
          "iopub.status.idle": "2024-08-14T17:30:08.938733Z",
          "shell.execute_reply.started": "2024-08-14T17:30:07.880726Z",
          "shell.execute_reply": "2024-08-14T17:30:08.937715Z"
        },
        "trusted": true,
        "id": "OIR9O6YqRxeJ"
      },
      "execution_count": null,
      "outputs": []
    },
    {
      "cell_type": "code",
      "source": [
        "for dirname, _, filenames in os.walk('/kaggle/input'):\n",
        "    for filename in filenames:\n",
        "        print(os.path.join(dirname, filename))"
      ],
      "metadata": {
        "execution": {
          "iopub.status.busy": "2024-08-14T17:30:08.93995Z",
          "iopub.execute_input": "2024-08-14T17:30:08.940382Z",
          "iopub.status.idle": "2024-08-14T17:30:08.949858Z",
          "shell.execute_reply.started": "2024-08-14T17:30:08.940354Z",
          "shell.execute_reply": "2024-08-14T17:30:08.949082Z"
        },
        "trusted": true,
        "id": "ZT0IFSAPRxeJ"
      },
      "execution_count": null,
      "outputs": []
    },
    {
      "cell_type": "code",
      "source": [
        "df = pd.read_csv('/kaggle/input/fetal-health-classification/fetal_health.csv')"
      ],
      "metadata": {
        "execution": {
          "iopub.status.busy": "2024-08-14T17:30:08.951038Z",
          "iopub.execute_input": "2024-08-14T17:30:08.951388Z",
          "iopub.status.idle": "2024-08-14T17:30:08.969012Z",
          "shell.execute_reply.started": "2024-08-14T17:30:08.951363Z",
          "shell.execute_reply": "2024-08-14T17:30:08.968293Z"
        },
        "trusted": true,
        "id": "tD1C7NzZRxeK"
      },
      "execution_count": null,
      "outputs": []
    },
    {
      "cell_type": "code",
      "source": [
        "df.head()"
      ],
      "metadata": {
        "execution": {
          "iopub.status.busy": "2024-08-14T17:30:08.972171Z",
          "iopub.execute_input": "2024-08-14T17:30:08.972561Z",
          "iopub.status.idle": "2024-08-14T17:30:09.005247Z",
          "shell.execute_reply.started": "2024-08-14T17:30:08.972534Z",
          "shell.execute_reply": "2024-08-14T17:30:09.004241Z"
        },
        "trusted": true,
        "id": "1toF3JjgRxeK"
      },
      "execution_count": null,
      "outputs": []
    },
    {
      "cell_type": "code",
      "source": [
        "df[df.fetal_health==3]"
      ],
      "metadata": {
        "execution": {
          "iopub.status.busy": "2024-08-14T17:30:09.006335Z",
          "iopub.execute_input": "2024-08-14T17:30:09.006587Z",
          "iopub.status.idle": "2024-08-14T17:30:09.047252Z",
          "shell.execute_reply.started": "2024-08-14T17:30:09.006564Z",
          "shell.execute_reply": "2024-08-14T17:30:09.046232Z"
        },
        "trusted": true,
        "id": "EVWUSz0ERxeK"
      },
      "execution_count": null,
      "outputs": []
    },
    {
      "cell_type": "code",
      "source": [
        "df.describe().T"
      ],
      "metadata": {
        "execution": {
          "iopub.status.busy": "2024-08-14T17:30:09.048467Z",
          "iopub.execute_input": "2024-08-14T17:30:09.048824Z",
          "iopub.status.idle": "2024-08-14T17:30:09.109024Z",
          "shell.execute_reply.started": "2024-08-14T17:30:09.048791Z",
          "shell.execute_reply": "2024-08-14T17:30:09.108213Z"
        },
        "trusted": true,
        "id": "5kXaSO4yRxeL"
      },
      "execution_count": null,
      "outputs": []
    },
    {
      "cell_type": "code",
      "source": [
        "df.hist(bins=50,figsize=(25,15))\n",
        "plt.show()"
      ],
      "metadata": {
        "execution": {
          "iopub.status.busy": "2024-08-14T17:30:09.109941Z",
          "iopub.execute_input": "2024-08-14T17:30:09.110214Z",
          "iopub.status.idle": "2024-08-14T17:30:13.935543Z",
          "shell.execute_reply.started": "2024-08-14T17:30:09.110189Z",
          "shell.execute_reply": "2024-08-14T17:30:13.934593Z"
        },
        "trusted": true,
        "id": "aHMRZIzKRxeL"
      },
      "execution_count": null,
      "outputs": []
    },
    {
      "cell_type": "markdown",
      "source": [
        "Dividing into train set and test test according to the way it'll be separated as discreate no matter how much re-run happen to this notebook"
      ],
      "metadata": {
        "id": "rPhDs0IWRxeL"
      }
    },
    {
      "cell_type": "code",
      "source": [
        "def test_set_check(identifier, test_ratio, hash):\n",
        "    return hash(np.int64(identifier)).digest()[-1]<256*test_ratio"
      ],
      "metadata": {
        "execution": {
          "iopub.status.busy": "2024-08-14T17:30:13.936902Z",
          "iopub.execute_input": "2024-08-14T17:30:13.937371Z",
          "iopub.status.idle": "2024-08-14T17:30:13.94233Z",
          "shell.execute_reply.started": "2024-08-14T17:30:13.937337Z",
          "shell.execute_reply": "2024-08-14T17:30:13.941455Z"
        },
        "trusted": true,
        "id": "yqChhQeeRxeM"
      },
      "execution_count": null,
      "outputs": []
    },
    {
      "cell_type": "code",
      "source": [
        "def split_train_test_by_id(data,test_ratio,id_column,hash=hashlib.md5):\n",
        "    ids = data[id_column]\n",
        "    in_test_set = ids.apply(lambda id_: test_set_check(id_,test_ratio,hash))\n",
        "    return data.loc[~in_test_set], data.loc[in_test_set]"
      ],
      "metadata": {
        "execution": {
          "iopub.status.busy": "2024-08-14T17:30:13.94366Z",
          "iopub.execute_input": "2024-08-14T17:30:13.943925Z",
          "iopub.status.idle": "2024-08-14T17:30:13.952891Z",
          "shell.execute_reply.started": "2024-08-14T17:30:13.943902Z",
          "shell.execute_reply": "2024-08-14T17:30:13.952124Z"
        },
        "trusted": true,
        "id": "wZIdC1F3RxeM"
      },
      "execution_count": null,
      "outputs": []
    },
    {
      "cell_type": "code",
      "source": [
        "df_with_idx = df.reset_index()"
      ],
      "metadata": {
        "execution": {
          "iopub.status.busy": "2024-08-14T17:30:13.953763Z",
          "iopub.execute_input": "2024-08-14T17:30:13.95401Z",
          "iopub.status.idle": "2024-08-14T17:30:13.966545Z",
          "shell.execute_reply.started": "2024-08-14T17:30:13.953987Z",
          "shell.execute_reply": "2024-08-14T17:30:13.965702Z"
        },
        "trusted": true,
        "id": "NE0BK7znRxeN"
      },
      "execution_count": null,
      "outputs": []
    },
    {
      "cell_type": "code",
      "source": [
        "df_with_idx.head()"
      ],
      "metadata": {
        "execution": {
          "iopub.status.busy": "2024-08-14T17:30:13.967629Z",
          "iopub.execute_input": "2024-08-14T17:30:13.967953Z",
          "iopub.status.idle": "2024-08-14T17:30:14.001672Z",
          "shell.execute_reply.started": "2024-08-14T17:30:13.967921Z",
          "shell.execute_reply": "2024-08-14T17:30:14.000794Z"
        },
        "trusted": true,
        "id": "gBU6B2aZRxeN"
      },
      "execution_count": null,
      "outputs": []
    },
    {
      "cell_type": "code",
      "source": [
        "train_set,test_set = split_train_test_by_id(df_with_idx,0.2,'index')"
      ],
      "metadata": {
        "execution": {
          "iopub.status.busy": "2024-08-14T17:30:14.002655Z",
          "iopub.execute_input": "2024-08-14T17:30:14.0029Z",
          "iopub.status.idle": "2024-08-14T17:30:14.014232Z",
          "shell.execute_reply.started": "2024-08-14T17:30:14.002878Z",
          "shell.execute_reply": "2024-08-14T17:30:14.013331Z"
        },
        "trusted": true,
        "id": "CRi6-W3yRxeN"
      },
      "execution_count": null,
      "outputs": []
    },
    {
      "cell_type": "code",
      "source": [
        "train_set.shape,test_set.shape"
      ],
      "metadata": {
        "execution": {
          "iopub.status.busy": "2024-08-14T17:30:14.019001Z",
          "iopub.execute_input": "2024-08-14T17:30:14.019312Z",
          "iopub.status.idle": "2024-08-14T17:30:14.02541Z",
          "shell.execute_reply.started": "2024-08-14T17:30:14.019287Z",
          "shell.execute_reply": "2024-08-14T17:30:14.02463Z"
        },
        "trusted": true,
        "id": "pjtA6SJFRxeN"
      },
      "execution_count": null,
      "outputs": []
    },
    {
      "cell_type": "code",
      "source": [
        "train_set.head()"
      ],
      "metadata": {
        "execution": {
          "iopub.status.busy": "2024-08-14T17:30:14.02663Z",
          "iopub.execute_input": "2024-08-14T17:30:14.02696Z",
          "iopub.status.idle": "2024-08-14T17:30:14.057955Z",
          "shell.execute_reply.started": "2024-08-14T17:30:14.026929Z",
          "shell.execute_reply": "2024-08-14T17:30:14.057063Z"
        },
        "trusted": true,
        "id": "1bOl9WExRxeN"
      },
      "execution_count": null,
      "outputs": []
    },
    {
      "cell_type": "code",
      "source": [
        "plt.figure(figsize=(10,4))\n",
        "plt.hist(df['fetal_health'],bins=50,range=(0,10))\n",
        "plt.show()"
      ],
      "metadata": {
        "execution": {
          "iopub.status.busy": "2024-08-14T17:30:14.059014Z",
          "iopub.execute_input": "2024-08-14T17:30:14.059327Z",
          "iopub.status.idle": "2024-08-14T17:30:14.353054Z",
          "shell.execute_reply.started": "2024-08-14T17:30:14.059302Z",
          "shell.execute_reply": "2024-08-14T17:30:14.352221Z"
        },
        "trusted": true,
        "id": "Pbpgd_B0RxeN"
      },
      "execution_count": null,
      "outputs": []
    },
    {
      "cell_type": "code",
      "source": [
        "plt.figure(figsize=(10,4))\n",
        "plt.hist(df['uterine_contractions'],bins=50)\n",
        "plt.show()"
      ],
      "metadata": {
        "execution": {
          "iopub.status.busy": "2024-08-14T17:30:14.354439Z",
          "iopub.execute_input": "2024-08-14T17:30:14.354814Z",
          "iopub.status.idle": "2024-08-14T17:30:14.644062Z",
          "shell.execute_reply.started": "2024-08-14T17:30:14.354778Z",
          "shell.execute_reply": "2024-08-14T17:30:14.643129Z"
        },
        "trusted": true,
        "id": "daNUNmdqRxeN"
      },
      "execution_count": null,
      "outputs": []
    },
    {
      "cell_type": "code",
      "source": [
        "df['uterine_cat'] = np.ceil(df['uterine_contractions']/1)\n",
        "df['uterine_cat'] = df['uterine_cat'].where(df['uterine_contractions']<0.005,3)"
      ],
      "metadata": {
        "execution": {
          "iopub.status.busy": "2024-08-14T17:30:14.645474Z",
          "iopub.execute_input": "2024-08-14T17:30:14.645757Z",
          "iopub.status.idle": "2024-08-14T17:30:14.652976Z",
          "shell.execute_reply.started": "2024-08-14T17:30:14.645731Z",
          "shell.execute_reply": "2024-08-14T17:30:14.652065Z"
        },
        "trusted": true,
        "id": "A1UeEitDRxeO"
      },
      "execution_count": null,
      "outputs": []
    },
    {
      "cell_type": "code",
      "source": [
        "df['uterine_cat'].value_counts()"
      ],
      "metadata": {
        "execution": {
          "iopub.status.busy": "2024-08-14T17:30:14.654311Z",
          "iopub.execute_input": "2024-08-14T17:30:14.654883Z",
          "iopub.status.idle": "2024-08-14T17:30:14.66455Z",
          "shell.execute_reply.started": "2024-08-14T17:30:14.654849Z",
          "shell.execute_reply": "2024-08-14T17:30:14.663643Z"
        },
        "trusted": true,
        "id": "s3DnUphXRxeO"
      },
      "execution_count": null,
      "outputs": []
    },
    {
      "cell_type": "code",
      "source": [
        "df['uterine_cat'].value_counts()/len(df)"
      ],
      "metadata": {
        "execution": {
          "iopub.status.busy": "2024-08-14T17:30:14.665782Z",
          "iopub.execute_input": "2024-08-14T17:30:14.666343Z",
          "iopub.status.idle": "2024-08-14T17:30:14.676491Z",
          "shell.execute_reply.started": "2024-08-14T17:30:14.66631Z",
          "shell.execute_reply": "2024-08-14T17:30:14.675637Z"
        },
        "trusted": true,
        "id": "TLY1mjvBRxeO"
      },
      "execution_count": null,
      "outputs": []
    },
    {
      "cell_type": "markdown",
      "source": [
        "For even distribution I'm using StratifiedShuffleSplit"
      ],
      "metadata": {
        "id": "UQKQq3OMRxeO"
      }
    },
    {
      "cell_type": "code",
      "source": [
        "split = StratifiedShuffleSplit(n_splits=1,test_size=0.2,random_state=42)"
      ],
      "metadata": {
        "execution": {
          "iopub.status.busy": "2024-08-14T17:30:14.677629Z",
          "iopub.execute_input": "2024-08-14T17:30:14.678261Z",
          "iopub.status.idle": "2024-08-14T17:30:14.68437Z",
          "shell.execute_reply.started": "2024-08-14T17:30:14.678216Z",
          "shell.execute_reply": "2024-08-14T17:30:14.683544Z"
        },
        "trusted": true,
        "id": "ceS3MlxVRxeO"
      },
      "execution_count": null,
      "outputs": []
    },
    {
      "cell_type": "code",
      "source": [
        "for train_idx, test_idx in split.split(df,df['uterine_cat']):\n",
        "    strait_train_set = df.loc[train_idx]\n",
        "    strait_test_set = df.loc[test_idx]"
      ],
      "metadata": {
        "execution": {
          "iopub.status.busy": "2024-08-14T17:30:14.685646Z",
          "iopub.execute_input": "2024-08-14T17:30:14.68598Z",
          "iopub.status.idle": "2024-08-14T17:30:14.697872Z",
          "shell.execute_reply.started": "2024-08-14T17:30:14.685947Z",
          "shell.execute_reply": "2024-08-14T17:30:14.697009Z"
        },
        "trusted": true,
        "id": "KuWL9D8BRxeO"
      },
      "execution_count": null,
      "outputs": []
    },
    {
      "cell_type": "code",
      "source": [
        "strait_train_set.head()"
      ],
      "metadata": {
        "execution": {
          "iopub.status.busy": "2024-08-14T17:30:14.698951Z",
          "iopub.execute_input": "2024-08-14T17:30:14.699507Z",
          "iopub.status.idle": "2024-08-14T17:30:14.731486Z",
          "shell.execute_reply.started": "2024-08-14T17:30:14.699474Z",
          "shell.execute_reply": "2024-08-14T17:30:14.730625Z"
        },
        "trusted": true,
        "id": "l-P1SDTNRxeO"
      },
      "execution_count": null,
      "outputs": []
    },
    {
      "cell_type": "code",
      "source": [
        "for set in (strait_train_set,strait_test_set):\n",
        "    set.drop('uterine_cat',axis=1,inplace=True)"
      ],
      "metadata": {
        "execution": {
          "iopub.status.busy": "2024-08-14T17:30:14.732609Z",
          "iopub.execute_input": "2024-08-14T17:30:14.73287Z",
          "iopub.status.idle": "2024-08-14T17:30:14.737945Z",
          "shell.execute_reply.started": "2024-08-14T17:30:14.732846Z",
          "shell.execute_reply": "2024-08-14T17:30:14.737117Z"
        },
        "trusted": true,
        "id": "RaZvUDjDRxeO"
      },
      "execution_count": null,
      "outputs": []
    },
    {
      "cell_type": "code",
      "source": [
        "def plot(x: str ,y: str = None, data: pd.DataFrame = df, Plot=plt.scatter,alpha=None) -> None:\n",
        "    ploty = df[x]\n",
        "    plotx = df[y]\n",
        "    Plot(plotx,ploty,alpha)\n",
        "    plt.xlabel(x)\n",
        "    plt.ylabel(y)\n",
        "    plt.show()"
      ],
      "metadata": {
        "execution": {
          "iopub.status.busy": "2024-08-14T17:30:14.738945Z",
          "iopub.execute_input": "2024-08-14T17:30:14.739212Z",
          "iopub.status.idle": "2024-08-14T17:30:14.747733Z",
          "shell.execute_reply.started": "2024-08-14T17:30:14.739188Z",
          "shell.execute_reply": "2024-08-14T17:30:14.74689Z"
        },
        "trusted": true,
        "id": "2ekOIZjkRxeO"
      },
      "execution_count": null,
      "outputs": []
    },
    {
      "cell_type": "code",
      "source": [
        "df.columns"
      ],
      "metadata": {
        "execution": {
          "iopub.status.busy": "2024-08-14T17:30:14.748827Z",
          "iopub.execute_input": "2024-08-14T17:30:14.749111Z",
          "iopub.status.idle": "2024-08-14T17:30:14.759708Z",
          "shell.execute_reply.started": "2024-08-14T17:30:14.749062Z",
          "shell.execute_reply": "2024-08-14T17:30:14.758839Z"
        },
        "trusted": true,
        "id": "yb6U2xrvRxeP"
      },
      "execution_count": null,
      "outputs": []
    },
    {
      "cell_type": "code",
      "source": [
        "num_cols = list(df.select_dtypes(['int','float']).columns)\n",
        "num_cols"
      ],
      "metadata": {
        "execution": {
          "iopub.status.busy": "2024-08-14T17:30:14.760805Z",
          "iopub.execute_input": "2024-08-14T17:30:14.761108Z",
          "iopub.status.idle": "2024-08-14T17:30:14.770892Z",
          "shell.execute_reply.started": "2024-08-14T17:30:14.761069Z",
          "shell.execute_reply": "2024-08-14T17:30:14.770006Z"
        },
        "trusted": true,
        "id": "EQGnMnnIRxeP"
      },
      "execution_count": null,
      "outputs": []
    },
    {
      "cell_type": "code",
      "source": [
        "plot('baseline value','accelerations',alpha=0.6)"
      ],
      "metadata": {
        "execution": {
          "iopub.status.busy": "2024-08-14T17:30:14.77203Z",
          "iopub.execute_input": "2024-08-14T17:30:14.772665Z",
          "iopub.status.idle": "2024-08-14T17:30:15.007146Z",
          "shell.execute_reply.started": "2024-08-14T17:30:14.77259Z",
          "shell.execute_reply": "2024-08-14T17:30:15.00613Z"
        },
        "trusted": true,
        "id": "BNH2R4DGRxeP"
      },
      "execution_count": null,
      "outputs": []
    },
    {
      "cell_type": "code",
      "source": [
        "plt.bar(df['fetal_health'],df['prolongued_decelerations'])\n",
        "plt.show()"
      ],
      "metadata": {
        "execution": {
          "iopub.status.busy": "2024-08-14T17:30:15.008301Z",
          "iopub.execute_input": "2024-08-14T17:30:15.008584Z",
          "iopub.status.idle": "2024-08-14T17:30:18.076556Z",
          "shell.execute_reply.started": "2024-08-14T17:30:15.008559Z",
          "shell.execute_reply": "2024-08-14T17:30:18.075627Z"
        },
        "trusted": true,
        "id": "QyjkoftoRxeP"
      },
      "execution_count": null,
      "outputs": []
    },
    {
      "cell_type": "code",
      "source": [
        "corr_matrix = df.corr()"
      ],
      "metadata": {
        "execution": {
          "iopub.status.busy": "2024-08-14T17:30:18.077827Z",
          "iopub.execute_input": "2024-08-14T17:30:18.078281Z",
          "iopub.status.idle": "2024-08-14T17:30:18.085582Z",
          "shell.execute_reply.started": "2024-08-14T17:30:18.078246Z",
          "shell.execute_reply": "2024-08-14T17:30:18.0848Z"
        },
        "trusted": true,
        "id": "rB9_gTdWRxeP"
      },
      "execution_count": null,
      "outputs": []
    },
    {
      "cell_type": "code",
      "source": [
        "corr_matrix['fetal_health'].sort_values(ascending=False)"
      ],
      "metadata": {
        "execution": {
          "iopub.status.busy": "2024-08-14T17:30:18.086766Z",
          "iopub.execute_input": "2024-08-14T17:30:18.087032Z",
          "iopub.status.idle": "2024-08-14T17:30:18.097377Z",
          "shell.execute_reply.started": "2024-08-14T17:30:18.087009Z",
          "shell.execute_reply": "2024-08-14T17:30:18.096598Z"
        },
        "trusted": true,
        "id": "N3b9P3MoRxeP"
      },
      "execution_count": null,
      "outputs": []
    },
    {
      "cell_type": "markdown",
      "source": [
        "**Let's drop the columns which has the low correlation with the output**"
      ],
      "metadata": {
        "id": "JcdzkK8FRxeP"
      }
    },
    {
      "cell_type": "code",
      "source": [
        "corr_dict = dict(corr_matrix['fetal_health'])\n",
        "corr_dict"
      ],
      "metadata": {
        "execution": {
          "iopub.status.busy": "2024-08-14T17:30:18.098464Z",
          "iopub.execute_input": "2024-08-14T17:30:18.098732Z",
          "iopub.status.idle": "2024-08-14T17:30:18.105342Z",
          "shell.execute_reply.started": "2024-08-14T17:30:18.098709Z",
          "shell.execute_reply": "2024-08-14T17:30:18.104476Z"
        },
        "trusted": true,
        "id": "oteGpb6iRxeP"
      },
      "execution_count": null,
      "outputs": []
    },
    {
      "cell_type": "code",
      "source": [
        "drop_cols = [key for key,value in corr_dict.items()  if abs(value-0)<(0.05) ]"
      ],
      "metadata": {
        "execution": {
          "iopub.status.busy": "2024-08-14T17:30:18.106453Z",
          "iopub.execute_input": "2024-08-14T17:30:18.106871Z",
          "iopub.status.idle": "2024-08-14T17:30:18.114532Z",
          "shell.execute_reply.started": "2024-08-14T17:30:18.106841Z",
          "shell.execute_reply": "2024-08-14T17:30:18.113698Z"
        },
        "trusted": true,
        "id": "s3zc4oeiRxeP"
      },
      "execution_count": null,
      "outputs": []
    },
    {
      "cell_type": "code",
      "source": [
        "drop_cols"
      ],
      "metadata": {
        "execution": {
          "iopub.status.busy": "2024-08-14T17:30:18.115615Z",
          "iopub.execute_input": "2024-08-14T17:30:18.115869Z",
          "iopub.status.idle": "2024-08-14T17:30:18.125574Z",
          "shell.execute_reply.started": "2024-08-14T17:30:18.115847Z",
          "shell.execute_reply": "2024-08-14T17:30:18.124629Z"
        },
        "trusted": true,
        "id": "imn_Kah1RxeP"
      },
      "execution_count": null,
      "outputs": []
    },
    {
      "cell_type": "code",
      "source": [
        "for set in (strait_train_set,strait_test_set):\n",
        "    set.drop(drop_cols,axis=1,inplace=True)"
      ],
      "metadata": {
        "execution": {
          "iopub.status.busy": "2024-08-14T17:30:18.126609Z",
          "iopub.execute_input": "2024-08-14T17:30:18.126841Z",
          "iopub.status.idle": "2024-08-14T17:30:18.136825Z",
          "shell.execute_reply.started": "2024-08-14T17:30:18.12682Z",
          "shell.execute_reply": "2024-08-14T17:30:18.135984Z"
        },
        "trusted": true,
        "id": "F-g9Q1AsRxeQ"
      },
      "execution_count": null,
      "outputs": []
    },
    {
      "cell_type": "code",
      "source": [
        "strait_train_set.head(3)"
      ],
      "metadata": {
        "execution": {
          "iopub.status.busy": "2024-08-14T17:30:18.137974Z",
          "iopub.execute_input": "2024-08-14T17:30:18.13854Z",
          "iopub.status.idle": "2024-08-14T17:30:18.164389Z",
          "shell.execute_reply.started": "2024-08-14T17:30:18.138499Z",
          "shell.execute_reply": "2024-08-14T17:30:18.163455Z"
        },
        "trusted": true,
        "id": "Y3nh9WQ2RxeQ"
      },
      "execution_count": null,
      "outputs": []
    },
    {
      "cell_type": "code",
      "source": [
        "plot('fetal_health','prolongued_decelerations')"
      ],
      "metadata": {
        "execution": {
          "iopub.status.busy": "2024-08-14T17:30:18.165552Z",
          "iopub.execute_input": "2024-08-14T17:30:18.165888Z",
          "iopub.status.idle": "2024-08-14T17:30:18.410345Z",
          "shell.execute_reply.started": "2024-08-14T17:30:18.165855Z",
          "shell.execute_reply": "2024-08-14T17:30:18.409419Z"
        },
        "trusted": true,
        "id": "8kC9iliERxeS"
      },
      "execution_count": null,
      "outputs": []
    },
    {
      "cell_type": "code",
      "source": [
        "plt.bar('abnormal_short_term_variability','fetal_health',data=df)\n",
        "plt.show()"
      ],
      "metadata": {
        "execution": {
          "iopub.status.busy": "2024-08-14T17:30:18.411864Z",
          "iopub.execute_input": "2024-08-14T17:30:18.412309Z",
          "iopub.status.idle": "2024-08-14T17:30:21.555644Z",
          "shell.execute_reply.started": "2024-08-14T17:30:18.412273Z",
          "shell.execute_reply": "2024-08-14T17:30:21.55478Z"
        },
        "trusted": true,
        "id": "FiXpHzM2RxeS"
      },
      "execution_count": null,
      "outputs": []
    },
    {
      "cell_type": "code",
      "source": [
        "plt.bar('percentage_of_time_with_abnormal_long_term_variability','fetal_health',data=df)\n",
        "plt.show()"
      ],
      "metadata": {
        "execution": {
          "iopub.status.busy": "2024-08-14T17:30:21.556668Z",
          "iopub.execute_input": "2024-08-14T17:30:21.556949Z",
          "iopub.status.idle": "2024-08-14T17:30:24.700389Z",
          "shell.execute_reply.started": "2024-08-14T17:30:21.556926Z",
          "shell.execute_reply": "2024-08-14T17:30:24.699445Z"
        },
        "trusted": true,
        "id": "6WLM_sByRxeS"
      },
      "execution_count": null,
      "outputs": []
    },
    {
      "cell_type": "code",
      "source": [
        "df.isna().sum()"
      ],
      "metadata": {
        "execution": {
          "iopub.status.busy": "2024-08-14T17:31:04.716555Z",
          "iopub.execute_input": "2024-08-14T17:31:04.717163Z",
          "iopub.status.idle": "2024-08-14T17:31:04.725508Z",
          "shell.execute_reply.started": "2024-08-14T17:31:04.717128Z",
          "shell.execute_reply": "2024-08-14T17:31:04.724522Z"
        },
        "trusted": true,
        "id": "PkTFp7yhRxeT"
      },
      "execution_count": null,
      "outputs": []
    },
    {
      "cell_type": "code",
      "source": [
        "train_inputs = strait_train_set.drop('fetal_health', axis=1)\n",
        "train_target = strait_train_set['fetal_health']\n",
        "\n",
        "test_inputs = strait_test_set.drop('fetal_health', axis=1)\n",
        "test_target = strait_test_set['fetal_health']"
      ],
      "metadata": {
        "execution": {
          "iopub.status.busy": "2024-08-14T17:31:04.727207Z",
          "iopub.execute_input": "2024-08-14T17:31:04.727569Z",
          "iopub.status.idle": "2024-08-14T17:31:04.736334Z",
          "shell.execute_reply.started": "2024-08-14T17:31:04.727541Z",
          "shell.execute_reply": "2024-08-14T17:31:04.735326Z"
        },
        "trusted": true,
        "id": "au-Vq69iRxeT"
      },
      "execution_count": null,
      "outputs": []
    },
    {
      "cell_type": "code",
      "source": [
        "train_inputs.head()"
      ],
      "metadata": {
        "execution": {
          "iopub.status.busy": "2024-08-14T17:31:04.738271Z",
          "iopub.execute_input": "2024-08-14T17:31:04.739204Z",
          "iopub.status.idle": "2024-08-14T17:31:04.767753Z",
          "shell.execute_reply.started": "2024-08-14T17:31:04.739168Z",
          "shell.execute_reply": "2024-08-14T17:31:04.766873Z"
        },
        "trusted": true,
        "id": "vbDBEtmQRxeT"
      },
      "execution_count": null,
      "outputs": []
    },
    {
      "cell_type": "code",
      "source": [
        "imputer = SimpleImputer(strategy = 'mean')\n",
        "scaler = MinMaxScaler()"
      ],
      "metadata": {
        "execution": {
          "iopub.status.busy": "2024-08-14T17:31:04.768746Z",
          "iopub.execute_input": "2024-08-14T17:31:04.76899Z",
          "iopub.status.idle": "2024-08-14T17:31:04.773311Z",
          "shell.execute_reply.started": "2024-08-14T17:31:04.768967Z",
          "shell.execute_reply": "2024-08-14T17:31:04.772306Z"
        },
        "trusted": true,
        "id": "xt9Te2vuRxeT"
      },
      "execution_count": null,
      "outputs": []
    },
    {
      "cell_type": "code",
      "source": [
        "prepared_train_inputs, prepared_test_inputs = imputer.fit_transform(train_inputs), imputer.fit_transform(test_inputs)\n",
        "prepared_train_inputs, prepared_test_inputs = scaler.fit_transform(prepared_train_inputs), scaler.fit_transform(prepared_test_inputs)"
      ],
      "metadata": {
        "execution": {
          "iopub.status.busy": "2024-08-14T17:31:04.775462Z",
          "iopub.execute_input": "2024-08-14T17:31:04.775776Z",
          "iopub.status.idle": "2024-08-14T17:31:04.791122Z",
          "shell.execute_reply.started": "2024-08-14T17:31:04.775743Z",
          "shell.execute_reply": "2024-08-14T17:31:04.790278Z"
        },
        "trusted": true,
        "id": "vJLDezSNRxeT"
      },
      "execution_count": null,
      "outputs": []
    },
    {
      "cell_type": "markdown",
      "source": [
        "### **Now let's label the train_inputs as [0,2] instead [1,3] for more convenience**"
      ],
      "metadata": {
        "id": "ZeUS_2r2RxeT"
      }
    },
    {
      "cell_type": "code",
      "source": [
        "train_target = train_target.apply(lambda x: x-1)\n",
        "test_target = test_target.apply(lambda x: x-1)"
      ],
      "metadata": {
        "execution": {
          "iopub.status.busy": "2024-08-14T17:31:04.792297Z",
          "iopub.execute_input": "2024-08-14T17:31:04.792624Z",
          "iopub.status.idle": "2024-08-14T17:31:04.798628Z",
          "shell.execute_reply.started": "2024-08-14T17:31:04.792591Z",
          "shell.execute_reply": "2024-08-14T17:31:04.797777Z"
        },
        "trusted": true,
        "id": "OmC9rAgrRxeT"
      },
      "execution_count": null,
      "outputs": []
    },
    {
      "cell_type": "code",
      "source": [
        "prepared_train_inputs[2]"
      ],
      "metadata": {
        "execution": {
          "iopub.status.busy": "2024-08-14T17:31:04.799818Z",
          "iopub.execute_input": "2024-08-14T17:31:04.800398Z",
          "iopub.status.idle": "2024-08-14T17:31:04.810093Z",
          "shell.execute_reply.started": "2024-08-14T17:31:04.800365Z",
          "shell.execute_reply": "2024-08-14T17:31:04.809323Z"
        },
        "trusted": true,
        "id": "KTuMDjJcRxeT"
      },
      "execution_count": null,
      "outputs": []
    },
    {
      "cell_type": "markdown",
      "source": [
        "### Model Selection (all machine learning / scikit-learn classifier)"
      ],
      "metadata": {
        "id": "q8kGqNzgRxeT"
      }
    },
    {
      "cell_type": "code",
      "source": [
        "# List of classifiers\n",
        "classifiers = {\n",
        "    'Logistic Regression': LogisticRegression(max_iter=500),\n",
        "    'Decision Tree': DecisionTreeClassifier(),\n",
        "    'Gradient Boosting': XGBClassifier(objective='multi:softmax', num_class=3,n_jobs=-1),\n",
        "    'AdaBoost': AdaBoostClassifier(),\n",
        "    'Support Vector Machine': SVC(),\n",
        "    'K-Nearest Neighbors': KNeighborsClassifier(),\n",
        "    'Naive Bayes': GaussianNB(),\n",
        "    'Random Forest': RandomForestClassifier(n_jobs=-1),\n",
        "    'Neural Network': MLPClassifier(max_iter=500)\n",
        "}"
      ],
      "metadata": {
        "execution": {
          "iopub.status.busy": "2024-08-14T17:31:04.811093Z",
          "iopub.execute_input": "2024-08-14T17:31:04.811375Z",
          "iopub.status.idle": "2024-08-14T17:31:04.817879Z",
          "shell.execute_reply.started": "2024-08-14T17:31:04.811352Z",
          "shell.execute_reply": "2024-08-14T17:31:04.817141Z"
        },
        "trusted": true,
        "id": "cYlui1_GRxeT"
      },
      "execution_count": null,
      "outputs": []
    },
    {
      "cell_type": "markdown",
      "source": [
        "#### using cross validation for determining suitable model  "
      ],
      "metadata": {
        "id": "RuHLmlenRxeU"
      }
    },
    {
      "cell_type": "code",
      "source": [
        "cv = StratifiedKFold(n_splits=5, shuffle=True, random_state=42)"
      ],
      "metadata": {
        "execution": {
          "iopub.status.busy": "2024-08-14T17:31:04.81981Z",
          "iopub.execute_input": "2024-08-14T17:31:04.820069Z",
          "iopub.status.idle": "2024-08-14T17:31:04.829958Z",
          "shell.execute_reply.started": "2024-08-14T17:31:04.820047Z",
          "shell.execute_reply": "2024-08-14T17:31:04.829012Z"
        },
        "trusted": true,
        "id": "GyumARFqRxeU"
      },
      "execution_count": null,
      "outputs": []
    },
    {
      "cell_type": "code",
      "source": [
        "param_grids =  {\n",
        "    'Logistic Regression' : {\n",
        "        'multi_class' : ['multinomial','ovr'],\n",
        "        'C': [0.01, 0.1, 1, 10, 100],\n",
        "        'solver': ['newton-cg'],\n",
        "        'penalty': ['l2'],\n",
        "        'max_iter': [100, 200, 300]\n",
        "    },\n",
        "    'Decision Tree': {\n",
        "        'max_depth': [None, 10, 20, 30, 40],\n",
        "        'min_samples_split': [2, 10, 20, 50],\n",
        "        'criterion': ['gini', 'entropy'],\n",
        "        'splitter': ['best', 'random'],\n",
        "        'max_features': [None, 'sqrt', 'log2'],\n",
        "        'min_samples_leaf': [1, 2, 4],\n",
        "        'max_leaf_nodes': [None, 10, 20, 30]\n",
        "    },\n",
        "\n",
        "    'Gradient Boosting': {\n",
        "        'learning_rate': [0.01, 0.05, 0.1, 0.2],\n",
        "        'n_estimators': [100, 200, 300, 500],\n",
        "        'max_depth': [3, 5, 10, 20],\n",
        "        'subsample': [0.8, 0.9, 1.0],\n",
        "    },\n",
        "    'AdaBoost': {\n",
        "        'n_estimators': [50, 100, 200, 300],\n",
        "        'learning_rate': [0.01, 0.1, 0.5, 1],\n",
        "        'algorithm': ['SAMME', 'SAMME.R']\n",
        "    },\n",
        "    'Support Vector Machine': {\n",
        "        'C': [0.1, 1, 10, 100],\n",
        "        'kernel': ['linear', 'poly', 'rbf', 'sigmoid'],\n",
        "        'degree': [3, 4, 5],  # poly kern\n",
        "        'gamma': ['scale', 'auto'],  # Kernel coefficient for 'rbf', 'poly', and 'sigmoid'\n",
        "        'class_weight': [None, 'balanced']\n",
        "    },\n",
        "    'K-Nearest Neighbors': {\n",
        "        'n_neighbors': [3, 5, 7, 9],\n",
        "        'weights': ['uniform', 'distance'],\n",
        "        'metric': ['euclidean', 'manhattan', 'minkowski'],\n",
        "        'p': [1, 2]  #  Minkowski metric (1=Manhattan, 2=Euclidean)\n",
        "    },\n",
        "    'Naive Bayes': {\n",
        "    'var_smoothing': [1e-9, 1e-8, 1e-7, 1e-6, 1e-5, 1e-4, 1e-3]\n",
        "}\n",
        "}\n"
      ],
      "metadata": {
        "execution": {
          "iopub.status.busy": "2024-08-14T17:31:04.835373Z",
          "iopub.execute_input": "2024-08-14T17:31:04.835644Z",
          "iopub.status.idle": "2024-08-14T17:31:04.846145Z",
          "shell.execute_reply.started": "2024-08-14T17:31:04.83562Z",
          "shell.execute_reply": "2024-08-14T17:31:04.845142Z"
        },
        "trusted": true,
        "id": "lk3iLaemRxeU"
      },
      "execution_count": null,
      "outputs": []
    },
    {
      "cell_type": "code",
      "source": [
        "for name,clf in classifiers.items():\n",
        "    clf.fit(prepared_train_inputs,train_target)\n",
        "    preds = clf.predict(prepared_train_inputs)\n",
        "    print(f\"Accuracy of {name}: {accuracy_score(train_target,preds)}\")"
      ],
      "metadata": {
        "execution": {
          "iopub.status.busy": "2024-08-14T17:31:04.847882Z",
          "iopub.execute_input": "2024-08-14T17:31:04.848242Z",
          "iopub.status.idle": "2024-08-14T17:31:08.724545Z",
          "shell.execute_reply.started": "2024-08-14T17:31:04.848207Z",
          "shell.execute_reply": "2024-08-14T17:31:08.723345Z"
        },
        "trusted": true,
        "id": "efvQjHv1RxeU"
      },
      "execution_count": null,
      "outputs": []
    },
    {
      "cell_type": "markdown",
      "source": [
        "#### let's tune the hyper parameters of Decision tree, random forest, Gradient boosting, Neural Networks, K Nearest Neighbors"
      ],
      "metadata": {
        "id": "te1Ns1fsRxeU"
      }
    },
    {
      "cell_type": "code",
      "source": [
        "best_classifiers ={}\n",
        "for name,clf in classifiers.items():\n",
        "    if name=='Random Forest' or name=='Neural Network':\n",
        "        pass\n",
        "    else:\n",
        "        grid = GridSearchCV(estimator=clf,param_grid=param_grids[name], cv=cv,scoring='accuracy',n_jobs=-1)\n",
        "        grid.fit(prepared_train_inputs,train_target)\n",
        "        best_classifiers[name]=grid.best_estimator_\n",
        "        print(f\"best parameters for {name}: {grid.best_estimator_}\")\n",
        "        print(f'best cross-validation for {name}: {grid.best_score_:.2f}')\n",
        ""
      ],
      "metadata": {
        "execution": {
          "iopub.status.busy": "2024-08-14T17:31:08.726928Z",
          "iopub.execute_input": "2024-08-14T17:31:08.727509Z",
          "iopub.status.idle": "2024-08-14T17:36:13.59776Z",
          "shell.execute_reply.started": "2024-08-14T17:31:08.727465Z",
          "shell.execute_reply": "2024-08-14T17:36:13.596702Z"
        },
        "trusted": true,
        "id": "Q2ijaZWTRxeU"
      },
      "execution_count": null,
      "outputs": []
    },
    {
      "cell_type": "markdown",
      "source": [
        "#### Random Forest take hella lot of time to let's compute it separately"
      ],
      "metadata": {
        "id": "CeHrnlHnRxeU"
      }
    },
    {
      "cell_type": "code",
      "source": [
        "best_classifiers['Decision Tree']"
      ],
      "metadata": {
        "execution": {
          "iopub.status.busy": "2024-08-14T17:36:13.599146Z",
          "iopub.execute_input": "2024-08-14T17:36:13.599461Z",
          "iopub.status.idle": "2024-08-14T17:36:13.6068Z",
          "shell.execute_reply.started": "2024-08-14T17:36:13.599431Z",
          "shell.execute_reply": "2024-08-14T17:36:13.605865Z"
        },
        "trusted": true,
        "id": "9OXUhYGWRxeU"
      },
      "execution_count": null,
      "outputs": []
    },
    {
      "cell_type": "code",
      "source": [
        "late_run_model = {'Random Forest': {\n",
        "        'n_estimators': [200, 300, 500],\n",
        "        'max_depth': [20,30],\n",
        "        'criterion': ['entropy'],\n",
        "        'max_features': [None, 'sqrt', 'log2'],\n",
        "        'min_samples_split': [10,20],\n",
        "        'min_samples_leaf': [2, 4],\n",
        "        'bootstrap': [True, False]\n",
        "    },\n",
        "       'Neural Network': {\n",
        "        'hidden_layer_sizes': [(100,), (50, 50), (100, 50, 25)],\n",
        "        'activation': ['logistic', 'tanh', 'relu'],\n",
        "        'solver': ['adam'],\n",
        "        'alpha': [0.01,0.1,1],  # Regularization term\n",
        "        'learning_rate': ['constant', 'invscaling', 'adaptive'],\n",
        "        'max_iter': [500]\n",
        "    }\n",
        "}"
      ],
      "metadata": {
        "execution": {
          "iopub.status.busy": "2024-08-14T17:36:13.609351Z",
          "iopub.execute_input": "2024-08-14T17:36:13.609948Z",
          "iopub.status.idle": "2024-08-14T17:36:13.617183Z",
          "shell.execute_reply.started": "2024-08-14T17:36:13.609916Z",
          "shell.execute_reply": "2024-08-14T17:36:13.616296Z"
        },
        "trusted": true,
        "id": "UjxaicWZRxeU"
      },
      "execution_count": null,
      "outputs": []
    },
    {
      "cell_type": "code",
      "source": [
        "grid = GridSearchCV(estimator=classifiers['Random Forest'],param_grid=late_run_model['Random Forest'], cv=cv,scoring='accuracy',n_jobs=-1)\n",
        "grid.fit(prepared_train_inputs, train_target)\n",
        "best_classifiers['Random Forest'] = grid.best_estimator_\n",
        "print(f'Best Estimator for Random Forest: {grid.best_params_}')\n",
        "print(f'best cross validation accuracy for Random Forest: {grid.best_score_:.2f}')"
      ],
      "metadata": {
        "execution": {
          "iopub.status.busy": "2024-08-14T17:36:13.618286Z",
          "iopub.execute_input": "2024-08-14T17:36:13.618522Z",
          "iopub.status.idle": "2024-08-14T17:43:23.723085Z",
          "shell.execute_reply.started": "2024-08-14T17:36:13.618501Z",
          "shell.execute_reply": "2024-08-14T17:43:23.722153Z"
        },
        "trusted": true,
        "id": "ecxMgGUHRxeV"
      },
      "execution_count": null,
      "outputs": []
    },
    {
      "cell_type": "code",
      "source": [
        "scores = cross_val_score(classifiers['Random Forest'],prepared_train_inputs,train_target,cv=cv, scoring='accuracy')\n",
        "print(f\"Accuracy for each fold: {scores}\")\n",
        "print(f\"Mean Accuracy: {np.mean(scores)}\")\n"
      ],
      "metadata": {
        "execution": {
          "iopub.status.busy": "2024-08-14T17:43:23.724435Z",
          "iopub.execute_input": "2024-08-14T17:43:23.724738Z",
          "iopub.status.idle": "2024-08-14T17:43:25.518486Z",
          "shell.execute_reply.started": "2024-08-14T17:43:23.724711Z",
          "shell.execute_reply": "2024-08-14T17:43:25.517526Z"
        },
        "trusted": true,
        "id": "Nm35tS3ARxeV"
      },
      "execution_count": null,
      "outputs": []
    },
    {
      "cell_type": "markdown",
      "source": [
        "#### Let's build a multi-layer perceptron"
      ],
      "metadata": {
        "id": "Y8421WRqRxeV"
      }
    },
    {
      "cell_type": "code",
      "source": [
        "# grid = GridSearchCV(estimator=classifiers['Neural Network'],param_grid=late_run_model['Neural Network'], cv=cv,scoring='accuracy',n_jobs=-1)\n",
        "# grid.fit(prepared_train_inputs, train_target)\n",
        "# best_classifiers['Neural Network'] = grid.best_estimator_\n",
        "# print(f'Best Estimator for Neural Network: {grid.best_params_}')\n",
        "# print(f'best cross validation accuracy for Neural Network: {grid.best_score_:.2f}')"
      ],
      "metadata": {
        "execution": {
          "iopub.status.busy": "2024-08-14T17:43:25.519718Z",
          "iopub.execute_input": "2024-08-14T17:43:25.52014Z",
          "iopub.status.idle": "2024-08-14T17:43:25.526222Z",
          "shell.execute_reply.started": "2024-08-14T17:43:25.520066Z",
          "shell.execute_reply": "2024-08-14T17:43:25.525442Z"
        },
        "trusted": true,
        "id": "8V8FgiNzRxeV"
      },
      "execution_count": null,
      "outputs": []
    },
    {
      "cell_type": "code",
      "source": [
        "mlp = MLPClassifier(activation='relu',alpha=0.01,hidden_layer_sizes=(100,50,25,10),learning_rate='adaptive',max_iter=500,solver='adam')\n",
        "scores = cross_val_score(mlp,prepared_train_inputs,train_target,cv=cv, scoring='accuracy')\n",
        "print(f\"Accuracy for each fold: {scores}\")\n",
        "print(f\"Mean Accuracy: {np.mean(scores)}\")"
      ],
      "metadata": {
        "execution": {
          "iopub.status.busy": "2024-08-14T17:43:25.527528Z",
          "iopub.execute_input": "2024-08-14T17:43:25.527887Z",
          "iopub.status.idle": "2024-08-14T17:43:49.556485Z",
          "shell.execute_reply.started": "2024-08-14T17:43:25.527855Z",
          "shell.execute_reply": "2024-08-14T17:43:49.555524Z"
        },
        "trusted": true,
        "id": "8xkunW7JRxeV"
      },
      "execution_count": null,
      "outputs": []
    },
    {
      "cell_type": "code",
      "source": [
        "best_model = best_classifiers['Gradient Boosting']"
      ],
      "metadata": {
        "execution": {
          "iopub.status.busy": "2024-08-14T17:43:49.55784Z",
          "iopub.execute_input": "2024-08-14T17:43:49.558464Z",
          "iopub.status.idle": "2024-08-14T17:43:49.56818Z",
          "shell.execute_reply.started": "2024-08-14T17:43:49.55843Z",
          "shell.execute_reply": "2024-08-14T17:43:49.567058Z"
        },
        "trusted": true,
        "id": "-sfCg1pqRxeV"
      },
      "execution_count": null,
      "outputs": []
    },
    {
      "cell_type": "code",
      "source": [
        "test_preds = best_model.predict(prepared_test_inputs)\n",
        "print(f\"accuracy of best model in test set : {accuracy_score(test_target,test_preds)}\")"
      ],
      "metadata": {
        "execution": {
          "iopub.status.busy": "2024-08-14T17:43:49.571511Z",
          "iopub.execute_input": "2024-08-14T17:43:49.571927Z",
          "iopub.status.idle": "2024-08-14T17:43:49.623507Z",
          "shell.execute_reply.started": "2024-08-14T17:43:49.571891Z",
          "shell.execute_reply": "2024-08-14T17:43:49.622477Z"
        },
        "trusted": true,
        "id": "QK-FKwS8RxeV"
      },
      "execution_count": null,
      "outputs": []
    },
    {
      "cell_type": "code",
      "source": [
        "def new_input(data: dict):\n",
        "    df = pd.DataFrame([data])\n",
        "    corr_matrix = df.corr()\n",
        "    corr_dict = dict(corr_matrix['fetal_health'])\n",
        "    drop_cols = [key for key,value in corr_dict.items() if abs(value)<0.05]\n",
        "    df.drop(drop_cols,axis=1,inplace=True)\n",
        "    df_prepared = imputer.fit_transform(df)\n",
        "    df_prepared = scaler.fit_transform(df_prepared)\n",
        "    return best_model.predict(df_prepared)"
      ],
      "metadata": {
        "execution": {
          "iopub.status.busy": "2024-08-14T18:27:20.923641Z",
          "iopub.execute_input": "2024-08-14T18:27:20.923979Z",
          "iopub.status.idle": "2024-08-14T18:27:20.93723Z",
          "shell.execute_reply.started": "2024-08-14T18:27:20.923952Z",
          "shell.execute_reply": "2024-08-14T18:27:20.936257Z"
        },
        "trusted": true,
        "id": "a2jGVgHMRxeV"
      },
      "execution_count": null,
      "outputs": []
    },
    {
      "cell_type": "markdown",
      "source": [
        "### now we go!\n",
        "#### **Note: First i test all model then remove the abundunt models which are not required or need soo much time to evaluate**"
      ],
      "metadata": {
        "id": "NLq1JX5yRxeV"
      }
    }
  ]
}