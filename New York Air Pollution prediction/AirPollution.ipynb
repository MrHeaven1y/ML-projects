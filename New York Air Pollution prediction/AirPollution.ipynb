{
 "cells": [
  {
   "cell_type": "code",
   "execution_count": 1,
   "metadata": {
    "id": "5iRy10srVLnd",
    "scrolled": true
   },
   "outputs": [],
   "source": [
    "import pandas as pd\n",
    "import numpy as np\n",
    "import matplotlib.pyplot as plt\n",
    "import seaborn as sns"
   ]
  },
  {
   "cell_type": "code",
   "execution_count": 2,
   "metadata": {
    "id": "v51qNd6kV9B7",
    "scrolled": true
   },
   "outputs": [],
   "source": [
    "df = pd.read_csv('Air_Quality.csv')"
   ]
  },
  {
   "cell_type": "code",
   "execution_count": 3,
   "metadata": {
    "colab": {
     "base_uri": "https://localhost:8080/",
     "height": 310
    },
    "id": "lciLPvudWEtW",
    "outputId": "6b7ddd8b-c6b9-45fa-d116-399f298a5845",
    "scrolled": true
   },
   "outputs": [
    {
     "data": {
      "text/html": [
       "<div>\n",
       "<style scoped>\n",
       "    .dataframe tbody tr th:only-of-type {\n",
       "        vertical-align: middle;\n",
       "    }\n",
       "\n",
       "    .dataframe tbody tr th {\n",
       "        vertical-align: top;\n",
       "    }\n",
       "\n",
       "    .dataframe thead th {\n",
       "        text-align: right;\n",
       "    }\n",
       "</style>\n",
       "<table border=\"1\" class=\"dataframe\">\n",
       "  <thead>\n",
       "    <tr style=\"text-align: right;\">\n",
       "      <th></th>\n",
       "      <th>Unique ID</th>\n",
       "      <th>Indicator ID</th>\n",
       "      <th>Name</th>\n",
       "      <th>Measure</th>\n",
       "      <th>Measure Info</th>\n",
       "      <th>Geo Type Name</th>\n",
       "      <th>Geo Join ID</th>\n",
       "      <th>Geo Place Name</th>\n",
       "      <th>Time Period</th>\n",
       "      <th>Start_Date</th>\n",
       "      <th>Data Value</th>\n",
       "      <th>Message</th>\n",
       "    </tr>\n",
       "  </thead>\n",
       "  <tbody>\n",
       "    <tr>\n",
       "      <th>0</th>\n",
       "      <td>172653</td>\n",
       "      <td>375</td>\n",
       "      <td>Nitrogen dioxide (NO2)</td>\n",
       "      <td>Mean</td>\n",
       "      <td>ppb</td>\n",
       "      <td>UHF34</td>\n",
       "      <td>203</td>\n",
       "      <td>Bedford Stuyvesant - Crown Heights</td>\n",
       "      <td>Annual Average 2011</td>\n",
       "      <td>12/01/2010</td>\n",
       "      <td>25.30</td>\n",
       "      <td>NaN</td>\n",
       "    </tr>\n",
       "    <tr>\n",
       "      <th>1</th>\n",
       "      <td>172585</td>\n",
       "      <td>375</td>\n",
       "      <td>Nitrogen dioxide (NO2)</td>\n",
       "      <td>Mean</td>\n",
       "      <td>ppb</td>\n",
       "      <td>UHF34</td>\n",
       "      <td>203</td>\n",
       "      <td>Bedford Stuyvesant - Crown Heights</td>\n",
       "      <td>Annual Average 2009</td>\n",
       "      <td>12/01/2008</td>\n",
       "      <td>26.93</td>\n",
       "      <td>NaN</td>\n",
       "    </tr>\n",
       "    <tr>\n",
       "      <th>2</th>\n",
       "      <td>336637</td>\n",
       "      <td>375</td>\n",
       "      <td>Nitrogen dioxide (NO2)</td>\n",
       "      <td>Mean</td>\n",
       "      <td>ppb</td>\n",
       "      <td>UHF34</td>\n",
       "      <td>204</td>\n",
       "      <td>East New York</td>\n",
       "      <td>Annual Average 2015</td>\n",
       "      <td>01/01/2015</td>\n",
       "      <td>19.09</td>\n",
       "      <td>NaN</td>\n",
       "    </tr>\n",
       "    <tr>\n",
       "      <th>3</th>\n",
       "      <td>336622</td>\n",
       "      <td>375</td>\n",
       "      <td>Nitrogen dioxide (NO2)</td>\n",
       "      <td>Mean</td>\n",
       "      <td>ppb</td>\n",
       "      <td>UHF34</td>\n",
       "      <td>103</td>\n",
       "      <td>Fordham - Bronx Pk</td>\n",
       "      <td>Annual Average 2015</td>\n",
       "      <td>01/01/2015</td>\n",
       "      <td>19.76</td>\n",
       "      <td>NaN</td>\n",
       "    </tr>\n",
       "    <tr>\n",
       "      <th>4</th>\n",
       "      <td>172582</td>\n",
       "      <td>375</td>\n",
       "      <td>Nitrogen dioxide (NO2)</td>\n",
       "      <td>Mean</td>\n",
       "      <td>ppb</td>\n",
       "      <td>UHF34</td>\n",
       "      <td>104</td>\n",
       "      <td>Pelham - Throgs Neck</td>\n",
       "      <td>Annual Average 2009</td>\n",
       "      <td>12/01/2008</td>\n",
       "      <td>22.83</td>\n",
       "      <td>NaN</td>\n",
       "    </tr>\n",
       "  </tbody>\n",
       "</table>\n",
       "</div>"
      ],
      "text/plain": [
       "   Unique ID  Indicator ID                    Name Measure Measure Info  \\\n",
       "0     172653           375  Nitrogen dioxide (NO2)    Mean          ppb   \n",
       "1     172585           375  Nitrogen dioxide (NO2)    Mean          ppb   \n",
       "2     336637           375  Nitrogen dioxide (NO2)    Mean          ppb   \n",
       "3     336622           375  Nitrogen dioxide (NO2)    Mean          ppb   \n",
       "4     172582           375  Nitrogen dioxide (NO2)    Mean          ppb   \n",
       "\n",
       "  Geo Type Name  Geo Join ID                      Geo Place Name  \\\n",
       "0         UHF34          203  Bedford Stuyvesant - Crown Heights   \n",
       "1         UHF34          203  Bedford Stuyvesant - Crown Heights   \n",
       "2         UHF34          204                       East New York   \n",
       "3         UHF34          103                  Fordham - Bronx Pk   \n",
       "4         UHF34          104                Pelham - Throgs Neck   \n",
       "\n",
       "           Time Period  Start_Date  Data Value  Message  \n",
       "0  Annual Average 2011  12/01/2010       25.30      NaN  \n",
       "1  Annual Average 2009  12/01/2008       26.93      NaN  \n",
       "2  Annual Average 2015  01/01/2015       19.09      NaN  \n",
       "3  Annual Average 2015  01/01/2015       19.76      NaN  \n",
       "4  Annual Average 2009  12/01/2008       22.83      NaN  "
      ]
     },
     "execution_count": 3,
     "metadata": {},
     "output_type": "execute_result"
    }
   ],
   "source": [
    "df.head(5)"
   ]
  },
  {
   "cell_type": "code",
   "execution_count": 4,
   "metadata": {
    "colab": {
     "base_uri": "https://localhost:8080/"
    },
    "id": "MnHb7H_ZWGKe",
    "outputId": "9895361f-098c-438a-fe96-9895a309041b",
    "scrolled": true
   },
   "outputs": [
    {
     "data": {
      "text/plain": [
       "Index(['Unique ID', 'Indicator ID', 'Name', 'Measure', 'Measure Info',\n",
       "       'Geo Type Name', 'Geo Join ID', 'Geo Place Name', 'Time Period',\n",
       "       'Start_Date', 'Data Value', 'Message'],\n",
       "      dtype='object')"
      ]
     },
     "execution_count": 4,
     "metadata": {},
     "output_type": "execute_result"
    }
   ],
   "source": [
    "df.columns"
   ]
  },
  {
   "cell_type": "code",
   "execution_count": 5,
   "metadata": {
    "colab": {
     "base_uri": "https://localhost:8080/"
    },
    "id": "f8FRRvq7WeBA",
    "outputId": "8f09468e-3dd1-4646-9207-6f2bc41d674a",
    "scrolled": true
   },
   "outputs": [
    {
     "data": {
      "text/plain": [
       "0"
      ]
     },
     "execution_count": 5,
     "metadata": {},
     "output_type": "execute_result"
    }
   ],
   "source": [
    "df['Message'].nunique()"
   ]
  },
  {
   "cell_type": "code",
   "execution_count": 6,
   "metadata": {
    "colab": {
     "base_uri": "https://localhost:8080/"
    },
    "id": "lRwyPgvKavz7",
    "outputId": "3cde8627-0138-4f45-dc78-25df189b8d7a",
    "scrolled": true
   },
   "outputs": [
    {
     "data": {
      "text/plain": [
       "(Geo Join ID\n",
       " 203       342\n",
       " 207       342\n",
       " 405       342\n",
       " 401       342\n",
       " 205       342\n",
       "          ... \n",
       " 404406     92\n",
       " 306308     92\n",
       " 305307     92\n",
       " 501502     92\n",
       " 309310     92\n",
       " Name: count, Length: 72, dtype: int64,\n",
       " Geo Place Name\n",
       " Bedford Stuyvesant - Crown Heights    242\n",
       " West Queens                           242\n",
       " Flushing - Clearview                  242\n",
       " Upper West Side                       242\n",
       " Jamaica                               242\n",
       "                                      ... \n",
       " Bayside Little Neck-Fresh Meadows      92\n",
       " Northern SI                            92\n",
       " Upper East Side-Gramercy               92\n",
       " Union Square-Lower Manhattan           92\n",
       " Chelsea-Village                        92\n",
       " Name: count, Length: 114, dtype: int64)"
      ]
     },
     "execution_count": 6,
     "metadata": {},
     "output_type": "execute_result"
    }
   ],
   "source": [
    "df['Geo Join ID'].value_counts(),df['Geo Place Name'].value_counts()"
   ]
  },
  {
   "cell_type": "code",
   "execution_count": 7,
   "metadata": {
    "id": "7xOzEE-iXmWP",
    "scrolled": true
   },
   "outputs": [],
   "source": [
    "df1 = df.drop(['Message','Unique ID'],axis=1).copy()"
   ]
  },
  {
   "cell_type": "code",
   "execution_count": 8,
   "metadata": {
    "colab": {
     "base_uri": "https://localhost:8080/",
     "height": 597
    },
    "id": "viX21WZ9bRoX",
    "outputId": "9d55fdfa-2d82-4db1-8af6-f4601ac1edc8",
    "scrolled": true
   },
   "outputs": [
    {
     "data": {
      "text/html": [
       "<div>\n",
       "<style scoped>\n",
       "    .dataframe tbody tr th:only-of-type {\n",
       "        vertical-align: middle;\n",
       "    }\n",
       "\n",
       "    .dataframe tbody tr th {\n",
       "        vertical-align: top;\n",
       "    }\n",
       "\n",
       "    .dataframe thead th {\n",
       "        text-align: right;\n",
       "    }\n",
       "</style>\n",
       "<table border=\"1\" class=\"dataframe\">\n",
       "  <thead>\n",
       "    <tr style=\"text-align: right;\">\n",
       "      <th></th>\n",
       "      <th>Indicator ID</th>\n",
       "      <th>Name</th>\n",
       "      <th>Measure</th>\n",
       "      <th>Measure Info</th>\n",
       "      <th>Geo Type Name</th>\n",
       "      <th>Geo Join ID</th>\n",
       "      <th>Geo Place Name</th>\n",
       "      <th>Time Period</th>\n",
       "      <th>Start_Date</th>\n",
       "      <th>Data Value</th>\n",
       "    </tr>\n",
       "  </thead>\n",
       "  <tbody>\n",
       "    <tr>\n",
       "      <th>0</th>\n",
       "      <td>375</td>\n",
       "      <td>Nitrogen dioxide (NO2)</td>\n",
       "      <td>Mean</td>\n",
       "      <td>ppb</td>\n",
       "      <td>UHF34</td>\n",
       "      <td>203</td>\n",
       "      <td>Bedford Stuyvesant - Crown Heights</td>\n",
       "      <td>Annual Average 2011</td>\n",
       "      <td>12/01/2010</td>\n",
       "      <td>25.30</td>\n",
       "    </tr>\n",
       "    <tr>\n",
       "      <th>1</th>\n",
       "      <td>375</td>\n",
       "      <td>Nitrogen dioxide (NO2)</td>\n",
       "      <td>Mean</td>\n",
       "      <td>ppb</td>\n",
       "      <td>UHF34</td>\n",
       "      <td>203</td>\n",
       "      <td>Bedford Stuyvesant - Crown Heights</td>\n",
       "      <td>Annual Average 2009</td>\n",
       "      <td>12/01/2008</td>\n",
       "      <td>26.93</td>\n",
       "    </tr>\n",
       "    <tr>\n",
       "      <th>2</th>\n",
       "      <td>375</td>\n",
       "      <td>Nitrogen dioxide (NO2)</td>\n",
       "      <td>Mean</td>\n",
       "      <td>ppb</td>\n",
       "      <td>UHF34</td>\n",
       "      <td>204</td>\n",
       "      <td>East New York</td>\n",
       "      <td>Annual Average 2015</td>\n",
       "      <td>01/01/2015</td>\n",
       "      <td>19.09</td>\n",
       "    </tr>\n",
       "    <tr>\n",
       "      <th>3</th>\n",
       "      <td>375</td>\n",
       "      <td>Nitrogen dioxide (NO2)</td>\n",
       "      <td>Mean</td>\n",
       "      <td>ppb</td>\n",
       "      <td>UHF34</td>\n",
       "      <td>103</td>\n",
       "      <td>Fordham - Bronx Pk</td>\n",
       "      <td>Annual Average 2015</td>\n",
       "      <td>01/01/2015</td>\n",
       "      <td>19.76</td>\n",
       "    </tr>\n",
       "    <tr>\n",
       "      <th>4</th>\n",
       "      <td>375</td>\n",
       "      <td>Nitrogen dioxide (NO2)</td>\n",
       "      <td>Mean</td>\n",
       "      <td>ppb</td>\n",
       "      <td>UHF34</td>\n",
       "      <td>104</td>\n",
       "      <td>Pelham - Throgs Neck</td>\n",
       "      <td>Annual Average 2009</td>\n",
       "      <td>12/01/2008</td>\n",
       "      <td>22.83</td>\n",
       "    </tr>\n",
       "    <tr>\n",
       "      <th>...</th>\n",
       "      <td>...</td>\n",
       "      <td>...</td>\n",
       "      <td>...</td>\n",
       "      <td>...</td>\n",
       "      <td>...</td>\n",
       "      <td>...</td>\n",
       "      <td>...</td>\n",
       "      <td>...</td>\n",
       "      <td>...</td>\n",
       "      <td>...</td>\n",
       "    </tr>\n",
       "    <tr>\n",
       "      <th>16213</th>\n",
       "      <td>647</td>\n",
       "      <td>Outdoor Air Toxics - Formaldehyde</td>\n",
       "      <td>Annual average concentration</td>\n",
       "      <td>µg/m3</td>\n",
       "      <td>UHF42</td>\n",
       "      <td>211</td>\n",
       "      <td>Williamsburg - Bushwick</td>\n",
       "      <td>2005</td>\n",
       "      <td>01/01/2005</td>\n",
       "      <td>3.10</td>\n",
       "    </tr>\n",
       "    <tr>\n",
       "      <th>16214</th>\n",
       "      <td>647</td>\n",
       "      <td>Outdoor Air Toxics - Formaldehyde</td>\n",
       "      <td>Annual average concentration</td>\n",
       "      <td>µg/m3</td>\n",
       "      <td>Borough</td>\n",
       "      <td>5</td>\n",
       "      <td>Staten Island</td>\n",
       "      <td>2005</td>\n",
       "      <td>01/01/2005</td>\n",
       "      <td>2.30</td>\n",
       "    </tr>\n",
       "    <tr>\n",
       "      <th>16215</th>\n",
       "      <td>652</td>\n",
       "      <td>Cardiac and respiratory deaths due to Ozone</td>\n",
       "      <td>Estimated annual rate</td>\n",
       "      <td>per 100,000</td>\n",
       "      <td>UHF42</td>\n",
       "      <td>504</td>\n",
       "      <td>South Beach - Tottenville</td>\n",
       "      <td>2005-2007</td>\n",
       "      <td>01/01/2005</td>\n",
       "      <td>7.50</td>\n",
       "    </tr>\n",
       "    <tr>\n",
       "      <th>16216</th>\n",
       "      <td>652</td>\n",
       "      <td>Cardiac and respiratory deaths due to Ozone</td>\n",
       "      <td>Estimated annual rate</td>\n",
       "      <td>per 100,000</td>\n",
       "      <td>Borough</td>\n",
       "      <td>5</td>\n",
       "      <td>Staten Island</td>\n",
       "      <td>2005-2007</td>\n",
       "      <td>01/01/2005</td>\n",
       "      <td>7.80</td>\n",
       "    </tr>\n",
       "    <tr>\n",
       "      <th>16217</th>\n",
       "      <td>643</td>\n",
       "      <td>Annual vehicle miles traveled</td>\n",
       "      <td>million miles</td>\n",
       "      <td>per km2</td>\n",
       "      <td>CD</td>\n",
       "      <td>107</td>\n",
       "      <td>Upper West Side (CD7)</td>\n",
       "      <td>2016</td>\n",
       "      <td>01/01/2016</td>\n",
       "      <td>50.00</td>\n",
       "    </tr>\n",
       "  </tbody>\n",
       "</table>\n",
       "<p>16218 rows × 10 columns</p>\n",
       "</div>"
      ],
      "text/plain": [
       "       Indicator ID                                         Name  \\\n",
       "0               375                       Nitrogen dioxide (NO2)   \n",
       "1               375                       Nitrogen dioxide (NO2)   \n",
       "2               375                       Nitrogen dioxide (NO2)   \n",
       "3               375                       Nitrogen dioxide (NO2)   \n",
       "4               375                       Nitrogen dioxide (NO2)   \n",
       "...             ...                                          ...   \n",
       "16213           647            Outdoor Air Toxics - Formaldehyde   \n",
       "16214           647            Outdoor Air Toxics - Formaldehyde   \n",
       "16215           652  Cardiac and respiratory deaths due to Ozone   \n",
       "16216           652  Cardiac and respiratory deaths due to Ozone   \n",
       "16217           643                Annual vehicle miles traveled   \n",
       "\n",
       "                            Measure Measure Info Geo Type Name  Geo Join ID  \\\n",
       "0                              Mean          ppb         UHF34          203   \n",
       "1                              Mean          ppb         UHF34          203   \n",
       "2                              Mean          ppb         UHF34          204   \n",
       "3                              Mean          ppb         UHF34          103   \n",
       "4                              Mean          ppb         UHF34          104   \n",
       "...                             ...          ...           ...          ...   \n",
       "16213  Annual average concentration        µg/m3         UHF42          211   \n",
       "16214  Annual average concentration        µg/m3       Borough            5   \n",
       "16215         Estimated annual rate  per 100,000         UHF42          504   \n",
       "16216         Estimated annual rate  per 100,000       Borough            5   \n",
       "16217                 million miles      per km2            CD          107   \n",
       "\n",
       "                           Geo Place Name          Time Period  Start_Date  \\\n",
       "0      Bedford Stuyvesant - Crown Heights  Annual Average 2011  12/01/2010   \n",
       "1      Bedford Stuyvesant - Crown Heights  Annual Average 2009  12/01/2008   \n",
       "2                           East New York  Annual Average 2015  01/01/2015   \n",
       "3                      Fordham - Bronx Pk  Annual Average 2015  01/01/2015   \n",
       "4                    Pelham - Throgs Neck  Annual Average 2009  12/01/2008   \n",
       "...                                   ...                  ...         ...   \n",
       "16213             Williamsburg - Bushwick                 2005  01/01/2005   \n",
       "16214                       Staten Island                 2005  01/01/2005   \n",
       "16215           South Beach - Tottenville            2005-2007  01/01/2005   \n",
       "16216                       Staten Island            2005-2007  01/01/2005   \n",
       "16217               Upper West Side (CD7)                 2016  01/01/2016   \n",
       "\n",
       "       Data Value  \n",
       "0           25.30  \n",
       "1           26.93  \n",
       "2           19.09  \n",
       "3           19.76  \n",
       "4           22.83  \n",
       "...           ...  \n",
       "16213        3.10  \n",
       "16214        2.30  \n",
       "16215        7.50  \n",
       "16216        7.80  \n",
       "16217       50.00  \n",
       "\n",
       "[16218 rows x 10 columns]"
      ]
     },
     "execution_count": 8,
     "metadata": {},
     "output_type": "execute_result"
    }
   ],
   "source": [
    "df1"
   ]
  },
  {
   "cell_type": "code",
   "execution_count": 9,
   "metadata": {
    "colab": {
     "base_uri": "https://localhost:8080/"
    },
    "id": "UwVxh-AN4Q5G",
    "outputId": "fd36d1ae-5769-4423-8502-f9a1fa04897a",
    "scrolled": true
   },
   "outputs": [
    {
     "data": {
      "text/plain": [
       "Indicator ID\n",
       "375    5499\n",
       "365    5499\n",
       "386    1974\n",
       "644     214\n",
       "643     209\n",
       "645     209\n",
       "646     203\n",
       "647     203\n",
       "653     192\n",
       "655     192\n",
       "659     192\n",
       "652     192\n",
       "639     192\n",
       "651     192\n",
       "650     192\n",
       "661     192\n",
       "657     192\n",
       "648     192\n",
       "642      96\n",
       "640      96\n",
       "641      96\n",
       "Name: count, dtype: int64"
      ]
     },
     "execution_count": 9,
     "metadata": {},
     "output_type": "execute_result"
    }
   ],
   "source": [
    "df['Indicator ID'].value_counts()"
   ]
  },
  {
   "cell_type": "code",
   "execution_count": 10,
   "metadata": {
    "colab": {
     "base_uri": "https://localhost:8080/"
    },
    "id": "kNiLXi9f4Q5H",
    "outputId": "f5267a40-2386-4c66-9dce-3b5d0cf4d0e2",
    "scrolled": true
   },
   "outputs": [
    {
     "data": {
      "text/plain": [
       "18"
      ]
     },
     "execution_count": 10,
     "metadata": {},
     "output_type": "execute_result"
    }
   ],
   "source": [
    "df.Name.nunique()"
   ]
  },
  {
   "cell_type": "code",
   "execution_count": 11,
   "metadata": {
    "colab": {
     "base_uri": "https://localhost:8080/"
    },
    "id": "3PAmSm1W4Q5H",
    "outputId": "ca371f90-f852-4107-c32c-162476dc5e12",
    "scrolled": true
   },
   "outputs": [
    {
     "data": {
      "text/plain": [
       "21"
      ]
     },
     "execution_count": 11,
     "metadata": {},
     "output_type": "execute_result"
    }
   ],
   "source": [
    "df['Indicator ID'].nunique()"
   ]
  },
  {
   "cell_type": "code",
   "execution_count": 12,
   "metadata": {
    "id": "7SXwPql04Q5H",
    "scrolled": true
   },
   "outputs": [],
   "source": [
    "names=df['Name'].value_counts()"
   ]
  },
  {
   "cell_type": "code",
   "execution_count": 13,
   "metadata": {
    "id": "Sg_lxukp4Q5H",
    "scrolled": true
   },
   "outputs": [
    {
     "data": {
      "text/plain": [
       "{'Nitrogen dioxide (NO2)': 375,\n",
       " 'Fine particles (PM 2.5)': 365,\n",
       " 'Ozone (O3)': 386,\n",
       " 'Asthma emergency department visits due to PM2.5': 648,\n",
       " 'Annual vehicle miles traveled': 643,\n",
       " 'Asthma hospitalizations due to Ozone': 655,\n",
       " 'Respiratory hospitalizations due to PM2.5 (age 20+)': 650,\n",
       " 'Boiler Emissions- Total SO2 Emissions': 640,\n",
       " 'Cardiovascular hospitalizations due to PM2.5 (age 40+)': 651,\n",
       " 'Boiler Emissions- Total PM2.5 Emissions': 641,\n",
       " 'Boiler Emissions- Total NOx Emissions': 642,\n",
       " 'Annual vehicle miles travelled (cars)': 644,\n",
       " 'Annual vehicle miles travelled (trucks)': 645,\n",
       " 'Cardiac and respiratory deaths due to Ozone': 652,\n",
       " 'Asthma emergency departments visits due to Ozone': 659,\n",
       " 'Outdoor Air Toxics - Formaldehyde': 647,\n",
       " 'Outdoor Air Toxics - Benzene': 646,\n",
       " 'Deaths due to PM2.5': 639}"
      ]
     },
     "execution_count": 13,
     "metadata": {},
     "output_type": "execute_result"
    }
   ],
   "source": [
    "indicator_names = {}\n",
    "for name, Id in df.iterrows():\n",
    "    name=Id['Name']\n",
    "    iD =Id['Indicator ID']\n",
    "    indicator_names[name]=iD\n",
    "indicator_names"
   ]
  },
  {
   "cell_type": "code",
   "execution_count": null,
   "metadata": {
    "colab": {
     "base_uri": "https://localhost:8080/"
    },
    "id": "CCfs-lOA4Q5H",
    "outputId": "9f17077a-6150-46d7-cae7-84c834999023",
    "scrolled": true
   },
   "outputs": [],
   "source": []
  },
  {
   "cell_type": "markdown",
   "metadata": {
    "id": "wAcz2wCb4Q5H"
   },
   "source": [
    "## Since We determine a dictonary for determining the indicators name now we can remove indicator names from data because it's easy for model to work with numerical data rather than a categorical data"
   ]
  },
  {
   "cell_type": "code",
   "execution_count": 14,
   "metadata": {
    "id": "olpdqYvN4Q5I",
    "scrolled": true
   },
   "outputs": [],
   "source": [
    "df2 = df1.drop('Name', axis='columns').copy()"
   ]
  },
  {
   "cell_type": "code",
   "execution_count": 15,
   "metadata": {
    "colab": {
     "base_uri": "https://localhost:8080/",
     "height": 423
    },
    "id": "hS3iSP9v4Q5I",
    "outputId": "1b9db467-a76f-4593-b830-4bcbc8e0c63f",
    "scrolled": true
   },
   "outputs": [
    {
     "data": {
      "text/html": [
       "<div>\n",
       "<style scoped>\n",
       "    .dataframe tbody tr th:only-of-type {\n",
       "        vertical-align: middle;\n",
       "    }\n",
       "\n",
       "    .dataframe tbody tr th {\n",
       "        vertical-align: top;\n",
       "    }\n",
       "\n",
       "    .dataframe thead th {\n",
       "        text-align: right;\n",
       "    }\n",
       "</style>\n",
       "<table border=\"1\" class=\"dataframe\">\n",
       "  <thead>\n",
       "    <tr style=\"text-align: right;\">\n",
       "      <th></th>\n",
       "      <th>Indicator ID</th>\n",
       "      <th>Measure</th>\n",
       "      <th>Measure Info</th>\n",
       "      <th>Geo Type Name</th>\n",
       "      <th>Geo Join ID</th>\n",
       "      <th>Geo Place Name</th>\n",
       "      <th>Time Period</th>\n",
       "      <th>Start_Date</th>\n",
       "      <th>Data Value</th>\n",
       "    </tr>\n",
       "  </thead>\n",
       "  <tbody>\n",
       "    <tr>\n",
       "      <th>0</th>\n",
       "      <td>375</td>\n",
       "      <td>Mean</td>\n",
       "      <td>ppb</td>\n",
       "      <td>UHF34</td>\n",
       "      <td>203</td>\n",
       "      <td>Bedford Stuyvesant - Crown Heights</td>\n",
       "      <td>Annual Average 2011</td>\n",
       "      <td>12/01/2010</td>\n",
       "      <td>25.30</td>\n",
       "    </tr>\n",
       "    <tr>\n",
       "      <th>1</th>\n",
       "      <td>375</td>\n",
       "      <td>Mean</td>\n",
       "      <td>ppb</td>\n",
       "      <td>UHF34</td>\n",
       "      <td>203</td>\n",
       "      <td>Bedford Stuyvesant - Crown Heights</td>\n",
       "      <td>Annual Average 2009</td>\n",
       "      <td>12/01/2008</td>\n",
       "      <td>26.93</td>\n",
       "    </tr>\n",
       "    <tr>\n",
       "      <th>2</th>\n",
       "      <td>375</td>\n",
       "      <td>Mean</td>\n",
       "      <td>ppb</td>\n",
       "      <td>UHF34</td>\n",
       "      <td>204</td>\n",
       "      <td>East New York</td>\n",
       "      <td>Annual Average 2015</td>\n",
       "      <td>01/01/2015</td>\n",
       "      <td>19.09</td>\n",
       "    </tr>\n",
       "    <tr>\n",
       "      <th>3</th>\n",
       "      <td>375</td>\n",
       "      <td>Mean</td>\n",
       "      <td>ppb</td>\n",
       "      <td>UHF34</td>\n",
       "      <td>103</td>\n",
       "      <td>Fordham - Bronx Pk</td>\n",
       "      <td>Annual Average 2015</td>\n",
       "      <td>01/01/2015</td>\n",
       "      <td>19.76</td>\n",
       "    </tr>\n",
       "    <tr>\n",
       "      <th>4</th>\n",
       "      <td>375</td>\n",
       "      <td>Mean</td>\n",
       "      <td>ppb</td>\n",
       "      <td>UHF34</td>\n",
       "      <td>104</td>\n",
       "      <td>Pelham - Throgs Neck</td>\n",
       "      <td>Annual Average 2009</td>\n",
       "      <td>12/01/2008</td>\n",
       "      <td>22.83</td>\n",
       "    </tr>\n",
       "    <tr>\n",
       "      <th>...</th>\n",
       "      <td>...</td>\n",
       "      <td>...</td>\n",
       "      <td>...</td>\n",
       "      <td>...</td>\n",
       "      <td>...</td>\n",
       "      <td>...</td>\n",
       "      <td>...</td>\n",
       "      <td>...</td>\n",
       "      <td>...</td>\n",
       "    </tr>\n",
       "    <tr>\n",
       "      <th>16213</th>\n",
       "      <td>647</td>\n",
       "      <td>Annual average concentration</td>\n",
       "      <td>µg/m3</td>\n",
       "      <td>UHF42</td>\n",
       "      <td>211</td>\n",
       "      <td>Williamsburg - Bushwick</td>\n",
       "      <td>2005</td>\n",
       "      <td>01/01/2005</td>\n",
       "      <td>3.10</td>\n",
       "    </tr>\n",
       "    <tr>\n",
       "      <th>16214</th>\n",
       "      <td>647</td>\n",
       "      <td>Annual average concentration</td>\n",
       "      <td>µg/m3</td>\n",
       "      <td>Borough</td>\n",
       "      <td>5</td>\n",
       "      <td>Staten Island</td>\n",
       "      <td>2005</td>\n",
       "      <td>01/01/2005</td>\n",
       "      <td>2.30</td>\n",
       "    </tr>\n",
       "    <tr>\n",
       "      <th>16215</th>\n",
       "      <td>652</td>\n",
       "      <td>Estimated annual rate</td>\n",
       "      <td>per 100,000</td>\n",
       "      <td>UHF42</td>\n",
       "      <td>504</td>\n",
       "      <td>South Beach - Tottenville</td>\n",
       "      <td>2005-2007</td>\n",
       "      <td>01/01/2005</td>\n",
       "      <td>7.50</td>\n",
       "    </tr>\n",
       "    <tr>\n",
       "      <th>16216</th>\n",
       "      <td>652</td>\n",
       "      <td>Estimated annual rate</td>\n",
       "      <td>per 100,000</td>\n",
       "      <td>Borough</td>\n",
       "      <td>5</td>\n",
       "      <td>Staten Island</td>\n",
       "      <td>2005-2007</td>\n",
       "      <td>01/01/2005</td>\n",
       "      <td>7.80</td>\n",
       "    </tr>\n",
       "    <tr>\n",
       "      <th>16217</th>\n",
       "      <td>643</td>\n",
       "      <td>million miles</td>\n",
       "      <td>per km2</td>\n",
       "      <td>CD</td>\n",
       "      <td>107</td>\n",
       "      <td>Upper West Side (CD7)</td>\n",
       "      <td>2016</td>\n",
       "      <td>01/01/2016</td>\n",
       "      <td>50.00</td>\n",
       "    </tr>\n",
       "  </tbody>\n",
       "</table>\n",
       "<p>16218 rows × 9 columns</p>\n",
       "</div>"
      ],
      "text/plain": [
       "       Indicator ID                       Measure Measure Info Geo Type Name  \\\n",
       "0               375                          Mean          ppb         UHF34   \n",
       "1               375                          Mean          ppb         UHF34   \n",
       "2               375                          Mean          ppb         UHF34   \n",
       "3               375                          Mean          ppb         UHF34   \n",
       "4               375                          Mean          ppb         UHF34   \n",
       "...             ...                           ...          ...           ...   \n",
       "16213           647  Annual average concentration        µg/m3         UHF42   \n",
       "16214           647  Annual average concentration        µg/m3       Borough   \n",
       "16215           652         Estimated annual rate  per 100,000         UHF42   \n",
       "16216           652         Estimated annual rate  per 100,000       Borough   \n",
       "16217           643                 million miles      per km2            CD   \n",
       "\n",
       "       Geo Join ID                      Geo Place Name          Time Period  \\\n",
       "0              203  Bedford Stuyvesant - Crown Heights  Annual Average 2011   \n",
       "1              203  Bedford Stuyvesant - Crown Heights  Annual Average 2009   \n",
       "2              204                       East New York  Annual Average 2015   \n",
       "3              103                  Fordham - Bronx Pk  Annual Average 2015   \n",
       "4              104                Pelham - Throgs Neck  Annual Average 2009   \n",
       "...            ...                                 ...                  ...   \n",
       "16213          211             Williamsburg - Bushwick                 2005   \n",
       "16214            5                       Staten Island                 2005   \n",
       "16215          504           South Beach - Tottenville            2005-2007   \n",
       "16216            5                       Staten Island            2005-2007   \n",
       "16217          107               Upper West Side (CD7)                 2016   \n",
       "\n",
       "       Start_Date  Data Value  \n",
       "0      12/01/2010       25.30  \n",
       "1      12/01/2008       26.93  \n",
       "2      01/01/2015       19.09  \n",
       "3      01/01/2015       19.76  \n",
       "4      12/01/2008       22.83  \n",
       "...           ...         ...  \n",
       "16213  01/01/2005        3.10  \n",
       "16214  01/01/2005        2.30  \n",
       "16215  01/01/2005        7.50  \n",
       "16216  01/01/2005        7.80  \n",
       "16217  01/01/2016       50.00  \n",
       "\n",
       "[16218 rows x 9 columns]"
      ]
     },
     "execution_count": 15,
     "metadata": {},
     "output_type": "execute_result"
    }
   ],
   "source": [
    "df2"
   ]
  },
  {
   "cell_type": "markdown",
   "metadata": {
    "id": "aMgzNcz34Q5I"
   },
   "source": [
    "## Now sorted out indicator names and unwanted columns let's work on the indicators importance in weather and its relevance measurement"
   ]
  },
  {
   "cell_type": "code",
   "execution_count": 16,
   "metadata": {
    "id": "5iQ6v3684Q5J",
    "scrolled": true
   },
   "outputs": [],
   "source": [
    "def idxn(n):\n",
    "    try:\n",
    "        indicator_key = next(key for key, value in indicator_names.items() if value == int(n))\n",
    "        return indicator_key\n",
    "    except Exception as e:\n",
    "        print(\"no such data\")"
   ]
  },
  {
   "cell_type": "code",
   "execution_count": 17,
   "metadata": {
    "colab": {
     "base_uri": "https://localhost:8080/",
     "height": 36
    },
    "id": "Ntv7RBct4Q5J",
    "outputId": "0d72575d-ea0c-4e31-c78f-0becd33fcec4",
    "scrolled": true
   },
   "outputs": [
    {
     "data": {
      "text/plain": [
       "'Outdoor Air Toxics - Formaldehyde'"
      ]
     },
     "execution_count": 17,
     "metadata": {},
     "output_type": "execute_result"
    }
   ],
   "source": [
    "idxn(647)"
   ]
  },
  {
   "cell_type": "code",
   "execution_count": 18,
   "metadata": {
    "colab": {
     "base_uri": "https://localhost:8080/"
    },
    "id": "KYdnaPC-4Q5J",
    "outputId": "2e89b9a9-4ff5-405c-e14e-9fdb8a2ca473",
    "scrolled": true
   },
   "outputs": [
    {
     "data": {
      "text/plain": [
       "Measure Info\n",
       "ppb                     7473\n",
       "mcg/m3                  5499\n",
       "per 100,000 adults      1152\n",
       "per km2                  632\n",
       "per 100,000 children     576\n",
       "µg/m3                    406\n",
       "number                   288\n",
       "per 100,000              192\n",
       "Name: count, dtype: int64"
      ]
     },
     "execution_count": 18,
     "metadata": {},
     "output_type": "execute_result"
    }
   ],
   "source": [
    "df['Measure Info'].value_counts()"
   ]
  },
  {
   "cell_type": "code",
   "execution_count": 19,
   "metadata": {
    "colab": {
     "base_uri": "https://localhost:8080/"
    },
    "id": "OHgIu3o84Q5J",
    "outputId": "9f2e3976-3185-44e5-ccdd-0d4efdc4ef7f",
    "scrolled": true
   },
   "outputs": [
    {
     "data": {
      "text/plain": [
       "424.7"
      ]
     },
     "execution_count": 19,
     "metadata": {},
     "output_type": "execute_result"
    }
   ],
   "source": [
    "max(df2['Data Value'])"
   ]
  },
  {
   "cell_type": "code",
   "execution_count": 20,
   "metadata": {
    "colab": {
     "base_uri": "https://localhost:8080/",
     "height": 81
    },
    "id": "HMpzXS4s4Q5J",
    "outputId": "90234d9e-bb97-4e44-a3f1-01207d1eca5a",
    "scrolled": true
   },
   "outputs": [
    {
     "data": {
      "text/html": [
       "<div>\n",
       "<style scoped>\n",
       "    .dataframe tbody tr th:only-of-type {\n",
       "        vertical-align: middle;\n",
       "    }\n",
       "\n",
       "    .dataframe tbody tr th {\n",
       "        vertical-align: top;\n",
       "    }\n",
       "\n",
       "    .dataframe thead th {\n",
       "        text-align: right;\n",
       "    }\n",
       "</style>\n",
       "<table border=\"1\" class=\"dataframe\">\n",
       "  <thead>\n",
       "    <tr style=\"text-align: right;\">\n",
       "      <th></th>\n",
       "      <th>Indicator ID</th>\n",
       "      <th>Measure</th>\n",
       "      <th>Measure Info</th>\n",
       "      <th>Geo Type Name</th>\n",
       "      <th>Geo Join ID</th>\n",
       "      <th>Geo Place Name</th>\n",
       "      <th>Time Period</th>\n",
       "      <th>Start_Date</th>\n",
       "      <th>Data Value</th>\n",
       "    </tr>\n",
       "  </thead>\n",
       "  <tbody>\n",
       "    <tr>\n",
       "      <th>6116</th>\n",
       "      <td>648</td>\n",
       "      <td>Estimated annual rate (under age 18)</td>\n",
       "      <td>per 100,000 children</td>\n",
       "      <td>UHF42</td>\n",
       "      <td>302</td>\n",
       "      <td>Central Harlem - Morningside Heights</td>\n",
       "      <td>2005-2007</td>\n",
       "      <td>01/01/2005</td>\n",
       "      <td>424.7</td>\n",
       "    </tr>\n",
       "  </tbody>\n",
       "</table>\n",
       "</div>"
      ],
      "text/plain": [
       "      Indicator ID                               Measure  \\\n",
       "6116           648  Estimated annual rate (under age 18)   \n",
       "\n",
       "              Measure Info Geo Type Name  Geo Join ID  \\\n",
       "6116  per 100,000 children         UHF42          302   \n",
       "\n",
       "                            Geo Place Name Time Period  Start_Date  Data Value  \n",
       "6116  Central Harlem - Morningside Heights   2005-2007  01/01/2005       424.7  "
      ]
     },
     "execution_count": 20,
     "metadata": {},
     "output_type": "execute_result"
    }
   ],
   "source": [
    "df2[df['Data Value'] == 424.7]"
   ]
  },
  {
   "cell_type": "code",
   "execution_count": 21,
   "metadata": {
    "colab": {
     "base_uri": "https://localhost:8080/"
    },
    "id": "E8gOb0Le4Q5J",
    "outputId": "38c28202-6766-422b-cd67-559535a6779c",
    "scrolled": true
   },
   "outputs": [
    {
     "data": {
      "text/plain": [
       "0.0"
      ]
     },
     "execution_count": 21,
     "metadata": {},
     "output_type": "execute_result"
    }
   ],
   "source": [
    "min(df2['Data Value'])"
   ]
  },
  {
   "cell_type": "code",
   "execution_count": 22,
   "metadata": {
    "colab": {
     "base_uri": "https://localhost:8080/",
     "height": 990
    },
    "id": "j_CfmKvc4Q5J",
    "outputId": "5e167bb8-950a-4792-e061-9a92e1387308",
    "scrolled": true
   },
   "outputs": [
    {
     "data": {
      "text/html": [
       "<div>\n",
       "<style scoped>\n",
       "    .dataframe tbody tr th:only-of-type {\n",
       "        vertical-align: middle;\n",
       "    }\n",
       "\n",
       "    .dataframe tbody tr th {\n",
       "        vertical-align: top;\n",
       "    }\n",
       "\n",
       "    .dataframe thead th {\n",
       "        text-align: right;\n",
       "    }\n",
       "</style>\n",
       "<table border=\"1\" class=\"dataframe\">\n",
       "  <thead>\n",
       "    <tr style=\"text-align: right;\">\n",
       "      <th></th>\n",
       "      <th>Indicator ID</th>\n",
       "      <th>Measure</th>\n",
       "      <th>Measure Info</th>\n",
       "      <th>Geo Type Name</th>\n",
       "      <th>Geo Join ID</th>\n",
       "      <th>Geo Place Name</th>\n",
       "      <th>Time Period</th>\n",
       "      <th>Start_Date</th>\n",
       "      <th>Data Value</th>\n",
       "    </tr>\n",
       "  </thead>\n",
       "  <tbody>\n",
       "    <tr>\n",
       "      <th>2332</th>\n",
       "      <td>640</td>\n",
       "      <td>Number per km2</td>\n",
       "      <td>number</td>\n",
       "      <td>UHF42</td>\n",
       "      <td>410</td>\n",
       "      <td>Rockaways</td>\n",
       "      <td>2013</td>\n",
       "      <td>01/01/2013</td>\n",
       "      <td>0.0</td>\n",
       "    </tr>\n",
       "    <tr>\n",
       "      <th>4232</th>\n",
       "      <td>640</td>\n",
       "      <td>Number per km2</td>\n",
       "      <td>number</td>\n",
       "      <td>UHF42</td>\n",
       "      <td>503</td>\n",
       "      <td>Willowbrook</td>\n",
       "      <td>2015</td>\n",
       "      <td>01/01/2015</td>\n",
       "      <td>0.0</td>\n",
       "    </tr>\n",
       "    <tr>\n",
       "      <th>4790</th>\n",
       "      <td>640</td>\n",
       "      <td>Number per km2</td>\n",
       "      <td>number</td>\n",
       "      <td>UHF42</td>\n",
       "      <td>501</td>\n",
       "      <td>Port Richmond</td>\n",
       "      <td>2015</td>\n",
       "      <td>01/01/2015</td>\n",
       "      <td>0.0</td>\n",
       "    </tr>\n",
       "    <tr>\n",
       "      <th>4938</th>\n",
       "      <td>641</td>\n",
       "      <td>Number per km2</td>\n",
       "      <td>number</td>\n",
       "      <td>UHF42</td>\n",
       "      <td>201</td>\n",
       "      <td>Greenpoint</td>\n",
       "      <td>2015</td>\n",
       "      <td>01/01/2015</td>\n",
       "      <td>0.0</td>\n",
       "    </tr>\n",
       "    <tr>\n",
       "      <th>5330</th>\n",
       "      <td>640</td>\n",
       "      <td>Number per km2</td>\n",
       "      <td>number</td>\n",
       "      <td>UHF42</td>\n",
       "      <td>501</td>\n",
       "      <td>Port Richmond</td>\n",
       "      <td>2013</td>\n",
       "      <td>01/01/2013</td>\n",
       "      <td>0.0</td>\n",
       "    </tr>\n",
       "    <tr>\n",
       "      <th>5746</th>\n",
       "      <td>640</td>\n",
       "      <td>Number per km2</td>\n",
       "      <td>number</td>\n",
       "      <td>UHF42</td>\n",
       "      <td>410</td>\n",
       "      <td>Rockaways</td>\n",
       "      <td>2015</td>\n",
       "      <td>01/01/2015</td>\n",
       "      <td>0.0</td>\n",
       "    </tr>\n",
       "    <tr>\n",
       "      <th>5853</th>\n",
       "      <td>640</td>\n",
       "      <td>Number per km2</td>\n",
       "      <td>number</td>\n",
       "      <td>UHF42</td>\n",
       "      <td>208</td>\n",
       "      <td>Canarsie - Flatlands</td>\n",
       "      <td>2013</td>\n",
       "      <td>01/01/2013</td>\n",
       "      <td>0.0</td>\n",
       "    </tr>\n",
       "    <tr>\n",
       "      <th>5854</th>\n",
       "      <td>641</td>\n",
       "      <td>Number per km2</td>\n",
       "      <td>number</td>\n",
       "      <td>UHF42</td>\n",
       "      <td>208</td>\n",
       "      <td>Canarsie - Flatlands</td>\n",
       "      <td>2013</td>\n",
       "      <td>01/01/2013</td>\n",
       "      <td>0.0</td>\n",
       "    </tr>\n",
       "    <tr>\n",
       "      <th>6023</th>\n",
       "      <td>640</td>\n",
       "      <td>Number per km2</td>\n",
       "      <td>number</td>\n",
       "      <td>UHF42</td>\n",
       "      <td>503</td>\n",
       "      <td>Willowbrook</td>\n",
       "      <td>2013</td>\n",
       "      <td>01/01/2013</td>\n",
       "      <td>0.0</td>\n",
       "    </tr>\n",
       "    <tr>\n",
       "      <th>6291</th>\n",
       "      <td>640</td>\n",
       "      <td>Number per km2</td>\n",
       "      <td>number</td>\n",
       "      <td>UHF42</td>\n",
       "      <td>504</td>\n",
       "      <td>South Beach - Tottenville</td>\n",
       "      <td>2015</td>\n",
       "      <td>01/01/2015</td>\n",
       "      <td>0.0</td>\n",
       "    </tr>\n",
       "    <tr>\n",
       "      <th>6926</th>\n",
       "      <td>641</td>\n",
       "      <td>Number per km2</td>\n",
       "      <td>number</td>\n",
       "      <td>UHF42</td>\n",
       "      <td>410</td>\n",
       "      <td>Rockaways</td>\n",
       "      <td>2013</td>\n",
       "      <td>01/01/2013</td>\n",
       "      <td>0.0</td>\n",
       "    </tr>\n",
       "    <tr>\n",
       "      <th>6927</th>\n",
       "      <td>641</td>\n",
       "      <td>Number per km2</td>\n",
       "      <td>number</td>\n",
       "      <td>UHF42</td>\n",
       "      <td>409</td>\n",
       "      <td>Southeast Queens</td>\n",
       "      <td>2013</td>\n",
       "      <td>01/01/2013</td>\n",
       "      <td>0.0</td>\n",
       "    </tr>\n",
       "    <tr>\n",
       "      <th>7328</th>\n",
       "      <td>641</td>\n",
       "      <td>Number per km2</td>\n",
       "      <td>number</td>\n",
       "      <td>UHF42</td>\n",
       "      <td>205</td>\n",
       "      <td>Sunset Park</td>\n",
       "      <td>2013</td>\n",
       "      <td>01/01/2013</td>\n",
       "      <td>0.0</td>\n",
       "    </tr>\n",
       "    <tr>\n",
       "      <th>7514</th>\n",
       "      <td>641</td>\n",
       "      <td>Number per km2</td>\n",
       "      <td>number</td>\n",
       "      <td>UHF42</td>\n",
       "      <td>410</td>\n",
       "      <td>Rockaways</td>\n",
       "      <td>2015</td>\n",
       "      <td>01/01/2015</td>\n",
       "      <td>0.0</td>\n",
       "    </tr>\n",
       "    <tr>\n",
       "      <th>7515</th>\n",
       "      <td>641</td>\n",
       "      <td>Number per km2</td>\n",
       "      <td>number</td>\n",
       "      <td>UHF42</td>\n",
       "      <td>409</td>\n",
       "      <td>Southeast Queens</td>\n",
       "      <td>2015</td>\n",
       "      <td>01/01/2015</td>\n",
       "      <td>0.0</td>\n",
       "    </tr>\n",
       "    <tr>\n",
       "      <th>8257</th>\n",
       "      <td>641</td>\n",
       "      <td>Number per km2</td>\n",
       "      <td>number</td>\n",
       "      <td>UHF42</td>\n",
       "      <td>502</td>\n",
       "      <td>Stapleton - St. George</td>\n",
       "      <td>2013</td>\n",
       "      <td>01/01/2013</td>\n",
       "      <td>0.0</td>\n",
       "    </tr>\n",
       "    <tr>\n",
       "      <th>8345</th>\n",
       "      <td>641</td>\n",
       "      <td>Number per km2</td>\n",
       "      <td>number</td>\n",
       "      <td>UHF42</td>\n",
       "      <td>501</td>\n",
       "      <td>Port Richmond</td>\n",
       "      <td>2013</td>\n",
       "      <td>01/01/2013</td>\n",
       "      <td>0.0</td>\n",
       "    </tr>\n",
       "    <tr>\n",
       "      <th>8369</th>\n",
       "      <td>641</td>\n",
       "      <td>Number per km2</td>\n",
       "      <td>number</td>\n",
       "      <td>UHF42</td>\n",
       "      <td>503</td>\n",
       "      <td>Willowbrook</td>\n",
       "      <td>2013</td>\n",
       "      <td>01/01/2013</td>\n",
       "      <td>0.0</td>\n",
       "    </tr>\n",
       "    <tr>\n",
       "      <th>9743</th>\n",
       "      <td>640</td>\n",
       "      <td>Number per km2</td>\n",
       "      <td>number</td>\n",
       "      <td>UHF42</td>\n",
       "      <td>504</td>\n",
       "      <td>South Beach - Tottenville</td>\n",
       "      <td>2013</td>\n",
       "      <td>01/01/2013</td>\n",
       "      <td>0.0</td>\n",
       "    </tr>\n",
       "    <tr>\n",
       "      <th>10755</th>\n",
       "      <td>641</td>\n",
       "      <td>Number per km2</td>\n",
       "      <td>number</td>\n",
       "      <td>UHF42</td>\n",
       "      <td>501</td>\n",
       "      <td>Port Richmond</td>\n",
       "      <td>2015</td>\n",
       "      <td>01/01/2015</td>\n",
       "      <td>0.0</td>\n",
       "    </tr>\n",
       "    <tr>\n",
       "      <th>10912</th>\n",
       "      <td>641</td>\n",
       "      <td>Number per km2</td>\n",
       "      <td>number</td>\n",
       "      <td>UHF42</td>\n",
       "      <td>503</td>\n",
       "      <td>Willowbrook</td>\n",
       "      <td>2015</td>\n",
       "      <td>01/01/2015</td>\n",
       "      <td>0.0</td>\n",
       "    </tr>\n",
       "    <tr>\n",
       "      <th>10925</th>\n",
       "      <td>641</td>\n",
       "      <td>Number per km2</td>\n",
       "      <td>number</td>\n",
       "      <td>UHF42</td>\n",
       "      <td>208</td>\n",
       "      <td>Canarsie - Flatlands</td>\n",
       "      <td>2015</td>\n",
       "      <td>01/01/2015</td>\n",
       "      <td>0.0</td>\n",
       "    </tr>\n",
       "    <tr>\n",
       "      <th>11016</th>\n",
       "      <td>641</td>\n",
       "      <td>Number per km2</td>\n",
       "      <td>number</td>\n",
       "      <td>UHF42</td>\n",
       "      <td>502</td>\n",
       "      <td>Stapleton - St. George</td>\n",
       "      <td>2015</td>\n",
       "      <td>01/01/2015</td>\n",
       "      <td>0.0</td>\n",
       "    </tr>\n",
       "    <tr>\n",
       "      <th>13141</th>\n",
       "      <td>641</td>\n",
       "      <td>Number per km2</td>\n",
       "      <td>number</td>\n",
       "      <td>UHF42</td>\n",
       "      <td>204</td>\n",
       "      <td>East New York</td>\n",
       "      <td>2013</td>\n",
       "      <td>01/01/2013</td>\n",
       "      <td>0.0</td>\n",
       "    </tr>\n",
       "    <tr>\n",
       "      <th>13538</th>\n",
       "      <td>641</td>\n",
       "      <td>Number per km2</td>\n",
       "      <td>number</td>\n",
       "      <td>UHF42</td>\n",
       "      <td>204</td>\n",
       "      <td>East New York</td>\n",
       "      <td>2015</td>\n",
       "      <td>01/01/2015</td>\n",
       "      <td>0.0</td>\n",
       "    </tr>\n",
       "    <tr>\n",
       "      <th>13542</th>\n",
       "      <td>641</td>\n",
       "      <td>Number per km2</td>\n",
       "      <td>number</td>\n",
       "      <td>UHF42</td>\n",
       "      <td>504</td>\n",
       "      <td>South Beach - Tottenville</td>\n",
       "      <td>2015</td>\n",
       "      <td>01/01/2015</td>\n",
       "      <td>0.0</td>\n",
       "    </tr>\n",
       "    <tr>\n",
       "      <th>13562</th>\n",
       "      <td>640</td>\n",
       "      <td>Number per km2</td>\n",
       "      <td>number</td>\n",
       "      <td>UHF42</td>\n",
       "      <td>208</td>\n",
       "      <td>Canarsie - Flatlands</td>\n",
       "      <td>2015</td>\n",
       "      <td>01/01/2015</td>\n",
       "      <td>0.0</td>\n",
       "    </tr>\n",
       "    <tr>\n",
       "      <th>15538</th>\n",
       "      <td>641</td>\n",
       "      <td>Number per km2</td>\n",
       "      <td>number</td>\n",
       "      <td>UHF42</td>\n",
       "      <td>504</td>\n",
       "      <td>South Beach - Tottenville</td>\n",
       "      <td>2013</td>\n",
       "      <td>01/01/2013</td>\n",
       "      <td>0.0</td>\n",
       "    </tr>\n",
       "    <tr>\n",
       "      <th>15539</th>\n",
       "      <td>641</td>\n",
       "      <td>Number per km2</td>\n",
       "      <td>number</td>\n",
       "      <td>Borough</td>\n",
       "      <td>5</td>\n",
       "      <td>Staten Island</td>\n",
       "      <td>2013</td>\n",
       "      <td>01/01/2013</td>\n",
       "      <td>0.0</td>\n",
       "    </tr>\n",
       "    <tr>\n",
       "      <th>15780</th>\n",
       "      <td>641</td>\n",
       "      <td>Number per km2</td>\n",
       "      <td>number</td>\n",
       "      <td>Borough</td>\n",
       "      <td>5</td>\n",
       "      <td>Staten Island</td>\n",
       "      <td>2015</td>\n",
       "      <td>01/01/2015</td>\n",
       "      <td>0.0</td>\n",
       "    </tr>\n",
       "  </tbody>\n",
       "</table>\n",
       "</div>"
      ],
      "text/plain": [
       "       Indicator ID         Measure Measure Info Geo Type Name  Geo Join ID  \\\n",
       "2332            640  Number per km2       number         UHF42          410   \n",
       "4232            640  Number per km2       number         UHF42          503   \n",
       "4790            640  Number per km2       number         UHF42          501   \n",
       "4938            641  Number per km2       number         UHF42          201   \n",
       "5330            640  Number per km2       number         UHF42          501   \n",
       "5746            640  Number per km2       number         UHF42          410   \n",
       "5853            640  Number per km2       number         UHF42          208   \n",
       "5854            641  Number per km2       number         UHF42          208   \n",
       "6023            640  Number per km2       number         UHF42          503   \n",
       "6291            640  Number per km2       number         UHF42          504   \n",
       "6926            641  Number per km2       number         UHF42          410   \n",
       "6927            641  Number per km2       number         UHF42          409   \n",
       "7328            641  Number per km2       number         UHF42          205   \n",
       "7514            641  Number per km2       number         UHF42          410   \n",
       "7515            641  Number per km2       number         UHF42          409   \n",
       "8257            641  Number per km2       number         UHF42          502   \n",
       "8345            641  Number per km2       number         UHF42          501   \n",
       "8369            641  Number per km2       number         UHF42          503   \n",
       "9743            640  Number per km2       number         UHF42          504   \n",
       "10755           641  Number per km2       number         UHF42          501   \n",
       "10912           641  Number per km2       number         UHF42          503   \n",
       "10925           641  Number per km2       number         UHF42          208   \n",
       "11016           641  Number per km2       number         UHF42          502   \n",
       "13141           641  Number per km2       number         UHF42          204   \n",
       "13538           641  Number per km2       number         UHF42          204   \n",
       "13542           641  Number per km2       number         UHF42          504   \n",
       "13562           640  Number per km2       number         UHF42          208   \n",
       "15538           641  Number per km2       number         UHF42          504   \n",
       "15539           641  Number per km2       number       Borough            5   \n",
       "15780           641  Number per km2       number       Borough            5   \n",
       "\n",
       "                  Geo Place Name Time Period  Start_Date  Data Value  \n",
       "2332                   Rockaways        2013  01/01/2013         0.0  \n",
       "4232                 Willowbrook        2015  01/01/2015         0.0  \n",
       "4790               Port Richmond        2015  01/01/2015         0.0  \n",
       "4938                  Greenpoint        2015  01/01/2015         0.0  \n",
       "5330               Port Richmond        2013  01/01/2013         0.0  \n",
       "5746                   Rockaways        2015  01/01/2015         0.0  \n",
       "5853        Canarsie - Flatlands        2013  01/01/2013         0.0  \n",
       "5854        Canarsie - Flatlands        2013  01/01/2013         0.0  \n",
       "6023                 Willowbrook        2013  01/01/2013         0.0  \n",
       "6291   South Beach - Tottenville        2015  01/01/2015         0.0  \n",
       "6926                   Rockaways        2013  01/01/2013         0.0  \n",
       "6927            Southeast Queens        2013  01/01/2013         0.0  \n",
       "7328                 Sunset Park        2013  01/01/2013         0.0  \n",
       "7514                   Rockaways        2015  01/01/2015         0.0  \n",
       "7515            Southeast Queens        2015  01/01/2015         0.0  \n",
       "8257      Stapleton - St. George        2013  01/01/2013         0.0  \n",
       "8345               Port Richmond        2013  01/01/2013         0.0  \n",
       "8369                 Willowbrook        2013  01/01/2013         0.0  \n",
       "9743   South Beach - Tottenville        2013  01/01/2013         0.0  \n",
       "10755              Port Richmond        2015  01/01/2015         0.0  \n",
       "10912                Willowbrook        2015  01/01/2015         0.0  \n",
       "10925       Canarsie - Flatlands        2015  01/01/2015         0.0  \n",
       "11016     Stapleton - St. George        2015  01/01/2015         0.0  \n",
       "13141              East New York        2013  01/01/2013         0.0  \n",
       "13538              East New York        2015  01/01/2015         0.0  \n",
       "13542  South Beach - Tottenville        2015  01/01/2015         0.0  \n",
       "13562       Canarsie - Flatlands        2015  01/01/2015         0.0  \n",
       "15538  South Beach - Tottenville        2013  01/01/2013         0.0  \n",
       "15539              Staten Island        2013  01/01/2013         0.0  \n",
       "15780              Staten Island        2015  01/01/2015         0.0  "
      ]
     },
     "execution_count": 22,
     "metadata": {},
     "output_type": "execute_result"
    }
   ],
   "source": [
    "df2[df2['Data Value']==0.0]"
   ]
  },
  {
   "cell_type": "code",
   "execution_count": 23,
   "metadata": {
    "colab": {
     "base_uri": "https://localhost:8080/"
    },
    "id": "IPMAfkRK4Q5J",
    "outputId": "5fbdfb52-69fd-484d-8574-5534e2d1a756",
    "scrolled": true
   },
   "outputs": [
    {
     "data": {
      "text/plain": [
       "(30, 9)"
      ]
     },
     "execution_count": 23,
     "metadata": {},
     "output_type": "execute_result"
    }
   ],
   "source": [
    "df2[df2['Data Value'] == 0.0].shape"
   ]
  },
  {
   "cell_type": "code",
   "execution_count": 24,
   "metadata": {
    "colab": {
     "base_uri": "https://localhost:8080/"
    },
    "id": "mzuZ_Dfi4Q5K",
    "outputId": "de83f71d-c38f-4268-cf99-2895de5e0811",
    "scrolled": true
   },
   "outputs": [
    {
     "data": {
      "text/plain": [
       "('Boiler Emissions- Total SO2 Emissions',\n",
       " 'Boiler Emissions- Total PM2.5 Emissions')"
      ]
     },
     "execution_count": 24,
     "metadata": {},
     "output_type": "execute_result"
    }
   ],
   "source": [
    "idxn(640),idxn(641)"
   ]
  },
  {
   "cell_type": "code",
   "execution_count": 25,
   "metadata": {
    "colab": {
     "base_uri": "https://localhost:8080/",
     "height": 423
    },
    "id": "HjyLnpqs4Q5K",
    "outputId": "a64dce43-f54b-41e0-fc26-c5364bf21bf3",
    "scrolled": true
   },
   "outputs": [
    {
     "data": {
      "text/html": [
       "<div>\n",
       "<style scoped>\n",
       "    .dataframe tbody tr th:only-of-type {\n",
       "        vertical-align: middle;\n",
       "    }\n",
       "\n",
       "    .dataframe tbody tr th {\n",
       "        vertical-align: top;\n",
       "    }\n",
       "\n",
       "    .dataframe thead th {\n",
       "        text-align: right;\n",
       "    }\n",
       "</style>\n",
       "<table border=\"1\" class=\"dataframe\">\n",
       "  <thead>\n",
       "    <tr style=\"text-align: right;\">\n",
       "      <th></th>\n",
       "      <th>Indicator ID</th>\n",
       "      <th>Measure</th>\n",
       "      <th>Measure Info</th>\n",
       "      <th>Geo Type Name</th>\n",
       "      <th>Geo Join ID</th>\n",
       "      <th>Geo Place Name</th>\n",
       "      <th>Time Period</th>\n",
       "      <th>Start_Date</th>\n",
       "      <th>Data Value</th>\n",
       "    </tr>\n",
       "  </thead>\n",
       "  <tbody>\n",
       "    <tr>\n",
       "      <th>1625</th>\n",
       "      <td>640</td>\n",
       "      <td>Number per km2</td>\n",
       "      <td>number</td>\n",
       "      <td>UHF42</td>\n",
       "      <td>202</td>\n",
       "      <td>Downtown - Heights - Slope</td>\n",
       "      <td>2015</td>\n",
       "      <td>01/01/2015</td>\n",
       "      <td>1.2</td>\n",
       "    </tr>\n",
       "    <tr>\n",
       "      <th>1739</th>\n",
       "      <td>640</td>\n",
       "      <td>Number per km2</td>\n",
       "      <td>number</td>\n",
       "      <td>Borough</td>\n",
       "      <td>4</td>\n",
       "      <td>Queens</td>\n",
       "      <td>2013</td>\n",
       "      <td>01/01/2013</td>\n",
       "      <td>2.2</td>\n",
       "    </tr>\n",
       "    <tr>\n",
       "      <th>1752</th>\n",
       "      <td>640</td>\n",
       "      <td>Number per km2</td>\n",
       "      <td>number</td>\n",
       "      <td>UHF42</td>\n",
       "      <td>107</td>\n",
       "      <td>Hunts Point - Mott Haven</td>\n",
       "      <td>2015</td>\n",
       "      <td>01/01/2015</td>\n",
       "      <td>1.7</td>\n",
       "    </tr>\n",
       "    <tr>\n",
       "      <th>1778</th>\n",
       "      <td>640</td>\n",
       "      <td>Number per km2</td>\n",
       "      <td>number</td>\n",
       "      <td>UHF42</td>\n",
       "      <td>307</td>\n",
       "      <td>Gramercy Park - Murray Hill</td>\n",
       "      <td>2015</td>\n",
       "      <td>01/01/2015</td>\n",
       "      <td>41.5</td>\n",
       "    </tr>\n",
       "    <tr>\n",
       "      <th>1785</th>\n",
       "      <td>640</td>\n",
       "      <td>Number per km2</td>\n",
       "      <td>number</td>\n",
       "      <td>UHF42</td>\n",
       "      <td>206</td>\n",
       "      <td>Borough Park</td>\n",
       "      <td>2015</td>\n",
       "      <td>01/01/2015</td>\n",
       "      <td>1.1</td>\n",
       "    </tr>\n",
       "    <tr>\n",
       "      <th>...</th>\n",
       "      <td>...</td>\n",
       "      <td>...</td>\n",
       "      <td>...</td>\n",
       "      <td>...</td>\n",
       "      <td>...</td>\n",
       "      <td>...</td>\n",
       "      <td>...</td>\n",
       "      <td>...</td>\n",
       "      <td>...</td>\n",
       "    </tr>\n",
       "    <tr>\n",
       "      <th>15824</th>\n",
       "      <td>640</td>\n",
       "      <td>Number per km2</td>\n",
       "      <td>number</td>\n",
       "      <td>UHF42</td>\n",
       "      <td>211</td>\n",
       "      <td>Williamsburg - Bushwick</td>\n",
       "      <td>2013</td>\n",
       "      <td>01/01/2013</td>\n",
       "      <td>0.3</td>\n",
       "    </tr>\n",
       "    <tr>\n",
       "      <th>16060</th>\n",
       "      <td>640</td>\n",
       "      <td>Number per km2</td>\n",
       "      <td>number</td>\n",
       "      <td>UHF42</td>\n",
       "      <td>104</td>\n",
       "      <td>Pelham - Throgs Neck</td>\n",
       "      <td>2015</td>\n",
       "      <td>01/01/2015</td>\n",
       "      <td>2.8</td>\n",
       "    </tr>\n",
       "    <tr>\n",
       "      <th>16061</th>\n",
       "      <td>640</td>\n",
       "      <td>Number per km2</td>\n",
       "      <td>number</td>\n",
       "      <td>Borough</td>\n",
       "      <td>5</td>\n",
       "      <td>Staten Island</td>\n",
       "      <td>2015</td>\n",
       "      <td>01/01/2015</td>\n",
       "      <td>0.1</td>\n",
       "    </tr>\n",
       "    <tr>\n",
       "      <th>16063</th>\n",
       "      <td>640</td>\n",
       "      <td>Number per km2</td>\n",
       "      <td>number</td>\n",
       "      <td>UHF42</td>\n",
       "      <td>104</td>\n",
       "      <td>Pelham - Throgs Neck</td>\n",
       "      <td>2013</td>\n",
       "      <td>01/01/2013</td>\n",
       "      <td>4.4</td>\n",
       "    </tr>\n",
       "    <tr>\n",
       "      <th>16077</th>\n",
       "      <td>640</td>\n",
       "      <td>Number per km2</td>\n",
       "      <td>number</td>\n",
       "      <td>Borough</td>\n",
       "      <td>5</td>\n",
       "      <td>Staten Island</td>\n",
       "      <td>2013</td>\n",
       "      <td>01/01/2013</td>\n",
       "      <td>0.1</td>\n",
       "    </tr>\n",
       "  </tbody>\n",
       "</table>\n",
       "<p>288 rows × 9 columns</p>\n",
       "</div>"
      ],
      "text/plain": [
       "       Indicator ID         Measure Measure Info Geo Type Name  Geo Join ID  \\\n",
       "1625            640  Number per km2       number         UHF42          202   \n",
       "1739            640  Number per km2       number       Borough            4   \n",
       "1752            640  Number per km2       number         UHF42          107   \n",
       "1778            640  Number per km2       number         UHF42          307   \n",
       "1785            640  Number per km2       number         UHF42          206   \n",
       "...             ...             ...          ...           ...          ...   \n",
       "15824           640  Number per km2       number         UHF42          211   \n",
       "16060           640  Number per km2       number         UHF42          104   \n",
       "16061           640  Number per km2       number       Borough            5   \n",
       "16063           640  Number per km2       number         UHF42          104   \n",
       "16077           640  Number per km2       number       Borough            5   \n",
       "\n",
       "                    Geo Place Name Time Period  Start_Date  Data Value  \n",
       "1625    Downtown - Heights - Slope        2015  01/01/2015         1.2  \n",
       "1739                        Queens        2013  01/01/2013         2.2  \n",
       "1752      Hunts Point - Mott Haven        2015  01/01/2015         1.7  \n",
       "1778   Gramercy Park - Murray Hill        2015  01/01/2015        41.5  \n",
       "1785                  Borough Park        2015  01/01/2015         1.1  \n",
       "...                            ...         ...         ...         ...  \n",
       "15824      Williamsburg - Bushwick        2013  01/01/2013         0.3  \n",
       "16060         Pelham - Throgs Neck        2015  01/01/2015         2.8  \n",
       "16061                Staten Island        2015  01/01/2015         0.1  \n",
       "16063         Pelham - Throgs Neck        2013  01/01/2013         4.4  \n",
       "16077                Staten Island        2013  01/01/2013         0.1  \n",
       "\n",
       "[288 rows x 9 columns]"
      ]
     },
     "execution_count": 25,
     "metadata": {},
     "output_type": "execute_result"
    }
   ],
   "source": [
    "df2[df2['Measure Info'] == 'number']"
   ]
  },
  {
   "cell_type": "markdown",
   "metadata": {
    "id": "I0FJHLFr4Q5K"
   },
   "source": [
    "## Let's convert µg/m3\tinto ppb"
   ]
  },
  {
   "cell_type": "code",
   "execution_count": 26,
   "metadata": {
    "colab": {
     "base_uri": "https://localhost:8080/"
    },
    "id": "tQEmF7Jd4Q5K",
    "outputId": "a79ccaf6-17b7-45d4-ea47-f55dac12f785",
    "scrolled": true
   },
   "outputs": [
    {
     "data": {
      "text/plain": [
       "Measure\n",
       "Annual average concentration    406\n",
       "Name: count, dtype: int64"
      ]
     },
     "execution_count": 26,
     "metadata": {},
     "output_type": "execute_result"
    }
   ],
   "source": [
    "df2[df2['Measure Info']=='µg/m3']['Measure'].value_counts()"
   ]
  },
  {
   "cell_type": "code",
   "execution_count": 27,
   "metadata": {
    "colab": {
     "base_uri": "https://localhost:8080/"
    },
    "id": "uPVjiicD4Q5K",
    "outputId": "235a7852-bc0a-4e50-bfb8-a95e756ecd10",
    "scrolled": true
   },
   "outputs": [
    {
     "data": {
      "text/plain": [
       "Indicator ID\n",
       "647    203\n",
       "646    203\n",
       "Name: count, dtype: int64"
      ]
     },
     "execution_count": 27,
     "metadata": {},
     "output_type": "execute_result"
    }
   ],
   "source": [
    "df2[df2['Measure Info']=='µg/m3']['Indicator ID'].value_counts()"
   ]
  },
  {
   "cell_type": "code",
   "execution_count": 28,
   "metadata": {
    "colab": {
     "base_uri": "https://localhost:8080/"
    },
    "id": "bdZOd5bZ4Q5K",
    "outputId": "28e46e2e-8f19-4bab-d68e-e2e1412531d3",
    "scrolled": true
   },
   "outputs": [
    {
     "data": {
      "text/plain": [
       "('Outdoor Air Toxics - Formaldehyde', 'Outdoor Air Toxics - Benzene')"
      ]
     },
     "execution_count": 28,
     "metadata": {},
     "output_type": "execute_result"
    }
   ],
   "source": [
    "idxn(647), idxn(646)"
   ]
  },
  {
   "cell_type": "markdown",
   "metadata": {
    "id": "C43dV70x4Q5K"
   },
   "source": [
    "## Let's change the microgram/cubic gram to ppb"
   ]
  },
  {
   "cell_type": "code",
   "execution_count": 29,
   "metadata": {
    "id": "bYh11RPy4Q5K",
    "scrolled": true
   },
   "outputs": [],
   "source": [
    "df_ppb_ben=[]\n",
    "df_ppb_formal=[]\n",
    "for idx,value in df2[(df2['Measure Info']=='µg/m3') & (df2['Indicator ID'] == 646)].iterrows():\n",
    "    data = value['Data Value']\n",
    "    x = round((24.45 * data)/78.1,2)\n",
    "    df_ppb_ben.append(x)\n",
    "for idx, value in df2[(df['Measure Info']=='µg/m3') & (df2['Indicator ID'] == 647)].iterrows():\n",
    "    data = value['Data Value']\n",
    "    x = round((24.45 * data)/30.03,2)\n",
    "    df_ppb_formal.append(x)"
   ]
  },
  {
   "cell_type": "code",
   "execution_count": 30,
   "metadata": {
    "colab": {
     "base_uri": "https://localhost:8080/"
    },
    "id": "W_SSf6Uc4Q5L",
    "outputId": "1a7b52a7-5d15-40db-8e7c-56edaacaf105",
    "scrolled": true
   },
   "outputs": [
    {
     "data": {
      "text/plain": [
       "([0.81, 0.44, 0.34, 0.33, 0.33], [1.95, 1.95, 1.55, 1.41, 1.07])"
      ]
     },
     "execution_count": 30,
     "metadata": {},
     "output_type": "execute_result"
    }
   ],
   "source": [
    "df_ppb_ben[:5], df_ppb_formal[:5]"
   ]
  },
  {
   "cell_type": "code",
   "execution_count": 31,
   "metadata": {
    "colab": {
     "base_uri": "https://localhost:8080/"
    },
    "id": "QOVwiZWz4Q5L",
    "outputId": "4fa76561-f1a8-49ce-aa10-208a58ee2eaa",
    "scrolled": true
   },
   "outputs": [
    {
     "data": {
      "text/plain": [
       "7577     2.40\n",
       "7578     2.40\n",
       "7579     1.90\n",
       "7580     1.73\n",
       "7581     1.31\n",
       "         ... \n",
       "16183    1.61\n",
       "16184    1.61\n",
       "16185    1.80\n",
       "16213    3.10\n",
       "16214    2.30\n",
       "Name: Data Value, Length: 203, dtype: float64"
      ]
     },
     "execution_count": 31,
     "metadata": {},
     "output_type": "execute_result"
    }
   ],
   "source": [
    "df2[(df2['Measure Info']=='µg/m3') & (df2['Indicator ID'] == 647)]['Data Value']"
   ]
  },
  {
   "cell_type": "code",
   "execution_count": 32,
   "metadata": {
    "colab": {
     "base_uri": "https://localhost:8080/"
    },
    "id": "TjXzA3fi4Q5L",
    "outputId": "672af191-e32a-49e9-b3be-7fc7ae5b5c81",
    "scrolled": true
   },
   "outputs": [
    {
     "data": {
      "text/plain": [
       "7577     2.40\n",
       "7578     2.40\n",
       "7579     1.90\n",
       "7580     1.73\n",
       "7581     1.31\n",
       "         ... \n",
       "16183    1.61\n",
       "16184    1.61\n",
       "16185    1.80\n",
       "16213    3.10\n",
       "16214    2.30\n",
       "Name: Data Value, Length: 406, dtype: float64"
      ]
     },
     "execution_count": 32,
     "metadata": {},
     "output_type": "execute_result"
    }
   ],
   "source": [
    "df[df['Measure Info']=='µg/m3']['Data Value']"
   ]
  },
  {
   "cell_type": "code",
   "execution_count": 33,
   "metadata": {
    "colab": {
     "base_uri": "https://localhost:8080/",
     "height": 423
    },
    "id": "sbz25zsR4Q5L",
    "outputId": "13dcb529-4d76-4d33-b863-8de56daffb82",
    "scrolled": true
   },
   "outputs": [
    {
     "data": {
      "text/html": [
       "<div>\n",
       "<style scoped>\n",
       "    .dataframe tbody tr th:only-of-type {\n",
       "        vertical-align: middle;\n",
       "    }\n",
       "\n",
       "    .dataframe tbody tr th {\n",
       "        vertical-align: top;\n",
       "    }\n",
       "\n",
       "    .dataframe thead th {\n",
       "        text-align: right;\n",
       "    }\n",
       "</style>\n",
       "<table border=\"1\" class=\"dataframe\">\n",
       "  <thead>\n",
       "    <tr style=\"text-align: right;\">\n",
       "      <th></th>\n",
       "      <th>Indicator ID</th>\n",
       "      <th>Measure</th>\n",
       "      <th>Measure Info</th>\n",
       "      <th>Geo Type Name</th>\n",
       "      <th>Geo Join ID</th>\n",
       "      <th>Geo Place Name</th>\n",
       "      <th>Time Period</th>\n",
       "      <th>Start_Date</th>\n",
       "      <th>Data Value</th>\n",
       "    </tr>\n",
       "  </thead>\n",
       "  <tbody>\n",
       "    <tr>\n",
       "      <th>7577</th>\n",
       "      <td>647</td>\n",
       "      <td>Annual average concentration</td>\n",
       "      <td>µg/m3</td>\n",
       "      <td>UHF42</td>\n",
       "      <td>408</td>\n",
       "      <td>Jamaica</td>\n",
       "      <td>2005</td>\n",
       "      <td>01/01/2005</td>\n",
       "      <td>2.40</td>\n",
       "    </tr>\n",
       "    <tr>\n",
       "      <th>7578</th>\n",
       "      <td>647</td>\n",
       "      <td>Annual average concentration</td>\n",
       "      <td>µg/m3</td>\n",
       "      <td>UHF42</td>\n",
       "      <td>407</td>\n",
       "      <td>Southwest Queens</td>\n",
       "      <td>2005</td>\n",
       "      <td>01/01/2005</td>\n",
       "      <td>2.40</td>\n",
       "    </tr>\n",
       "    <tr>\n",
       "      <th>7579</th>\n",
       "      <td>647</td>\n",
       "      <td>Annual average concentration</td>\n",
       "      <td>µg/m3</td>\n",
       "      <td>UHF42</td>\n",
       "      <td>407</td>\n",
       "      <td>Southwest Queens</td>\n",
       "      <td>2011</td>\n",
       "      <td>01/01/2011</td>\n",
       "      <td>1.90</td>\n",
       "    </tr>\n",
       "    <tr>\n",
       "      <th>7580</th>\n",
       "      <td>647</td>\n",
       "      <td>Annual average concentration</td>\n",
       "      <td>µg/m3</td>\n",
       "      <td>UHF42</td>\n",
       "      <td>107</td>\n",
       "      <td>Hunts Point - Mott Haven</td>\n",
       "      <td>2014</td>\n",
       "      <td>01/01/2014</td>\n",
       "      <td>1.73</td>\n",
       "    </tr>\n",
       "    <tr>\n",
       "      <th>7581</th>\n",
       "      <td>647</td>\n",
       "      <td>Annual average concentration</td>\n",
       "      <td>µg/m3</td>\n",
       "      <td>UHF42</td>\n",
       "      <td>407</td>\n",
       "      <td>Southwest Queens</td>\n",
       "      <td>2014</td>\n",
       "      <td>01/01/2014</td>\n",
       "      <td>1.31</td>\n",
       "    </tr>\n",
       "    <tr>\n",
       "      <th>...</th>\n",
       "      <td>...</td>\n",
       "      <td>...</td>\n",
       "      <td>...</td>\n",
       "      <td>...</td>\n",
       "      <td>...</td>\n",
       "      <td>...</td>\n",
       "      <td>...</td>\n",
       "      <td>...</td>\n",
       "      <td>...</td>\n",
       "    </tr>\n",
       "    <tr>\n",
       "      <th>16183</th>\n",
       "      <td>647</td>\n",
       "      <td>Annual average concentration</td>\n",
       "      <td>µg/m3</td>\n",
       "      <td>UHF42</td>\n",
       "      <td>304</td>\n",
       "      <td>Upper West Side</td>\n",
       "      <td>2014</td>\n",
       "      <td>01/01/2014</td>\n",
       "      <td>1.61</td>\n",
       "    </tr>\n",
       "    <tr>\n",
       "      <th>16184</th>\n",
       "      <td>647</td>\n",
       "      <td>Annual average concentration</td>\n",
       "      <td>µg/m3</td>\n",
       "      <td>UHF42</td>\n",
       "      <td>104</td>\n",
       "      <td>Pelham - Throgs Neck</td>\n",
       "      <td>2014</td>\n",
       "      <td>01/01/2014</td>\n",
       "      <td>1.61</td>\n",
       "    </tr>\n",
       "    <tr>\n",
       "      <th>16185</th>\n",
       "      <td>647</td>\n",
       "      <td>Annual average concentration</td>\n",
       "      <td>µg/m3</td>\n",
       "      <td>Borough</td>\n",
       "      <td>5</td>\n",
       "      <td>Staten Island</td>\n",
       "      <td>2011</td>\n",
       "      <td>01/01/2011</td>\n",
       "      <td>1.80</td>\n",
       "    </tr>\n",
       "    <tr>\n",
       "      <th>16213</th>\n",
       "      <td>647</td>\n",
       "      <td>Annual average concentration</td>\n",
       "      <td>µg/m3</td>\n",
       "      <td>UHF42</td>\n",
       "      <td>211</td>\n",
       "      <td>Williamsburg - Bushwick</td>\n",
       "      <td>2005</td>\n",
       "      <td>01/01/2005</td>\n",
       "      <td>3.10</td>\n",
       "    </tr>\n",
       "    <tr>\n",
       "      <th>16214</th>\n",
       "      <td>647</td>\n",
       "      <td>Annual average concentration</td>\n",
       "      <td>µg/m3</td>\n",
       "      <td>Borough</td>\n",
       "      <td>5</td>\n",
       "      <td>Staten Island</td>\n",
       "      <td>2005</td>\n",
       "      <td>01/01/2005</td>\n",
       "      <td>2.30</td>\n",
       "    </tr>\n",
       "  </tbody>\n",
       "</table>\n",
       "<p>406 rows × 9 columns</p>\n",
       "</div>"
      ],
      "text/plain": [
       "       Indicator ID                       Measure Measure Info Geo Type Name  \\\n",
       "7577            647  Annual average concentration        µg/m3         UHF42   \n",
       "7578            647  Annual average concentration        µg/m3         UHF42   \n",
       "7579            647  Annual average concentration        µg/m3         UHF42   \n",
       "7580            647  Annual average concentration        µg/m3         UHF42   \n",
       "7581            647  Annual average concentration        µg/m3         UHF42   \n",
       "...             ...                           ...          ...           ...   \n",
       "16183           647  Annual average concentration        µg/m3         UHF42   \n",
       "16184           647  Annual average concentration        µg/m3         UHF42   \n",
       "16185           647  Annual average concentration        µg/m3       Borough   \n",
       "16213           647  Annual average concentration        µg/m3         UHF42   \n",
       "16214           647  Annual average concentration        µg/m3       Borough   \n",
       "\n",
       "       Geo Join ID            Geo Place Name Time Period  Start_Date  \\\n",
       "7577           408                   Jamaica        2005  01/01/2005   \n",
       "7578           407          Southwest Queens        2005  01/01/2005   \n",
       "7579           407          Southwest Queens        2011  01/01/2011   \n",
       "7580           107  Hunts Point - Mott Haven        2014  01/01/2014   \n",
       "7581           407          Southwest Queens        2014  01/01/2014   \n",
       "...            ...                       ...         ...         ...   \n",
       "16183          304           Upper West Side        2014  01/01/2014   \n",
       "16184          104      Pelham - Throgs Neck        2014  01/01/2014   \n",
       "16185            5             Staten Island        2011  01/01/2011   \n",
       "16213          211   Williamsburg - Bushwick        2005  01/01/2005   \n",
       "16214            5             Staten Island        2005  01/01/2005   \n",
       "\n",
       "       Data Value  \n",
       "7577         2.40  \n",
       "7578         2.40  \n",
       "7579         1.90  \n",
       "7580         1.73  \n",
       "7581         1.31  \n",
       "...           ...  \n",
       "16183        1.61  \n",
       "16184        1.61  \n",
       "16185        1.80  \n",
       "16213        3.10  \n",
       "16214        2.30  \n",
       "\n",
       "[406 rows x 9 columns]"
      ]
     },
     "execution_count": 33,
     "metadata": {},
     "output_type": "execute_result"
    }
   ],
   "source": [
    "df2[df2['Measure Info']=='µg/m3']"
   ]
  },
  {
   "cell_type": "code",
   "execution_count": 34,
   "metadata": {
    "colab": {
     "base_uri": "https://localhost:8080/"
    },
    "id": "f05d1YCB4Q5L",
    "outputId": "4672c9fb-a0c5-4923-ea5a-5a7d72579b69",
    "scrolled": true
   },
   "outputs": [
    {
     "data": {
      "text/plain": [
       "203"
      ]
     },
     "execution_count": 34,
     "metadata": {},
     "output_type": "execute_result"
    }
   ],
   "source": [
    "len(df_ppb_ben)"
   ]
  },
  {
   "cell_type": "markdown",
   "metadata": {
    "id": "bbLdSku04Q5S"
   },
   "source": [
    "replace the columns"
   ]
  },
  {
   "cell_type": "code",
   "execution_count": 35,
   "metadata": {
    "id": "iyW7EALs4Q5T",
    "scrolled": true
   },
   "outputs": [],
   "source": [
    "df3 = df2.copy()\n",
    "pp = ['ppb' for i in range(len(df3.loc[df3['Measure Info'] == 'µg/m3','Measure Info']))]\n",
    "df3.loc[(df3['Measure Info'] == 'µg/m3') & (df3['Indicator ID']==646), 'Data Value'] = df_ppb_ben\n",
    "df3.loc[(df3['Measure Info'] == 'µg/m3') & (df3['Indicator ID']==647), 'Data Value'] = df_ppb_formal\n",
    "df3.loc[df3['Measure Info'] == 'µg/m3','Measure Info'] = pp"
   ]
  },
  {
   "cell_type": "code",
   "execution_count": 36,
   "metadata": {
    "colab": {
     "base_uri": "https://localhost:8080/"
    },
    "id": "EG8_-93p4Q5T",
    "outputId": "c7ecf7bd-2b3a-4ed5-a3c7-825aeb089d49",
    "scrolled": true
   },
   "outputs": [
    {
     "data": {
      "text/plain": [
       "Measure Info\n",
       "ppb                     7879\n",
       "mcg/m3                  5499\n",
       "per 100,000 adults      1152\n",
       "per km2                  632\n",
       "per 100,000 children     576\n",
       "number                   288\n",
       "per 100,000              192\n",
       "Name: count, dtype: int64"
      ]
     },
     "execution_count": 36,
     "metadata": {},
     "output_type": "execute_result"
    }
   ],
   "source": [
    "df3['Measure Info'].value_counts()"
   ]
  },
  {
   "cell_type": "code",
   "execution_count": 37,
   "metadata": {
    "colab": {
     "base_uri": "https://localhost:8080/",
     "height": 423
    },
    "id": "7U1JxBJg4Q5T",
    "outputId": "47f1039d-640a-4312-e24b-a2daa4945809",
    "scrolled": true
   },
   "outputs": [
    {
     "data": {
      "text/html": [
       "<div>\n",
       "<style scoped>\n",
       "    .dataframe tbody tr th:only-of-type {\n",
       "        vertical-align: middle;\n",
       "    }\n",
       "\n",
       "    .dataframe tbody tr th {\n",
       "        vertical-align: top;\n",
       "    }\n",
       "\n",
       "    .dataframe thead th {\n",
       "        text-align: right;\n",
       "    }\n",
       "</style>\n",
       "<table border=\"1\" class=\"dataframe\">\n",
       "  <thead>\n",
       "    <tr style=\"text-align: right;\">\n",
       "      <th></th>\n",
       "      <th>Indicator ID</th>\n",
       "      <th>Measure</th>\n",
       "      <th>Measure Info</th>\n",
       "      <th>Geo Type Name</th>\n",
       "      <th>Geo Join ID</th>\n",
       "      <th>Geo Place Name</th>\n",
       "      <th>Time Period</th>\n",
       "      <th>Start_Date</th>\n",
       "      <th>Data Value</th>\n",
       "    </tr>\n",
       "  </thead>\n",
       "  <tbody>\n",
       "    <tr>\n",
       "      <th>7586</th>\n",
       "      <td>646</td>\n",
       "      <td>Annual average concentration</td>\n",
       "      <td>ppb</td>\n",
       "      <td>UHF42</td>\n",
       "      <td>308</td>\n",
       "      <td>Greenwich Village - SoHo</td>\n",
       "      <td>2011</td>\n",
       "      <td>01/01/2011</td>\n",
       "      <td>0.81</td>\n",
       "    </tr>\n",
       "    <tr>\n",
       "      <th>7587</th>\n",
       "      <td>646</td>\n",
       "      <td>Annual average concentration</td>\n",
       "      <td>ppb</td>\n",
       "      <td>UHF42</td>\n",
       "      <td>207</td>\n",
       "      <td>East Flatbush - Flatbush</td>\n",
       "      <td>2011</td>\n",
       "      <td>01/01/2011</td>\n",
       "      <td>0.44</td>\n",
       "    </tr>\n",
       "    <tr>\n",
       "      <th>7588</th>\n",
       "      <td>646</td>\n",
       "      <td>Annual average concentration</td>\n",
       "      <td>ppb</td>\n",
       "      <td>Borough</td>\n",
       "      <td>1</td>\n",
       "      <td>Bronx</td>\n",
       "      <td>2011</td>\n",
       "      <td>01/01/2011</td>\n",
       "      <td>0.34</td>\n",
       "    </tr>\n",
       "    <tr>\n",
       "      <th>7589</th>\n",
       "      <td>646</td>\n",
       "      <td>Annual average concentration</td>\n",
       "      <td>ppb</td>\n",
       "      <td>UHF42</td>\n",
       "      <td>307</td>\n",
       "      <td>Gramercy Park - Murray Hill</td>\n",
       "      <td>2014</td>\n",
       "      <td>01/01/2014</td>\n",
       "      <td>0.33</td>\n",
       "    </tr>\n",
       "    <tr>\n",
       "      <th>7595</th>\n",
       "      <td>646</td>\n",
       "      <td>Annual average concentration</td>\n",
       "      <td>ppb</td>\n",
       "      <td>UHF42</td>\n",
       "      <td>201</td>\n",
       "      <td>Greenpoint</td>\n",
       "      <td>2014</td>\n",
       "      <td>01/01/2014</td>\n",
       "      <td>0.33</td>\n",
       "    </tr>\n",
       "    <tr>\n",
       "      <th>...</th>\n",
       "      <td>...</td>\n",
       "      <td>...</td>\n",
       "      <td>...</td>\n",
       "      <td>...</td>\n",
       "      <td>...</td>\n",
       "      <td>...</td>\n",
       "      <td>...</td>\n",
       "      <td>...</td>\n",
       "      <td>...</td>\n",
       "    </tr>\n",
       "    <tr>\n",
       "      <th>15806</th>\n",
       "      <td>646</td>\n",
       "      <td>Annual average concentration</td>\n",
       "      <td>ppb</td>\n",
       "      <td>UHF42</td>\n",
       "      <td>304</td>\n",
       "      <td>Upper West Side</td>\n",
       "      <td>2014</td>\n",
       "      <td>01/01/2014</td>\n",
       "      <td>0.30</td>\n",
       "    </tr>\n",
       "    <tr>\n",
       "      <th>15807</th>\n",
       "      <td>646</td>\n",
       "      <td>Annual average concentration</td>\n",
       "      <td>ppb</td>\n",
       "      <td>UHF42</td>\n",
       "      <td>204</td>\n",
       "      <td>East New York</td>\n",
       "      <td>2011</td>\n",
       "      <td>01/01/2011</td>\n",
       "      <td>0.44</td>\n",
       "    </tr>\n",
       "    <tr>\n",
       "      <th>15808</th>\n",
       "      <td>646</td>\n",
       "      <td>Annual average concentration</td>\n",
       "      <td>ppb</td>\n",
       "      <td>UHF42</td>\n",
       "      <td>104</td>\n",
       "      <td>Pelham - Throgs Neck</td>\n",
       "      <td>2014</td>\n",
       "      <td>01/01/2014</td>\n",
       "      <td>0.31</td>\n",
       "    </tr>\n",
       "    <tr>\n",
       "      <th>15809</th>\n",
       "      <td>646</td>\n",
       "      <td>Annual average concentration</td>\n",
       "      <td>ppb</td>\n",
       "      <td>Borough</td>\n",
       "      <td>5</td>\n",
       "      <td>Staten Island</td>\n",
       "      <td>2011</td>\n",
       "      <td>01/01/2011</td>\n",
       "      <td>0.38</td>\n",
       "    </tr>\n",
       "    <tr>\n",
       "      <th>15810</th>\n",
       "      <td>646</td>\n",
       "      <td>Annual average concentration</td>\n",
       "      <td>ppb</td>\n",
       "      <td>Borough</td>\n",
       "      <td>5</td>\n",
       "      <td>Staten Island</td>\n",
       "      <td>2014</td>\n",
       "      <td>01/01/2014</td>\n",
       "      <td>0.19</td>\n",
       "    </tr>\n",
       "  </tbody>\n",
       "</table>\n",
       "<p>203 rows × 9 columns</p>\n",
       "</div>"
      ],
      "text/plain": [
       "       Indicator ID                       Measure Measure Info Geo Type Name  \\\n",
       "7586            646  Annual average concentration          ppb         UHF42   \n",
       "7587            646  Annual average concentration          ppb         UHF42   \n",
       "7588            646  Annual average concentration          ppb       Borough   \n",
       "7589            646  Annual average concentration          ppb         UHF42   \n",
       "7595            646  Annual average concentration          ppb         UHF42   \n",
       "...             ...                           ...          ...           ...   \n",
       "15806           646  Annual average concentration          ppb         UHF42   \n",
       "15807           646  Annual average concentration          ppb         UHF42   \n",
       "15808           646  Annual average concentration          ppb         UHF42   \n",
       "15809           646  Annual average concentration          ppb       Borough   \n",
       "15810           646  Annual average concentration          ppb       Borough   \n",
       "\n",
       "       Geo Join ID               Geo Place Name Time Period  Start_Date  \\\n",
       "7586           308     Greenwich Village - SoHo        2011  01/01/2011   \n",
       "7587           207     East Flatbush - Flatbush        2011  01/01/2011   \n",
       "7588             1                        Bronx        2011  01/01/2011   \n",
       "7589           307  Gramercy Park - Murray Hill        2014  01/01/2014   \n",
       "7595           201                   Greenpoint        2014  01/01/2014   \n",
       "...            ...                          ...         ...         ...   \n",
       "15806          304              Upper West Side        2014  01/01/2014   \n",
       "15807          204                East New York        2011  01/01/2011   \n",
       "15808          104         Pelham - Throgs Neck        2014  01/01/2014   \n",
       "15809            5                Staten Island        2011  01/01/2011   \n",
       "15810            5                Staten Island        2014  01/01/2014   \n",
       "\n",
       "       Data Value  \n",
       "7586         0.81  \n",
       "7587         0.44  \n",
       "7588         0.34  \n",
       "7589         0.33  \n",
       "7595         0.33  \n",
       "...           ...  \n",
       "15806        0.30  \n",
       "15807        0.44  \n",
       "15808        0.31  \n",
       "15809        0.38  \n",
       "15810        0.19  \n",
       "\n",
       "[203 rows x 9 columns]"
      ]
     },
     "execution_count": 37,
     "metadata": {},
     "output_type": "execute_result"
    }
   ],
   "source": [
    "df3[(df3['Indicator ID']==646) & (df3['Measure Info']=='ppb')]"
   ]
  },
  {
   "cell_type": "code",
   "execution_count": 38,
   "metadata": {
    "colab": {
     "base_uri": "https://localhost:8080/",
     "height": 423
    },
    "id": "nHfnCTs14Q5T",
    "outputId": "1475f51b-ce69-4424-d7dc-b02445e2dcee",
    "scrolled": true
   },
   "outputs": [
    {
     "data": {
      "text/html": [
       "<div>\n",
       "<style scoped>\n",
       "    .dataframe tbody tr th:only-of-type {\n",
       "        vertical-align: middle;\n",
       "    }\n",
       "\n",
       "    .dataframe tbody tr th {\n",
       "        vertical-align: top;\n",
       "    }\n",
       "\n",
       "    .dataframe thead th {\n",
       "        text-align: right;\n",
       "    }\n",
       "</style>\n",
       "<table border=\"1\" class=\"dataframe\">\n",
       "  <thead>\n",
       "    <tr style=\"text-align: right;\">\n",
       "      <th></th>\n",
       "      <th>Indicator ID</th>\n",
       "      <th>Measure</th>\n",
       "      <th>Measure Info</th>\n",
       "      <th>Geo Type Name</th>\n",
       "      <th>Geo Join ID</th>\n",
       "      <th>Geo Place Name</th>\n",
       "      <th>Time Period</th>\n",
       "      <th>Start_Date</th>\n",
       "      <th>Data Value</th>\n",
       "    </tr>\n",
       "  </thead>\n",
       "  <tbody>\n",
       "    <tr>\n",
       "      <th>381</th>\n",
       "      <td>365</td>\n",
       "      <td>Mean</td>\n",
       "      <td>mcg/m3</td>\n",
       "      <td>UHF34</td>\n",
       "      <td>203</td>\n",
       "      <td>Bedford Stuyvesant - Crown Heights</td>\n",
       "      <td>Winter 2009-10</td>\n",
       "      <td>12/01/2009</td>\n",
       "      <td>10.30</td>\n",
       "    </tr>\n",
       "    <tr>\n",
       "      <th>382</th>\n",
       "      <td>365</td>\n",
       "      <td>Mean</td>\n",
       "      <td>mcg/m3</td>\n",
       "      <td>UHF34</td>\n",
       "      <td>203</td>\n",
       "      <td>Bedford Stuyvesant - Crown Heights</td>\n",
       "      <td>Summer 2020</td>\n",
       "      <td>06/01/2020</td>\n",
       "      <td>6.98</td>\n",
       "    </tr>\n",
       "    <tr>\n",
       "      <th>383</th>\n",
       "      <td>365</td>\n",
       "      <td>Mean</td>\n",
       "      <td>mcg/m3</td>\n",
       "      <td>UHF34</td>\n",
       "      <td>204</td>\n",
       "      <td>East New York</td>\n",
       "      <td>Annual Average 2014</td>\n",
       "      <td>12/01/2013</td>\n",
       "      <td>9.04</td>\n",
       "    </tr>\n",
       "    <tr>\n",
       "      <th>384</th>\n",
       "      <td>365</td>\n",
       "      <td>Mean</td>\n",
       "      <td>mcg/m3</td>\n",
       "      <td>UHF34</td>\n",
       "      <td>204</td>\n",
       "      <td>East New York</td>\n",
       "      <td>Winter 2016-17</td>\n",
       "      <td>12/01/2016</td>\n",
       "      <td>8.11</td>\n",
       "    </tr>\n",
       "    <tr>\n",
       "      <th>385</th>\n",
       "      <td>365</td>\n",
       "      <td>Mean</td>\n",
       "      <td>mcg/m3</td>\n",
       "      <td>UHF34</td>\n",
       "      <td>103</td>\n",
       "      <td>Fordham - Bronx Pk</td>\n",
       "      <td>Winter 2009-10</td>\n",
       "      <td>12/01/2009</td>\n",
       "      <td>11.40</td>\n",
       "    </tr>\n",
       "    <tr>\n",
       "      <th>...</th>\n",
       "      <td>...</td>\n",
       "      <td>...</td>\n",
       "      <td>...</td>\n",
       "      <td>...</td>\n",
       "      <td>...</td>\n",
       "      <td>...</td>\n",
       "      <td>...</td>\n",
       "      <td>...</td>\n",
       "      <td>...</td>\n",
       "    </tr>\n",
       "    <tr>\n",
       "      <th>16193</th>\n",
       "      <td>365</td>\n",
       "      <td>Mean</td>\n",
       "      <td>mcg/m3</td>\n",
       "      <td>UHF42</td>\n",
       "      <td>104</td>\n",
       "      <td>Pelham - Throgs Neck</td>\n",
       "      <td>Annual Average 2020</td>\n",
       "      <td>01/01/2020</td>\n",
       "      <td>6.12</td>\n",
       "    </tr>\n",
       "    <tr>\n",
       "      <th>16194</th>\n",
       "      <td>365</td>\n",
       "      <td>Mean</td>\n",
       "      <td>mcg/m3</td>\n",
       "      <td>Borough</td>\n",
       "      <td>5</td>\n",
       "      <td>Staten Island</td>\n",
       "      <td>Annual Average 2011</td>\n",
       "      <td>12/01/2010</td>\n",
       "      <td>9.44</td>\n",
       "    </tr>\n",
       "    <tr>\n",
       "      <th>16195</th>\n",
       "      <td>365</td>\n",
       "      <td>Mean</td>\n",
       "      <td>mcg/m3</td>\n",
       "      <td>CD</td>\n",
       "      <td>107</td>\n",
       "      <td>Upper West Side (CD7)</td>\n",
       "      <td>Winter 2008-09</td>\n",
       "      <td>12/01/2008</td>\n",
       "      <td>14.65</td>\n",
       "    </tr>\n",
       "    <tr>\n",
       "      <th>16196</th>\n",
       "      <td>365</td>\n",
       "      <td>Mean</td>\n",
       "      <td>mcg/m3</td>\n",
       "      <td>CD</td>\n",
       "      <td>107</td>\n",
       "      <td>Upper West Side (CD7)</td>\n",
       "      <td>Winter 2013-14</td>\n",
       "      <td>12/01/2013</td>\n",
       "      <td>13.77</td>\n",
       "    </tr>\n",
       "    <tr>\n",
       "      <th>16197</th>\n",
       "      <td>365</td>\n",
       "      <td>Mean</td>\n",
       "      <td>mcg/m3</td>\n",
       "      <td>Borough</td>\n",
       "      <td>5</td>\n",
       "      <td>Staten Island</td>\n",
       "      <td>Winter 2013-14</td>\n",
       "      <td>12/01/2013</td>\n",
       "      <td>11.78</td>\n",
       "    </tr>\n",
       "  </tbody>\n",
       "</table>\n",
       "<p>5499 rows × 9 columns</p>\n",
       "</div>"
      ],
      "text/plain": [
       "       Indicator ID Measure Measure Info Geo Type Name  Geo Join ID  \\\n",
       "381             365    Mean       mcg/m3         UHF34          203   \n",
       "382             365    Mean       mcg/m3         UHF34          203   \n",
       "383             365    Mean       mcg/m3         UHF34          204   \n",
       "384             365    Mean       mcg/m3         UHF34          204   \n",
       "385             365    Mean       mcg/m3         UHF34          103   \n",
       "...             ...     ...          ...           ...          ...   \n",
       "16193           365    Mean       mcg/m3         UHF42          104   \n",
       "16194           365    Mean       mcg/m3       Borough            5   \n",
       "16195           365    Mean       mcg/m3            CD          107   \n",
       "16196           365    Mean       mcg/m3            CD          107   \n",
       "16197           365    Mean       mcg/m3       Borough            5   \n",
       "\n",
       "                           Geo Place Name          Time Period  Start_Date  \\\n",
       "381    Bedford Stuyvesant - Crown Heights       Winter 2009-10  12/01/2009   \n",
       "382    Bedford Stuyvesant - Crown Heights          Summer 2020  06/01/2020   \n",
       "383                         East New York  Annual Average 2014  12/01/2013   \n",
       "384                         East New York       Winter 2016-17  12/01/2016   \n",
       "385                    Fordham - Bronx Pk       Winter 2009-10  12/01/2009   \n",
       "...                                   ...                  ...         ...   \n",
       "16193                Pelham - Throgs Neck  Annual Average 2020  01/01/2020   \n",
       "16194                       Staten Island  Annual Average 2011  12/01/2010   \n",
       "16195               Upper West Side (CD7)       Winter 2008-09  12/01/2008   \n",
       "16196               Upper West Side (CD7)       Winter 2013-14  12/01/2013   \n",
       "16197                       Staten Island       Winter 2013-14  12/01/2013   \n",
       "\n",
       "       Data Value  \n",
       "381         10.30  \n",
       "382          6.98  \n",
       "383          9.04  \n",
       "384          8.11  \n",
       "385         11.40  \n",
       "...           ...  \n",
       "16193        6.12  \n",
       "16194        9.44  \n",
       "16195       14.65  \n",
       "16196       13.77  \n",
       "16197       11.78  \n",
       "\n",
       "[5499 rows x 9 columns]"
      ]
     },
     "execution_count": 38,
     "metadata": {},
     "output_type": "execute_result"
    }
   ],
   "source": [
    "df3[df3['Measure Info'] == 'mcg/m3']"
   ]
  },
  {
   "cell_type": "markdown",
   "metadata": {
    "id": "jKC-jcxL4Q5T"
   },
   "source": [
    "##  MCG/M3 AND µg/m3 is same so, you think we may convert the mcg/m3 column to ppb but as the indicator is fine particles(PM 2.5) there's no spefic molecular weight to convert so we keep the category as it is\n"
   ]
  },
  {
   "cell_type": "markdown",
   "metadata": {
    "id": "9n5MeWmV4Q5T"
   },
   "source": [
    "## Now let's see the column GEO type Name"
   ]
  },
  {
   "cell_type": "code",
   "execution_count": 39,
   "metadata": {
    "colab": {
     "base_uri": "https://localhost:8080/"
    },
    "id": "Yu42xOqp4Q5T",
    "outputId": "e9feabbc-58e2-4a3d-9b93-3e95586178b7",
    "scrolled": true
   },
   "outputs": [
    {
     "data": {
      "text/plain": [
       "Geo Type Name\n",
       "UHF42       6300\n",
       "CD          5900\n",
       "UHF34       3128\n",
       "Borough      740\n",
       "Citywide     150\n",
       "Name: count, dtype: int64"
      ]
     },
     "execution_count": 39,
     "metadata": {},
     "output_type": "execute_result"
    }
   ],
   "source": [
    "df3['Geo Type Name'].value_counts()"
   ]
  },
  {
   "cell_type": "code",
   "execution_count": 40,
   "metadata": {
    "colab": {
     "base_uri": "https://localhost:8080/"
    },
    "id": "XYOu-QdG4Q5T",
    "outputId": "28b97430-557f-4baf-c186-587ca9b04905",
    "scrolled": true
   },
   "outputs": [
    {
     "data": {
      "text/plain": [
       "(1, 105106107)"
      ]
     },
     "execution_count": 40,
     "metadata": {},
     "output_type": "execute_result"
    }
   ],
   "source": [
    "min(df3['Geo Join ID']),max(df3['Geo Join ID'])"
   ]
  },
  {
   "cell_type": "code",
   "execution_count": 41,
   "metadata": {
    "colab": {
     "base_uri": "https://localhost:8080/",
     "height": 423
    },
    "id": "S3yMA1Kj4Q5U",
    "outputId": "c3203038-f118-462b-bbd1-92da666ec8e7",
    "scrolled": true
   },
   "outputs": [
    {
     "data": {
      "text/html": [
       "<div>\n",
       "<style scoped>\n",
       "    .dataframe tbody tr th:only-of-type {\n",
       "        vertical-align: middle;\n",
       "    }\n",
       "\n",
       "    .dataframe tbody tr th {\n",
       "        vertical-align: top;\n",
       "    }\n",
       "\n",
       "    .dataframe thead th {\n",
       "        text-align: right;\n",
       "    }\n",
       "</style>\n",
       "<table border=\"1\" class=\"dataframe\">\n",
       "  <thead>\n",
       "    <tr style=\"text-align: right;\">\n",
       "      <th></th>\n",
       "      <th>Indicator ID</th>\n",
       "      <th>Measure</th>\n",
       "      <th>Measure Info</th>\n",
       "      <th>Geo Type Name</th>\n",
       "      <th>Geo Join ID</th>\n",
       "      <th>Geo Place Name</th>\n",
       "      <th>Time Period</th>\n",
       "      <th>Start_Date</th>\n",
       "      <th>Data Value</th>\n",
       "    </tr>\n",
       "  </thead>\n",
       "  <tbody>\n",
       "    <tr>\n",
       "      <th>64</th>\n",
       "      <td>375</td>\n",
       "      <td>Mean</td>\n",
       "      <td>ppb</td>\n",
       "      <td>Borough</td>\n",
       "      <td>1</td>\n",
       "      <td>Bronx</td>\n",
       "      <td>Annual Average 2014</td>\n",
       "      <td>12/01/2013</td>\n",
       "      <td>19.80</td>\n",
       "    </tr>\n",
       "    <tr>\n",
       "      <th>132</th>\n",
       "      <td>375</td>\n",
       "      <td>Mean</td>\n",
       "      <td>ppb</td>\n",
       "      <td>Borough</td>\n",
       "      <td>1</td>\n",
       "      <td>Bronx</td>\n",
       "      <td>Summer 2018</td>\n",
       "      <td>06/01/2018</td>\n",
       "      <td>13.62</td>\n",
       "    </tr>\n",
       "    <tr>\n",
       "      <th>133</th>\n",
       "      <td>375</td>\n",
       "      <td>Mean</td>\n",
       "      <td>ppb</td>\n",
       "      <td>Borough</td>\n",
       "      <td>1</td>\n",
       "      <td>Bronx</td>\n",
       "      <td>Summer 2020</td>\n",
       "      <td>06/01/2020</td>\n",
       "      <td>13.16</td>\n",
       "    </tr>\n",
       "    <tr>\n",
       "      <th>134</th>\n",
       "      <td>375</td>\n",
       "      <td>Mean</td>\n",
       "      <td>ppb</td>\n",
       "      <td>Borough</td>\n",
       "      <td>1</td>\n",
       "      <td>Bronx</td>\n",
       "      <td>Winter 2009-10</td>\n",
       "      <td>12/01/2009</td>\n",
       "      <td>24.39</td>\n",
       "    </tr>\n",
       "    <tr>\n",
       "      <th>135</th>\n",
       "      <td>375</td>\n",
       "      <td>Mean</td>\n",
       "      <td>ppb</td>\n",
       "      <td>Borough</td>\n",
       "      <td>1</td>\n",
       "      <td>Bronx</td>\n",
       "      <td>Summer 2017</td>\n",
       "      <td>06/01/2017</td>\n",
       "      <td>14.97</td>\n",
       "    </tr>\n",
       "    <tr>\n",
       "      <th>...</th>\n",
       "      <td>...</td>\n",
       "      <td>...</td>\n",
       "      <td>...</td>\n",
       "      <td>...</td>\n",
       "      <td>...</td>\n",
       "      <td>...</td>\n",
       "      <td>...</td>\n",
       "      <td>...</td>\n",
       "      <td>...</td>\n",
       "    </tr>\n",
       "    <tr>\n",
       "      <th>15469</th>\n",
       "      <td>655</td>\n",
       "      <td>Estimated annual rate (under age 18)</td>\n",
       "      <td>per 100,000 children</td>\n",
       "      <td>Citywide</td>\n",
       "      <td>1</td>\n",
       "      <td>New York City</td>\n",
       "      <td>2005-2007</td>\n",
       "      <td>01/01/2005</td>\n",
       "      <td>22.00</td>\n",
       "    </tr>\n",
       "    <tr>\n",
       "      <th>15477</th>\n",
       "      <td>652</td>\n",
       "      <td>Estimated annual rate</td>\n",
       "      <td>per 100,000</td>\n",
       "      <td>Citywide</td>\n",
       "      <td>1</td>\n",
       "      <td>New York City</td>\n",
       "      <td>2009-2011</td>\n",
       "      <td>01/01/2009</td>\n",
       "      <td>4.70</td>\n",
       "    </tr>\n",
       "    <tr>\n",
       "      <th>15478</th>\n",
       "      <td>652</td>\n",
       "      <td>Estimated annual rate</td>\n",
       "      <td>per 100,000</td>\n",
       "      <td>Citywide</td>\n",
       "      <td>1</td>\n",
       "      <td>New York City</td>\n",
       "      <td>2012-2014</td>\n",
       "      <td>01/02/2012</td>\n",
       "      <td>5.00</td>\n",
       "    </tr>\n",
       "    <tr>\n",
       "      <th>15479</th>\n",
       "      <td>652</td>\n",
       "      <td>Estimated annual rate</td>\n",
       "      <td>per 100,000</td>\n",
       "      <td>Citywide</td>\n",
       "      <td>1</td>\n",
       "      <td>New York City</td>\n",
       "      <td>2015-2017</td>\n",
       "      <td>01/01/2015</td>\n",
       "      <td>4.80</td>\n",
       "    </tr>\n",
       "    <tr>\n",
       "      <th>15480</th>\n",
       "      <td>652</td>\n",
       "      <td>Estimated annual rate</td>\n",
       "      <td>per 100,000</td>\n",
       "      <td>Citywide</td>\n",
       "      <td>1</td>\n",
       "      <td>New York City</td>\n",
       "      <td>2005-2007</td>\n",
       "      <td>01/01/2005</td>\n",
       "      <td>4.90</td>\n",
       "    </tr>\n",
       "  </tbody>\n",
       "</table>\n",
       "<p>298 rows × 9 columns</p>\n",
       "</div>"
      ],
      "text/plain": [
       "       Indicator ID                               Measure  \\\n",
       "64              375                                  Mean   \n",
       "132             375                                  Mean   \n",
       "133             375                                  Mean   \n",
       "134             375                                  Mean   \n",
       "135             375                                  Mean   \n",
       "...             ...                                   ...   \n",
       "15469           655  Estimated annual rate (under age 18)   \n",
       "15477           652                 Estimated annual rate   \n",
       "15478           652                 Estimated annual rate   \n",
       "15479           652                 Estimated annual rate   \n",
       "15480           652                 Estimated annual rate   \n",
       "\n",
       "               Measure Info Geo Type Name  Geo Join ID Geo Place Name  \\\n",
       "64                      ppb       Borough            1          Bronx   \n",
       "132                     ppb       Borough            1          Bronx   \n",
       "133                     ppb       Borough            1          Bronx   \n",
       "134                     ppb       Borough            1          Bronx   \n",
       "135                     ppb       Borough            1          Bronx   \n",
       "...                     ...           ...          ...            ...   \n",
       "15469  per 100,000 children      Citywide            1  New York City   \n",
       "15477           per 100,000      Citywide            1  New York City   \n",
       "15478           per 100,000      Citywide            1  New York City   \n",
       "15479           per 100,000      Citywide            1  New York City   \n",
       "15480           per 100,000      Citywide            1  New York City   \n",
       "\n",
       "               Time Period  Start_Date  Data Value  \n",
       "64     Annual Average 2014  12/01/2013       19.80  \n",
       "132            Summer 2018  06/01/2018       13.62  \n",
       "133            Summer 2020  06/01/2020       13.16  \n",
       "134         Winter 2009-10  12/01/2009       24.39  \n",
       "135            Summer 2017  06/01/2017       14.97  \n",
       "...                    ...         ...         ...  \n",
       "15469            2005-2007  01/01/2005       22.00  \n",
       "15477            2009-2011  01/01/2009        4.70  \n",
       "15478            2012-2014  01/02/2012        5.00  \n",
       "15479            2015-2017  01/01/2015        4.80  \n",
       "15480            2005-2007  01/01/2005        4.90  \n",
       "\n",
       "[298 rows x 9 columns]"
      ]
     },
     "execution_count": 41,
     "metadata": {},
     "output_type": "execute_result"
    }
   ],
   "source": [
    "df3.loc[df3['Geo Join ID']==1]"
   ]
  },
  {
   "cell_type": "code",
   "execution_count": 42,
   "metadata": {
    "colab": {
     "base_uri": "https://localhost:8080/",
     "height": 423
    },
    "id": "mx22HMfB4Q5U",
    "outputId": "bb5859f4-6ce1-44f8-b97b-5ae43232f239",
    "scrolled": true
   },
   "outputs": [
    {
     "data": {
      "text/html": [
       "<div>\n",
       "<style scoped>\n",
       "    .dataframe tbody tr th:only-of-type {\n",
       "        vertical-align: middle;\n",
       "    }\n",
       "\n",
       "    .dataframe tbody tr th {\n",
       "        vertical-align: top;\n",
       "    }\n",
       "\n",
       "    .dataframe thead th {\n",
       "        text-align: right;\n",
       "    }\n",
       "</style>\n",
       "<table border=\"1\" class=\"dataframe\">\n",
       "  <thead>\n",
       "    <tr style=\"text-align: right;\">\n",
       "      <th></th>\n",
       "      <th>Indicator ID</th>\n",
       "      <th>Measure</th>\n",
       "      <th>Measure Info</th>\n",
       "      <th>Geo Type Name</th>\n",
       "      <th>Geo Join ID</th>\n",
       "      <th>Geo Place Name</th>\n",
       "      <th>Time Period</th>\n",
       "      <th>Start_Date</th>\n",
       "      <th>Data Value</th>\n",
       "    </tr>\n",
       "  </thead>\n",
       "  <tbody>\n",
       "    <tr>\n",
       "      <th>207</th>\n",
       "      <td>375</td>\n",
       "      <td>Mean</td>\n",
       "      <td>ppb</td>\n",
       "      <td>UHF34</td>\n",
       "      <td>105106107</td>\n",
       "      <td>South Bronx</td>\n",
       "      <td>Annual Average 2020</td>\n",
       "      <td>01/01/2020</td>\n",
       "      <td>18.59</td>\n",
       "    </tr>\n",
       "    <tr>\n",
       "      <th>208</th>\n",
       "      <td>375</td>\n",
       "      <td>Mean</td>\n",
       "      <td>ppb</td>\n",
       "      <td>UHF34</td>\n",
       "      <td>105106107</td>\n",
       "      <td>South Bronx</td>\n",
       "      <td>Winter 2018-19</td>\n",
       "      <td>12/01/2018</td>\n",
       "      <td>23.64</td>\n",
       "    </tr>\n",
       "    <tr>\n",
       "      <th>220</th>\n",
       "      <td>375</td>\n",
       "      <td>Mean</td>\n",
       "      <td>ppb</td>\n",
       "      <td>UHF34</td>\n",
       "      <td>105106107</td>\n",
       "      <td>South Bronx</td>\n",
       "      <td>Winter 2016-17</td>\n",
       "      <td>12/01/2016</td>\n",
       "      <td>27.47</td>\n",
       "    </tr>\n",
       "    <tr>\n",
       "      <th>221</th>\n",
       "      <td>375</td>\n",
       "      <td>Mean</td>\n",
       "      <td>ppb</td>\n",
       "      <td>UHF34</td>\n",
       "      <td>105106107</td>\n",
       "      <td>South Bronx</td>\n",
       "      <td>Summer 2020</td>\n",
       "      <td>06/01/2020</td>\n",
       "      <td>14.49</td>\n",
       "    </tr>\n",
       "    <tr>\n",
       "      <th>222</th>\n",
       "      <td>375</td>\n",
       "      <td>Mean</td>\n",
       "      <td>ppb</td>\n",
       "      <td>UHF34</td>\n",
       "      <td>105106107</td>\n",
       "      <td>South Bronx</td>\n",
       "      <td>Summer 2017</td>\n",
       "      <td>06/01/2017</td>\n",
       "      <td>16.75</td>\n",
       "    </tr>\n",
       "    <tr>\n",
       "      <th>...</th>\n",
       "      <td>...</td>\n",
       "      <td>...</td>\n",
       "      <td>...</td>\n",
       "      <td>...</td>\n",
       "      <td>...</td>\n",
       "      <td>...</td>\n",
       "      <td>...</td>\n",
       "      <td>...</td>\n",
       "      <td>...</td>\n",
       "    </tr>\n",
       "    <tr>\n",
       "      <th>11793</th>\n",
       "      <td>365</td>\n",
       "      <td>Mean</td>\n",
       "      <td>mcg/m3</td>\n",
       "      <td>UHF34</td>\n",
       "      <td>105106107</td>\n",
       "      <td>South Bronx</td>\n",
       "      <td>Winter 2017-18</td>\n",
       "      <td>12/01/2017</td>\n",
       "      <td>8.65</td>\n",
       "    </tr>\n",
       "    <tr>\n",
       "      <th>11794</th>\n",
       "      <td>365</td>\n",
       "      <td>Mean</td>\n",
       "      <td>mcg/m3</td>\n",
       "      <td>UHF34</td>\n",
       "      <td>105106107</td>\n",
       "      <td>South Bronx</td>\n",
       "      <td>Annual Average 2019</td>\n",
       "      <td>01/01/2019</td>\n",
       "      <td>7.33</td>\n",
       "    </tr>\n",
       "    <tr>\n",
       "      <th>14207</th>\n",
       "      <td>375</td>\n",
       "      <td>Mean</td>\n",
       "      <td>ppb</td>\n",
       "      <td>UHF34</td>\n",
       "      <td>105106107</td>\n",
       "      <td>South Bronx</td>\n",
       "      <td>Winter 2008-09</td>\n",
       "      <td>12/01/2008</td>\n",
       "      <td>32.11</td>\n",
       "    </tr>\n",
       "    <tr>\n",
       "      <th>14208</th>\n",
       "      <td>375</td>\n",
       "      <td>Mean</td>\n",
       "      <td>ppb</td>\n",
       "      <td>UHF34</td>\n",
       "      <td>105106107</td>\n",
       "      <td>South Bronx</td>\n",
       "      <td>Winter 2013-14</td>\n",
       "      <td>12/01/2013</td>\n",
       "      <td>28.11</td>\n",
       "    </tr>\n",
       "    <tr>\n",
       "      <th>14844</th>\n",
       "      <td>386</td>\n",
       "      <td>Mean</td>\n",
       "      <td>ppb</td>\n",
       "      <td>UHF34</td>\n",
       "      <td>105106107</td>\n",
       "      <td>South Bronx</td>\n",
       "      <td>Summer 2014</td>\n",
       "      <td>06/01/2014</td>\n",
       "      <td>30.58</td>\n",
       "    </tr>\n",
       "  </tbody>\n",
       "</table>\n",
       "<p>92 rows × 9 columns</p>\n",
       "</div>"
      ],
      "text/plain": [
       "       Indicator ID Measure Measure Info Geo Type Name  Geo Join ID  \\\n",
       "207             375    Mean          ppb         UHF34    105106107   \n",
       "208             375    Mean          ppb         UHF34    105106107   \n",
       "220             375    Mean          ppb         UHF34    105106107   \n",
       "221             375    Mean          ppb         UHF34    105106107   \n",
       "222             375    Mean          ppb         UHF34    105106107   \n",
       "...             ...     ...          ...           ...          ...   \n",
       "11793           365    Mean       mcg/m3         UHF34    105106107   \n",
       "11794           365    Mean       mcg/m3         UHF34    105106107   \n",
       "14207           375    Mean          ppb         UHF34    105106107   \n",
       "14208           375    Mean          ppb         UHF34    105106107   \n",
       "14844           386    Mean          ppb         UHF34    105106107   \n",
       "\n",
       "      Geo Place Name          Time Period  Start_Date  Data Value  \n",
       "207      South Bronx  Annual Average 2020  01/01/2020       18.59  \n",
       "208      South Bronx       Winter 2018-19  12/01/2018       23.64  \n",
       "220      South Bronx       Winter 2016-17  12/01/2016       27.47  \n",
       "221      South Bronx          Summer 2020  06/01/2020       14.49  \n",
       "222      South Bronx          Summer 2017  06/01/2017       16.75  \n",
       "...              ...                  ...         ...         ...  \n",
       "11793    South Bronx       Winter 2017-18  12/01/2017        8.65  \n",
       "11794    South Bronx  Annual Average 2019  01/01/2019        7.33  \n",
       "14207    South Bronx       Winter 2008-09  12/01/2008       32.11  \n",
       "14208    South Bronx       Winter 2013-14  12/01/2013       28.11  \n",
       "14844    South Bronx          Summer 2014  06/01/2014       30.58  \n",
       "\n",
       "[92 rows x 9 columns]"
      ]
     },
     "execution_count": 42,
     "metadata": {},
     "output_type": "execute_result"
    }
   ],
   "source": [
    "df3.loc[df3['Geo Join ID']==max(df3['Geo Join ID'])]"
   ]
  },
  {
   "cell_type": "markdown",
   "metadata": {
    "id": "gIfrtoZu4Q5U"
   },
   "source": [
    "## Seems like we didn't have anything in Geo Type name and geo join id to deal with if it is then we'll ask our manager about that data relevance as a data scientist or ML engineer our job is to make a model to predict not the intepret the data but sometimes we have to do it"
   ]
  },
  {
   "cell_type": "code",
   "execution_count": 43,
   "metadata": {
    "colab": {
     "base_uri": "https://localhost:8080/"
    },
    "id": "d8IMxo-X4Q5U",
    "outputId": "cc1ee269-84c7-4d87-9f87-67c2f125f891",
    "scrolled": true
   },
   "outputs": [
    {
     "data": {
      "text/plain": [
       "Geo Place Name\n",
       "Bedford Stuyvesant - Crown Heights    242\n",
       "West Queens                           242\n",
       "Flushing - Clearview                  242\n",
       "Upper West Side                       242\n",
       "Jamaica                               242\n",
       "                                     ... \n",
       "Bayside Little Neck-Fresh Meadows      92\n",
       "Northern SI                            92\n",
       "Upper East Side-Gramercy               92\n",
       "Union Square-Lower Manhattan           92\n",
       "Chelsea-Village                        92\n",
       "Name: count, Length: 114, dtype: int64"
      ]
     },
     "execution_count": 43,
     "metadata": {},
     "output_type": "execute_result"
    }
   ],
   "source": [
    "df3['Geo Place Name'].value_counts()"
   ]
  },
  {
   "cell_type": "code",
   "execution_count": 44,
   "metadata": {
    "colab": {
     "base_uri": "https://localhost:8080/"
    },
    "id": "mrrxo4AT4Q5U",
    "outputId": "d634a852-38e0-44f5-87a1-4f4e1be80bbb",
    "scrolled": true
   },
   "outputs": [
    {
     "data": {
      "text/plain": [
       "Time Period\n",
       "Summer 2017                        423\n",
       "Summer 2011                        423\n",
       "Summer 2012                        423\n",
       "Summer 2020                        423\n",
       "Summer 2016                        423\n",
       "Summer 2014                        423\n",
       "Summer 2010                        423\n",
       "Summer 2018                        423\n",
       "Summer 2021                        423\n",
       "Summer 2013                        423\n",
       "Summer 2009                        423\n",
       "Summer 2015                        423\n",
       "Summer 2019                        423\n",
       "Winter 2020-21                     282\n",
       "Winter 2015-16                     282\n",
       "Winter 2019-20                     282\n",
       "Annual Average 2019                282\n",
       "Winter 2013-14                     282\n",
       "Annual Average 2010                282\n",
       "Winter 2017-18                     282\n",
       "Winter 2008-09                     282\n",
       "Winter 2012-13                     282\n",
       "Annual Average 2011                282\n",
       "Annual Average 2016                282\n",
       "Annual Average 2018                282\n",
       "Annual Average 2009                282\n",
       "Winter 2011-12                     282\n",
       "Annual Average 2014                282\n",
       "Winter 2016-17                     282\n",
       "Winter 2018-19                     282\n",
       "Winter 2009-10                     282\n",
       "Annual Average 2017                282\n",
       "Annual Average 2021                282\n",
       "Winter 2014-15                     282\n",
       "Annual Average 2013                282\n",
       "Winter 2010-11                     282\n",
       "Annual Average 2020                282\n",
       "Annual Average 2015                282\n",
       "Annual Average 2012                282\n",
       "2-Year Summer Average 2009-2010    141\n",
       "Name: count, dtype: int64"
      ]
     },
     "execution_count": 44,
     "metadata": {},
     "output_type": "execute_result"
    }
   ],
   "source": [
    "df3.loc[df3['Measure']=='Mean','Time Period'].value_counts()"
   ]
  },
  {
   "cell_type": "code",
   "execution_count": 45,
   "metadata": {
    "colab": {
     "base_uri": "https://localhost:8080/"
    },
    "id": "3j1bE3Xe4Q5U",
    "outputId": "7fb417fb-61ac-484e-a608-6366a917b69b",
    "scrolled": true
   },
   "outputs": [
    {
     "data": {
      "text/plain": [
       "Time Period\n",
       "2012-2014                          480\n",
       "2005-2007                          480\n",
       "2009-2011                          480\n",
       "2015-2017                          480\n",
       "Summer 2014                        423\n",
       "Summer 2010                        423\n",
       "Summer 2012                        423\n",
       "Summer 2021                        423\n",
       "Summer 2013                        423\n",
       "Summer 2011                        423\n",
       "Summer 2020                        423\n",
       "Summer 2015                        423\n",
       "Summer 2019                        423\n",
       "Summer 2016                        423\n",
       "Summer 2018                        423\n",
       "Summer 2017                        423\n",
       "Summer 2009                        423\n",
       "2005                               407\n",
       "2016                               321\n",
       "Annual Average 2019                282\n",
       "Winter 2019-20                     282\n",
       "Annual Average 2010                282\n",
       "Winter 2015-16                     282\n",
       "Winter 2020-21                     282\n",
       "Winter 2012-13                     282\n",
       "Annual Average 2012                282\n",
       "Annual Average 2011                282\n",
       "Winter 2008-09                     282\n",
       "Winter 2013-14                     282\n",
       "Winter 2009-10                     282\n",
       "Annual Average 2015                282\n",
       "Annual Average 2020                282\n",
       "Winter 2010-11                     282\n",
       "Annual Average 2013                282\n",
       "Winter 2014-15                     282\n",
       "Annual Average 2021                282\n",
       "Winter 2017-18                     282\n",
       "Annual Average 2017                282\n",
       "Winter 2018-19                     282\n",
       "Winter 2016-17                     282\n",
       "Annual Average 2014                282\n",
       "Winter 2011-12                     282\n",
       "Annual Average 2016                282\n",
       "Annual Average 2018                282\n",
       "Annual Average 2009                282\n",
       "2011                               214\n",
       "2015                               144\n",
       "2013                               144\n",
       "2-Year Summer Average 2009-2010    141\n",
       "2014                                96\n",
       "Name: count, dtype: int64"
      ]
     },
     "execution_count": 45,
     "metadata": {},
     "output_type": "execute_result"
    }
   ],
   "source": [
    "df3['Time Period'].value_counts()"
   ]
  },
  {
   "cell_type": "markdown",
   "metadata": {
    "id": "KynQAnaz4Q5U"
   },
   "source": [
    "## We can extract the months from time period to see in which month our data is higher or lower"
   ]
  },
  {
   "cell_type": "code",
   "execution_count": 46,
   "metadata": {
    "id": "t0PgTxUS4Q5U",
    "scrolled": true
   },
   "outputs": [],
   "source": [
    "f = df3['Time Period'].str.split(' ')"
   ]
  },
  {
   "cell_type": "code",
   "execution_count": 47,
   "metadata": {
    "colab": {
     "base_uri": "https://localhost:8080/",
     "height": 36
    },
    "id": "yklxVAQw4Q5V",
    "outputId": "8c33c632-7e8a-496d-c126-8be66787dc21",
    "scrolled": true
   },
   "outputs": [
    {
     "data": {
      "text/plain": [
       "'Summer'"
      ]
     },
     "execution_count": 47,
     "metadata": {},
     "output_type": "execute_result"
    }
   ],
   "source": [
    "f[60][0]"
   ]
  },
  {
   "cell_type": "code",
   "execution_count": 48,
   "metadata": {
    "id": "lOP5PYTo4Q5V",
    "scrolled": true
   },
   "outputs": [],
   "source": [
    "df4= df3.copy()"
   ]
  },
  {
   "cell_type": "code",
   "execution_count": 49,
   "metadata": {
    "colab": {
     "base_uri": "https://localhost:8080/"
    },
    "id": "s8GDac2l4Q5V",
    "outputId": "39b5925f-95b8-4475-f212-a762e38b0c56",
    "scrolled": true
   },
   "outputs": [
    {
     "data": {
      "text/plain": [
       "0"
      ]
     },
     "execution_count": 49,
     "metadata": {},
     "output_type": "execute_result"
    }
   ],
   "source": [
    "df4['Time Period'].isnull().sum()"
   ]
  },
  {
   "cell_type": "code",
   "execution_count": 50,
   "metadata": {
    "id": "ite__bBc4Q5V",
    "scrolled": true
   },
   "outputs": [],
   "source": [
    "# df4['Months Involved'] = None"
   ]
  },
  {
   "cell_type": "code",
   "execution_count": 51,
   "metadata": {
    "id": "leE75G2R4Q5V",
    "scrolled": true
   },
   "outputs": [],
   "source": [
    "summer=['Jun', 'Jul','Aug']\n",
    "winter=['Nov','Dec','Jan','Feb','Mar','Apr']\n",
    "annual=['Jan','Feb','Mar','Apr', 'May','Jun', 'Jul','Aug','Sep','Nov','Dec']\n",
    "\n",
    "for idx, value in df4.iterrows():\n",
    "    val = value['Time Period']\n",
    "    if val.startswith(('Summer','2-Year')):\n",
    "        df4.loc[idx, 'Months Involved'] = 'summer'\n",
    "    elif val.startswith('Winter'):\n",
    "        df4.loc[idx, 'Months Involved'] = 'winter'\n",
    "    #we can conclude these 3 elifs into one but for code beauty we split them by their similarities\n",
    "    elif val.startswith('Annual'):\n",
    "        df4.loc[idx, 'Months Involved'] = 'annual'\n",
    "    elif val.startswith(('2012-2014', '2005-2007', '2009-2011', '2015-2017')):\n",
    "        df4.loc[idx, 'Months Involved'] = 'annual'\n",
    "    elif val.startswith(('2011', '2013', '2014', '2015', '2005', '2016')):\n",
    "        df4.loc[idx, 'Months Involved'] = 'annual'\n",
    "#Now it's time to replace them with our desired value\n"
   ]
  },
  {
   "cell_type": "code",
   "execution_count": 52,
   "metadata": {
    "colab": {
     "base_uri": "https://localhost:8080/",
     "height": 143
    },
    "id": "KmcNC44i4Q5V",
    "outputId": "65c590da-9396-4eac-8811-94cc8d9e55b9"
   },
   "outputs": [
    {
     "data": {
      "text/html": [
       "<div>\n",
       "<style scoped>\n",
       "    .dataframe tbody tr th:only-of-type {\n",
       "        vertical-align: middle;\n",
       "    }\n",
       "\n",
       "    .dataframe tbody tr th {\n",
       "        vertical-align: top;\n",
       "    }\n",
       "\n",
       "    .dataframe thead th {\n",
       "        text-align: right;\n",
       "    }\n",
       "</style>\n",
       "<table border=\"1\" class=\"dataframe\">\n",
       "  <thead>\n",
       "    <tr style=\"text-align: right;\">\n",
       "      <th></th>\n",
       "      <th>Indicator ID</th>\n",
       "      <th>Measure</th>\n",
       "      <th>Measure Info</th>\n",
       "      <th>Geo Type Name</th>\n",
       "      <th>Geo Join ID</th>\n",
       "      <th>Geo Place Name</th>\n",
       "      <th>Time Period</th>\n",
       "      <th>Start_Date</th>\n",
       "      <th>Data Value</th>\n",
       "      <th>Months Involved</th>\n",
       "    </tr>\n",
       "  </thead>\n",
       "  <tbody>\n",
       "    <tr>\n",
       "      <th>14</th>\n",
       "      <td>375</td>\n",
       "      <td>Mean</td>\n",
       "      <td>ppb</td>\n",
       "      <td>UHF42</td>\n",
       "      <td>209</td>\n",
       "      <td>Bensonhurst - Bay Ridge</td>\n",
       "      <td>Summer 2009</td>\n",
       "      <td>06/01/2009</td>\n",
       "      <td>18.95</td>\n",
       "      <td>summer</td>\n",
       "    </tr>\n",
       "    <tr>\n",
       "      <th>15</th>\n",
       "      <td>375</td>\n",
       "      <td>Mean</td>\n",
       "      <td>ppb</td>\n",
       "      <td>UHF42</td>\n",
       "      <td>210</td>\n",
       "      <td>Coney Island - Sheepshead Bay</td>\n",
       "      <td>Summer 2009</td>\n",
       "      <td>06/01/2009</td>\n",
       "      <td>15.22</td>\n",
       "      <td>summer</td>\n",
       "    </tr>\n",
       "    <tr>\n",
       "      <th>23</th>\n",
       "      <td>375</td>\n",
       "      <td>Mean</td>\n",
       "      <td>ppb</td>\n",
       "      <td>CD</td>\n",
       "      <td>102</td>\n",
       "      <td>Greenwich Village and Soho (CD2)</td>\n",
       "      <td>Summer 2009</td>\n",
       "      <td>06/01/2009</td>\n",
       "      <td>31.63</td>\n",
       "      <td>summer</td>\n",
       "    </tr>\n",
       "  </tbody>\n",
       "</table>\n",
       "</div>"
      ],
      "text/plain": [
       "    Indicator ID Measure Measure Info Geo Type Name  Geo Join ID  \\\n",
       "14           375    Mean          ppb         UHF42          209   \n",
       "15           375    Mean          ppb         UHF42          210   \n",
       "23           375    Mean          ppb            CD          102   \n",
       "\n",
       "                      Geo Place Name  Time Period  Start_Date  Data Value  \\\n",
       "14           Bensonhurst - Bay Ridge  Summer 2009  06/01/2009       18.95   \n",
       "15     Coney Island - Sheepshead Bay  Summer 2009  06/01/2009       15.22   \n",
       "23  Greenwich Village and Soho (CD2)  Summer 2009  06/01/2009       31.63   \n",
       "\n",
       "   Months Involved  \n",
       "14          summer  \n",
       "15          summer  \n",
       "23          summer  "
      ]
     },
     "execution_count": 52,
     "metadata": {},
     "output_type": "execute_result"
    }
   ],
   "source": [
    "df4[df4['Months Involved'] =='summer'].head(3)"
   ]
  },
  {
   "cell_type": "code",
   "execution_count": 53,
   "metadata": {
    "colab": {
     "base_uri": "https://localhost:8080/",
     "height": 143
    },
    "id": "doUrpDe74Q5V",
    "outputId": "d305a0bf-cb4d-42a9-a59e-9679c336ed1d"
   },
   "outputs": [
    {
     "data": {
      "text/html": [
       "<div>\n",
       "<style scoped>\n",
       "    .dataframe tbody tr th:only-of-type {\n",
       "        vertical-align: middle;\n",
       "    }\n",
       "\n",
       "    .dataframe tbody tr th {\n",
       "        vertical-align: top;\n",
       "    }\n",
       "\n",
       "    .dataframe thead th {\n",
       "        text-align: right;\n",
       "    }\n",
       "</style>\n",
       "<table border=\"1\" class=\"dataframe\">\n",
       "  <thead>\n",
       "    <tr style=\"text-align: right;\">\n",
       "      <th></th>\n",
       "      <th>Indicator ID</th>\n",
       "      <th>Measure</th>\n",
       "      <th>Measure Info</th>\n",
       "      <th>Geo Type Name</th>\n",
       "      <th>Geo Join ID</th>\n",
       "      <th>Geo Place Name</th>\n",
       "      <th>Time Period</th>\n",
       "      <th>Start_Date</th>\n",
       "      <th>Data Value</th>\n",
       "      <th>Months Involved</th>\n",
       "    </tr>\n",
       "  </thead>\n",
       "  <tbody>\n",
       "    <tr>\n",
       "      <th>0</th>\n",
       "      <td>375</td>\n",
       "      <td>Mean</td>\n",
       "      <td>ppb</td>\n",
       "      <td>UHF34</td>\n",
       "      <td>203</td>\n",
       "      <td>Bedford Stuyvesant - Crown Heights</td>\n",
       "      <td>Annual Average 2011</td>\n",
       "      <td>12/01/2010</td>\n",
       "      <td>25.30</td>\n",
       "      <td>annual</td>\n",
       "    </tr>\n",
       "    <tr>\n",
       "      <th>1</th>\n",
       "      <td>375</td>\n",
       "      <td>Mean</td>\n",
       "      <td>ppb</td>\n",
       "      <td>UHF34</td>\n",
       "      <td>203</td>\n",
       "      <td>Bedford Stuyvesant - Crown Heights</td>\n",
       "      <td>Annual Average 2009</td>\n",
       "      <td>12/01/2008</td>\n",
       "      <td>26.93</td>\n",
       "      <td>annual</td>\n",
       "    </tr>\n",
       "    <tr>\n",
       "      <th>2</th>\n",
       "      <td>375</td>\n",
       "      <td>Mean</td>\n",
       "      <td>ppb</td>\n",
       "      <td>UHF34</td>\n",
       "      <td>204</td>\n",
       "      <td>East New York</td>\n",
       "      <td>Annual Average 2015</td>\n",
       "      <td>01/01/2015</td>\n",
       "      <td>19.09</td>\n",
       "      <td>annual</td>\n",
       "    </tr>\n",
       "  </tbody>\n",
       "</table>\n",
       "</div>"
      ],
      "text/plain": [
       "   Indicator ID Measure Measure Info Geo Type Name  Geo Join ID  \\\n",
       "0           375    Mean          ppb         UHF34          203   \n",
       "1           375    Mean          ppb         UHF34          203   \n",
       "2           375    Mean          ppb         UHF34          204   \n",
       "\n",
       "                       Geo Place Name          Time Period  Start_Date  \\\n",
       "0  Bedford Stuyvesant - Crown Heights  Annual Average 2011  12/01/2010   \n",
       "1  Bedford Stuyvesant - Crown Heights  Annual Average 2009  12/01/2008   \n",
       "2                       East New York  Annual Average 2015  01/01/2015   \n",
       "\n",
       "   Data Value Months Involved  \n",
       "0       25.30          annual  \n",
       "1       26.93          annual  \n",
       "2       19.09          annual  "
      ]
     },
     "execution_count": 53,
     "metadata": {},
     "output_type": "execute_result"
    }
   ],
   "source": [
    "df4.head(3)"
   ]
  },
  {
   "cell_type": "code",
   "execution_count": 54,
   "metadata": {
    "colab": {
     "base_uri": "https://localhost:8080/"
    },
    "id": "IaZlwavB4Q5V",
    "outputId": "2dd1c590-580e-4832-e3f4-8dd0ff366281",
    "scrolled": true
   },
   "outputs": [
    {
     "data": {
      "text/plain": [
       "0"
      ]
     },
     "execution_count": 54,
     "metadata": {},
     "output_type": "execute_result"
    }
   ],
   "source": [
    "df4['Months Involved'].isnull().sum()"
   ]
  },
  {
   "cell_type": "code",
   "execution_count": 55,
   "metadata": {
    "colab": {
     "base_uri": "https://localhost:8080/"
    },
    "id": "ygS2XoS_4Q5W",
    "outputId": "bbd5a0e6-5947-435d-ba4e-61ee2b7c6270",
    "scrolled": true
   },
   "outputs": [
    {
     "data": {
      "text/plain": [
       "0        annual\n",
       "1        annual\n",
       "2        annual\n",
       "3        annual\n",
       "4        annual\n",
       "          ...  \n",
       "16213    annual\n",
       "16214    annual\n",
       "16215    annual\n",
       "16216    annual\n",
       "16217    annual\n",
       "Name: Months Involved, Length: 16218, dtype: object"
      ]
     },
     "execution_count": 55,
     "metadata": {},
     "output_type": "execute_result"
    }
   ],
   "source": [
    "df4['Months Involved']"
   ]
  },
  {
   "cell_type": "code",
   "execution_count": 56,
   "metadata": {
    "colab": {
     "base_uri": "https://localhost:8080/"
    },
    "id": "Ec3FMPzy4Q5W",
    "outputId": "60fc20e3-2085-4915-dbe1-e7a546e2ae00",
    "scrolled": true
   },
   "outputs": [
    {
     "data": {
      "text/plain": [
       "Months Involved\n",
       "annual    6912\n",
       "summer    5640\n",
       "winter    3666\n",
       "Name: count, dtype: int64"
      ]
     },
     "execution_count": 56,
     "metadata": {},
     "output_type": "execute_result"
    }
   ],
   "source": [
    "df4['Months Involved'].value_counts()"
   ]
  },
  {
   "cell_type": "code",
   "execution_count": 57,
   "metadata": {
    "colab": {
     "base_uri": "https://localhost:8080/"
    },
    "id": "OYsIa-sJ4Q5W",
    "outputId": "d7797819-844b-4676-dd74-05035a489a19",
    "scrolled": true
   },
   "outputs": [
    {
     "data": {
      "text/plain": [
       "16218"
      ]
     },
     "execution_count": 57,
     "metadata": {},
     "output_type": "execute_result"
    }
   ],
   "source": [
    "6912+5640+3666"
   ]
  },
  {
   "cell_type": "code",
   "execution_count": 58,
   "metadata": {
    "colab": {
     "base_uri": "https://localhost:8080/",
     "height": 143
    },
    "id": "0c5GQ1cM4Q5W",
    "outputId": "5de61374-5925-4207-c5c6-a5133a9d1074",
    "scrolled": true
   },
   "outputs": [
    {
     "data": {
      "text/html": [
       "<div>\n",
       "<style scoped>\n",
       "    .dataframe tbody tr th:only-of-type {\n",
       "        vertical-align: middle;\n",
       "    }\n",
       "\n",
       "    .dataframe tbody tr th {\n",
       "        vertical-align: top;\n",
       "    }\n",
       "\n",
       "    .dataframe thead th {\n",
       "        text-align: right;\n",
       "    }\n",
       "</style>\n",
       "<table border=\"1\" class=\"dataframe\">\n",
       "  <thead>\n",
       "    <tr style=\"text-align: right;\">\n",
       "      <th></th>\n",
       "      <th>Indicator ID</th>\n",
       "      <th>Measure</th>\n",
       "      <th>Measure Info</th>\n",
       "      <th>Geo Type Name</th>\n",
       "      <th>Geo Join ID</th>\n",
       "      <th>Geo Place Name</th>\n",
       "      <th>Time Period</th>\n",
       "      <th>Start_Date</th>\n",
       "      <th>Data Value</th>\n",
       "      <th>Months Involved</th>\n",
       "    </tr>\n",
       "  </thead>\n",
       "  <tbody>\n",
       "    <tr>\n",
       "      <th>14</th>\n",
       "      <td>375</td>\n",
       "      <td>Mean</td>\n",
       "      <td>ppb</td>\n",
       "      <td>UHF42</td>\n",
       "      <td>209</td>\n",
       "      <td>Bensonhurst - Bay Ridge</td>\n",
       "      <td>Summer 2009</td>\n",
       "      <td>06/01/2009</td>\n",
       "      <td>18.95</td>\n",
       "      <td>summer</td>\n",
       "    </tr>\n",
       "    <tr>\n",
       "      <th>15</th>\n",
       "      <td>375</td>\n",
       "      <td>Mean</td>\n",
       "      <td>ppb</td>\n",
       "      <td>UHF42</td>\n",
       "      <td>210</td>\n",
       "      <td>Coney Island - Sheepshead Bay</td>\n",
       "      <td>Summer 2009</td>\n",
       "      <td>06/01/2009</td>\n",
       "      <td>15.22</td>\n",
       "      <td>summer</td>\n",
       "    </tr>\n",
       "    <tr>\n",
       "      <th>23</th>\n",
       "      <td>375</td>\n",
       "      <td>Mean</td>\n",
       "      <td>ppb</td>\n",
       "      <td>CD</td>\n",
       "      <td>102</td>\n",
       "      <td>Greenwich Village and Soho (CD2)</td>\n",
       "      <td>Summer 2009</td>\n",
       "      <td>06/01/2009</td>\n",
       "      <td>31.63</td>\n",
       "      <td>summer</td>\n",
       "    </tr>\n",
       "  </tbody>\n",
       "</table>\n",
       "</div>"
      ],
      "text/plain": [
       "    Indicator ID Measure Measure Info Geo Type Name  Geo Join ID  \\\n",
       "14           375    Mean          ppb         UHF42          209   \n",
       "15           375    Mean          ppb         UHF42          210   \n",
       "23           375    Mean          ppb            CD          102   \n",
       "\n",
       "                      Geo Place Name  Time Period  Start_Date  Data Value  \\\n",
       "14           Bensonhurst - Bay Ridge  Summer 2009  06/01/2009       18.95   \n",
       "15     Coney Island - Sheepshead Bay  Summer 2009  06/01/2009       15.22   \n",
       "23  Greenwich Village and Soho (CD2)  Summer 2009  06/01/2009       31.63   \n",
       "\n",
       "   Months Involved  \n",
       "14          summer  \n",
       "15          summer  \n",
       "23          summer  "
      ]
     },
     "execution_count": 58,
     "metadata": {},
     "output_type": "execute_result"
    }
   ],
   "source": [
    "df4[df4['Months Involved'] =='summer'].head(3)"
   ]
  },
  {
   "cell_type": "code",
   "execution_count": 59,
   "metadata": {
    "id": "DvyJyo-z4Q5W",
    "scrolled": true
   },
   "outputs": [],
   "source": [
    "# df4['Months Involved'] = df4['Months Involved'].map(lambda x: summer if x == 'summer' else (winter if x == 'winter' else (annual if x == 'annual' else x)))\n"
   ]
  },
  {
   "cell_type": "code",
   "execution_count": 60,
   "metadata": {
    "colab": {
     "base_uri": "https://localhost:8080/"
    },
    "id": "lkf-4_X-4Q5W",
    "outputId": "c8c97a49-79f5-4cb8-9423-ec563475b810",
    "scrolled": true
   },
   "outputs": [
    {
     "data": {
      "text/plain": [
       "Months Involved\n",
       "annual    6912\n",
       "summer    5640\n",
       "winter    3666\n",
       "Name: count, dtype: int64"
      ]
     },
     "execution_count": 60,
     "metadata": {},
     "output_type": "execute_result"
    }
   ],
   "source": [
    "df4['Months Involved'].value_counts()"
   ]
  },
  {
   "cell_type": "markdown",
   "metadata": {
    "id": "j49czB6n4Q5W"
   },
   "source": [
    "## Now so far we succesfully replace all columns with the month values not let's check the last but not the least start_Date column"
   ]
  },
  {
   "cell_type": "markdown",
   "metadata": {
    "id": "SVPWMBdk4Q5W"
   },
   "source": [
    "## We can extract 3 more columns from that start date time column years,months,days but i already extract months from time period and I think that day column also didn't matters much but the years column will matters so I'm now extracting the year column below."
   ]
  },
  {
   "cell_type": "code",
   "execution_count": 61,
   "metadata": {
    "id": "AmQfXz-B4Q5X"
   },
   "outputs": [],
   "source": [
    "def pddt(df,Name='Date'):\n",
    "    df[Name] = pd.to_datetime(df[Name])\n",
    "    df['Year'] = df[Name].dt.year"
   ]
  },
  {
   "cell_type": "code",
   "execution_count": 62,
   "metadata": {
    "id": "qkRvEVx-4Q5X"
   },
   "outputs": [],
   "source": [
    "pddt(df4,'Start_Date')"
   ]
  },
  {
   "cell_type": "code",
   "execution_count": 63,
   "metadata": {
    "colab": {
     "base_uri": "https://localhost:8080/",
     "height": 143
    },
    "id": "YLMzCTol4Q5X",
    "outputId": "a030907d-ad41-47ca-bdad-851797ca0037"
   },
   "outputs": [
    {
     "data": {
      "text/html": [
       "<div>\n",
       "<style scoped>\n",
       "    .dataframe tbody tr th:only-of-type {\n",
       "        vertical-align: middle;\n",
       "    }\n",
       "\n",
       "    .dataframe tbody tr th {\n",
       "        vertical-align: top;\n",
       "    }\n",
       "\n",
       "    .dataframe thead th {\n",
       "        text-align: right;\n",
       "    }\n",
       "</style>\n",
       "<table border=\"1\" class=\"dataframe\">\n",
       "  <thead>\n",
       "    <tr style=\"text-align: right;\">\n",
       "      <th></th>\n",
       "      <th>Indicator ID</th>\n",
       "      <th>Measure</th>\n",
       "      <th>Measure Info</th>\n",
       "      <th>Geo Type Name</th>\n",
       "      <th>Geo Join ID</th>\n",
       "      <th>Geo Place Name</th>\n",
       "      <th>Time Period</th>\n",
       "      <th>Start_Date</th>\n",
       "      <th>Data Value</th>\n",
       "      <th>Months Involved</th>\n",
       "      <th>Year</th>\n",
       "    </tr>\n",
       "  </thead>\n",
       "  <tbody>\n",
       "    <tr>\n",
       "      <th>0</th>\n",
       "      <td>375</td>\n",
       "      <td>Mean</td>\n",
       "      <td>ppb</td>\n",
       "      <td>UHF34</td>\n",
       "      <td>203</td>\n",
       "      <td>Bedford Stuyvesant - Crown Heights</td>\n",
       "      <td>Annual Average 2011</td>\n",
       "      <td>2010-12-01</td>\n",
       "      <td>25.30</td>\n",
       "      <td>annual</td>\n",
       "      <td>2010</td>\n",
       "    </tr>\n",
       "    <tr>\n",
       "      <th>1</th>\n",
       "      <td>375</td>\n",
       "      <td>Mean</td>\n",
       "      <td>ppb</td>\n",
       "      <td>UHF34</td>\n",
       "      <td>203</td>\n",
       "      <td>Bedford Stuyvesant - Crown Heights</td>\n",
       "      <td>Annual Average 2009</td>\n",
       "      <td>2008-12-01</td>\n",
       "      <td>26.93</td>\n",
       "      <td>annual</td>\n",
       "      <td>2008</td>\n",
       "    </tr>\n",
       "    <tr>\n",
       "      <th>2</th>\n",
       "      <td>375</td>\n",
       "      <td>Mean</td>\n",
       "      <td>ppb</td>\n",
       "      <td>UHF34</td>\n",
       "      <td>204</td>\n",
       "      <td>East New York</td>\n",
       "      <td>Annual Average 2015</td>\n",
       "      <td>2015-01-01</td>\n",
       "      <td>19.09</td>\n",
       "      <td>annual</td>\n",
       "      <td>2015</td>\n",
       "    </tr>\n",
       "  </tbody>\n",
       "</table>\n",
       "</div>"
      ],
      "text/plain": [
       "   Indicator ID Measure Measure Info Geo Type Name  Geo Join ID  \\\n",
       "0           375    Mean          ppb         UHF34          203   \n",
       "1           375    Mean          ppb         UHF34          203   \n",
       "2           375    Mean          ppb         UHF34          204   \n",
       "\n",
       "                       Geo Place Name          Time Period Start_Date  \\\n",
       "0  Bedford Stuyvesant - Crown Heights  Annual Average 2011 2010-12-01   \n",
       "1  Bedford Stuyvesant - Crown Heights  Annual Average 2009 2008-12-01   \n",
       "2                       East New York  Annual Average 2015 2015-01-01   \n",
       "\n",
       "   Data Value Months Involved  Year  \n",
       "0       25.30          annual  2010  \n",
       "1       26.93          annual  2008  \n",
       "2       19.09          annual  2015  "
      ]
     },
     "execution_count": 63,
     "metadata": {},
     "output_type": "execute_result"
    }
   ],
   "source": [
    "df4.head(3)"
   ]
  },
  {
   "cell_type": "markdown",
   "metadata": {
    "id": "IumHCOwG4Q5X"
   },
   "source": [
    "### Now all the important columns were extracted I old columns such as time period and start_date doesn't make any difference let's drop them"
   ]
  },
  {
   "cell_type": "code",
   "execution_count": 64,
   "metadata": {
    "id": "wfVfUhOu4Q5X"
   },
   "outputs": [],
   "source": [
    "df5 = df4.drop(['Time Period', 'Start_Date'], axis=1)"
   ]
  },
  {
   "cell_type": "code",
   "execution_count": 65,
   "metadata": {
    "colab": {
     "base_uri": "https://localhost:8080/",
     "height": 206
    },
    "id": "PgMg66U64Q5X",
    "outputId": "f62829b3-077e-4652-f2f9-f8e0754b11df"
   },
   "outputs": [
    {
     "data": {
      "text/html": [
       "<div>\n",
       "<style scoped>\n",
       "    .dataframe tbody tr th:only-of-type {\n",
       "        vertical-align: middle;\n",
       "    }\n",
       "\n",
       "    .dataframe tbody tr th {\n",
       "        vertical-align: top;\n",
       "    }\n",
       "\n",
       "    .dataframe thead th {\n",
       "        text-align: right;\n",
       "    }\n",
       "</style>\n",
       "<table border=\"1\" class=\"dataframe\">\n",
       "  <thead>\n",
       "    <tr style=\"text-align: right;\">\n",
       "      <th></th>\n",
       "      <th>Indicator ID</th>\n",
       "      <th>Measure</th>\n",
       "      <th>Measure Info</th>\n",
       "      <th>Geo Type Name</th>\n",
       "      <th>Geo Join ID</th>\n",
       "      <th>Geo Place Name</th>\n",
       "      <th>Data Value</th>\n",
       "      <th>Months Involved</th>\n",
       "      <th>Year</th>\n",
       "    </tr>\n",
       "  </thead>\n",
       "  <tbody>\n",
       "    <tr>\n",
       "      <th>0</th>\n",
       "      <td>375</td>\n",
       "      <td>Mean</td>\n",
       "      <td>ppb</td>\n",
       "      <td>UHF34</td>\n",
       "      <td>203</td>\n",
       "      <td>Bedford Stuyvesant - Crown Heights</td>\n",
       "      <td>25.30</td>\n",
       "      <td>annual</td>\n",
       "      <td>2010</td>\n",
       "    </tr>\n",
       "    <tr>\n",
       "      <th>1</th>\n",
       "      <td>375</td>\n",
       "      <td>Mean</td>\n",
       "      <td>ppb</td>\n",
       "      <td>UHF34</td>\n",
       "      <td>203</td>\n",
       "      <td>Bedford Stuyvesant - Crown Heights</td>\n",
       "      <td>26.93</td>\n",
       "      <td>annual</td>\n",
       "      <td>2008</td>\n",
       "    </tr>\n",
       "    <tr>\n",
       "      <th>2</th>\n",
       "      <td>375</td>\n",
       "      <td>Mean</td>\n",
       "      <td>ppb</td>\n",
       "      <td>UHF34</td>\n",
       "      <td>204</td>\n",
       "      <td>East New York</td>\n",
       "      <td>19.09</td>\n",
       "      <td>annual</td>\n",
       "      <td>2015</td>\n",
       "    </tr>\n",
       "    <tr>\n",
       "      <th>3</th>\n",
       "      <td>375</td>\n",
       "      <td>Mean</td>\n",
       "      <td>ppb</td>\n",
       "      <td>UHF34</td>\n",
       "      <td>103</td>\n",
       "      <td>Fordham - Bronx Pk</td>\n",
       "      <td>19.76</td>\n",
       "      <td>annual</td>\n",
       "      <td>2015</td>\n",
       "    </tr>\n",
       "    <tr>\n",
       "      <th>4</th>\n",
       "      <td>375</td>\n",
       "      <td>Mean</td>\n",
       "      <td>ppb</td>\n",
       "      <td>UHF34</td>\n",
       "      <td>104</td>\n",
       "      <td>Pelham - Throgs Neck</td>\n",
       "      <td>22.83</td>\n",
       "      <td>annual</td>\n",
       "      <td>2008</td>\n",
       "    </tr>\n",
       "  </tbody>\n",
       "</table>\n",
       "</div>"
      ],
      "text/plain": [
       "   Indicator ID Measure Measure Info Geo Type Name  Geo Join ID  \\\n",
       "0           375    Mean          ppb         UHF34          203   \n",
       "1           375    Mean          ppb         UHF34          203   \n",
       "2           375    Mean          ppb         UHF34          204   \n",
       "3           375    Mean          ppb         UHF34          103   \n",
       "4           375    Mean          ppb         UHF34          104   \n",
       "\n",
       "                       Geo Place Name  Data Value Months Involved  Year  \n",
       "0  Bedford Stuyvesant - Crown Heights       25.30          annual  2010  \n",
       "1  Bedford Stuyvesant - Crown Heights       26.93          annual  2008  \n",
       "2                       East New York       19.09          annual  2015  \n",
       "3                  Fordham - Bronx Pk       19.76          annual  2015  \n",
       "4                Pelham - Throgs Neck       22.83          annual  2008  "
      ]
     },
     "execution_count": 65,
     "metadata": {},
     "output_type": "execute_result"
    }
   ],
   "source": [
    "df5.head(5)"
   ]
  },
  {
   "cell_type": "code",
   "execution_count": 66,
   "metadata": {
    "colab": {
     "base_uri": "https://localhost:8080/"
    },
    "id": "ELZvpXIC4Q5X",
    "outputId": "77686049-a1da-40a6-d816-7064c8e6f913"
   },
   "outputs": [
    {
     "data": {
      "text/plain": [
       "Year\n",
       "2015    1893\n",
       "2009    1608\n",
       "2012    1467\n",
       "2011    1201\n",
       "2013    1131\n",
       "2016    1026\n",
       "2010     987\n",
       "2020     987\n",
       "2017     987\n",
       "2018     987\n",
       "2019     987\n",
       "2005     887\n",
       "2014     801\n",
       "2021     705\n",
       "2008     564\n",
       "Name: count, dtype: int64"
      ]
     },
     "execution_count": 66,
     "metadata": {},
     "output_type": "execute_result"
    }
   ],
   "source": [
    "df5['Year'].value_counts()"
   ]
  },
  {
   "cell_type": "markdown",
   "metadata": {
    "id": "Wtd5sLQO4Q5X"
   },
   "source": [
    "#### As we can see the years in year columns make sense of every year presence beacause year just have a large value suppose <100 so by that we cant drop any years it'd be bad for our Model so let's conclude our data cleaning by creating and encoding the columns"
   ]
  },
  {
   "cell_type": "code",
   "execution_count": 67,
   "metadata": {
    "colab": {
     "base_uri": "https://localhost:8080/"
    },
    "id": "J5cL83G74Q5X",
    "outputId": "2f7a4dd6-5069-457d-e5fc-4e26af814d72"
   },
   "outputs": [
    {
     "data": {
      "text/plain": [
       "Indicator ID         int64\n",
       "Measure             object\n",
       "Measure Info        object\n",
       "Geo Type Name       object\n",
       "Geo Join ID          int64\n",
       "Geo Place Name      object\n",
       "Data Value         float64\n",
       "Months Involved     object\n",
       "Year                 int32\n",
       "dtype: object"
      ]
     },
     "execution_count": 67,
     "metadata": {},
     "output_type": "execute_result"
    }
   ],
   "source": [
    "df5.dtypes"
   ]
  },
  {
   "cell_type": "markdown",
   "metadata": {
    "id": "ZTsHYjfU4Q5Y"
   },
   "source": [
    "# Data is cleaned Now visualize and see how the data varies with alr"
   ]
  },
  {
   "cell_type": "code",
   "execution_count": 68,
   "metadata": {
    "colab": {
     "base_uri": "https://localhost:8080/",
     "height": 795
    },
    "id": "HUvqwT-E4Q5Y",
    "outputId": "85b6d728-96b2-4996-d872-8e6a32880a7a"
   },
   "outputs": [
    {
     "data": {
      "image/png": "[encoded data removed]",
      "text/plain": [
       "<Figure size 1000x900 with 1 Axes>"
      ]
     },
     "metadata": {},
     "output_type": "display_data"
    }
   ],
   "source": [
    "plt.figure(figsize=(10,9))\n",
    "sample_geo = df5['Geo Place Name'].sample(n=5)\n",
    "sample_data = df5['Data Value'].sample(n=100)\n",
    "\n",
    "plt.hist(sample_geo)\n",
    "plt.xlabel('Data Value')\n",
    "plt.ylabel('Frequency')\n",
    "plt.title('Histogram of Data Values')\n",
    "plt.show()"
   ]
  },
  {
   "cell_type": "code",
   "execution_count": 69,
   "metadata": {
    "colab": {
     "base_uri": "https://localhost:8080/",
     "height": 472
    },
    "id": "mU8ZGPCt4Q5Y",
    "outputId": "d2f6c1a3-290e-4f26-b8ad-d540d8a114fb"
   },
   "outputs": [
    {
     "data": {
      "image/png": "[encoded data removed]",
      "text/plain": [
       "<Figure size 640x480 with 1 Axes>"
      ]
     },
     "metadata": {},
     "output_type": "display_data"
    }
   ],
   "source": [
    "sample_geo_id = df5['Geo Join ID'].sample(n=100)\n",
    "sample_data = df5['Data Value'].sample(n=100)\n",
    "\n",
    "plt.scatter(x=sample_geo_id, y=sample_data)\n",
    "plt.xlabel('Geo Join ID')\n",
    "plt.ylabel('Data Value')\n",
    "plt.title('Scatter Plot of Geo Join ID vs Data Value')\n",
    "plt.show()\n"
   ]
  },
  {
   "cell_type": "code",
   "execution_count": 70,
   "metadata": {
    "colab": {
     "base_uri": "https://localhost:8080/",
     "height": 472
    },
    "id": "oEwF-dPg4Q5Y",
    "outputId": "4897260a-1043-4dad-cf1e-283dbe688974"
   },
   "outputs": [
    {
     "data": {
      "image/png": "[encoded data removed]",
      "text/plain": [
       "<Figure size 640x480 with 1 Axes>"
      ]
     },
     "metadata": {},
     "output_type": "display_data"
    }
   ],
   "source": [
    "sample_geo_id = df5['Indicator ID'].sample(n=100)\n",
    "sample_data = df5['Data Value'].sample(n=100)\n",
    "\n",
    "plt.scatter(x=sample_geo_id, y=sample_data)\n",
    "plt.xlabel('Geo Join ID')\n",
    "plt.ylabel('Data Value')\n",
    "plt.title('Scatter Plot of Geo Join ID vs Data Value')\n",
    "plt.show()"
   ]
  },
  {
   "cell_type": "code",
   "execution_count": 71,
   "metadata": {
    "colab": {
     "base_uri": "https://localhost:8080/",
     "height": 472
    },
    "id": "JsmC-emR4Q5Y",
    "outputId": "6b842b70-91d3-47f3-c2c1-362c3bf82310"
   },
   "outputs": [
    {
     "data": {
      "image/png": "[encoded data removed]",
      "text/plain": [
       "<Figure size 640x480 with 1 Axes>"
      ]
     },
     "metadata": {},
     "output_type": "display_data"
    }
   ],
   "source": [
    "sample_geo_id = df5['Indicator ID'].sample(n=100)\n",
    "sample_data = df5['Data Value'].sample(n=100)\n",
    "\n",
    "plt.scatter(x=sample_geo_id, y=sample_data)\n",
    "plt.xlabel('Geo Join ID')\n",
    "plt.ylabel('Data Value')\n",
    "plt.title('Scatter Plot of Geo Join ID vs Data Value')\n",
    "plt.show()"
   ]
  },
  {
   "cell_type": "code",
   "execution_count": 72,
   "metadata": {
    "colab": {
     "base_uri": "https://localhost:8080/",
     "height": 472
    },
    "id": "1myLYC-t4Q5Y",
    "outputId": "0f9b9035-e463-4ea8-fadb-47879c9bc70d"
   },
   "outputs": [
    {
     "data": {
      "image/png": "[encoded data removed]",
      "text/plain": [
       "<Figure size 640x480 with 1 Axes>"
      ]
     },
     "metadata": {},
     "output_type": "display_data"
    }
   ],
   "source": [
    "sample_geo_id = df5['Indicator ID'].sample(n=100)\n",
    "sample_data = df5['Data Value'].sample(n=100)\n",
    "\n",
    "plt.bar(sample_geo_id, sample_data)\n",
    "plt.xlabel('Geo Join ID')\n",
    "plt.ylabel('Data Value')\n",
    "plt.title('Scatter Plot of Geo Join ID vs Data Value')\n",
    "plt.show()"
   ]
  },
  {
   "cell_type": "code",
   "execution_count": 73,
   "metadata": {
    "colab": {
     "base_uri": "https://localhost:8080/",
     "height": 718
    },
    "id": "OemJLhke4Q5Z",
    "outputId": "cf3911a6-2e72-4111-b55d-1d9c78db59e7"
   },
   "outputs": [
    {
     "data": {
      "image/png": "[encoded data removed]",
      "text/plain": [
       "<Figure size 1000x800 with 1 Axes>"
      ]
     },
     "metadata": {},
     "output_type": "display_data"
    }
   ],
   "source": [
    "plt.figure(figsize=(10, 8))\n",
    "plt.bar(df5['Months Involved'], df5['Data Value'])\n",
    "plt.xlabel('Months Involved')\n",
    "plt.ylabel('Data Value')\n",
    "plt.title('Bar Plot: Months Involved vs Data Value')\n",
    "plt.show()"
   ]
  },
  {
   "cell_type": "code",
   "execution_count": 74,
   "metadata": {
    "colab": {
     "base_uri": "https://localhost:8080/",
     "height": 718
    },
    "id": "oCW6EMbO4Q5Z",
    "outputId": "73cdfb58-817a-4708-959b-e4904a586bac"
   },
   "outputs": [
    {
     "data": {
      "image/png": "[encoded data removed]",
      "text/plain": [
       "<Figure size 1000x800 with 1 Axes>"
      ]
     },
     "metadata": {},
     "output_type": "display_data"
    }
   ],
   "source": [
    "plt.figure(figsize=(10,8))\n",
    "plt.bar(df5['Measure Info'], df5['Data Value'])\n",
    "plt.xlabel('measure info')\n",
    "plt.ylabel('data value')\n",
    "plt.title('measure info vs data value')\n",
    "plt.show()"
   ]
  },
  {
   "cell_type": "code",
   "execution_count": 75,
   "metadata": {
    "id": "6ykrjuul4Q5Z"
   },
   "outputs": [
    {
     "data": {
      "image/png": "[encoded data removed]",
      "text/plain": [
       "<Figure size 1000x600 with 1 Axes>"
      ]
     },
     "metadata": {},
     "output_type": "display_data"
    }
   ],
   "source": [
    "plt.figure(figsize=(10,6))\n",
    "plt.bar(df5['Geo Type Name'], df['Data Value'])\n",
    "plt.xlabel('geo type name')\n",
    "plt.ylabel('data value')\n",
    "plt.show()"
   ]
  },
  {
   "cell_type": "code",
   "execution_count": 76,
   "metadata": {
    "id": "K_vd5VEd4Q5Z"
   },
   "outputs": [
    {
     "data": {
      "image/png": "[encoded data removed]",
      "text/plain": [
       "<Figure size 2000x1000 with 1 Axes>"
      ]
     },
     "metadata": {},
     "output_type": "display_data"
    }
   ],
   "source": [
    "plt.figure(figsize=(20,10))\n",
    "plt.bar(df5['Measure'], df['Data Value'])\n",
    "plt.xlabel('geo type name')\n",
    "plt.ylabel('data value')\n",
    "plt.show()"
   ]
  },
  {
   "cell_type": "code",
   "execution_count": 77,
   "metadata": {
    "id": "t1LjtZ4F4Q5Z"
   },
   "outputs": [
    {
     "data": {
      "text/plain": [
       "Index(['Indicator ID', 'Geo Join ID', 'Data Value', 'Year'], dtype='object')"
      ]
     },
     "execution_count": 77,
     "metadata": {},
     "output_type": "execute_result"
    }
   ],
   "source": [
    "df5.select_dtypes(['float','int']).columns"
   ]
  },
  {
   "cell_type": "code",
   "execution_count": 78,
   "metadata": {
    "id": "ZhqyZdjX4Q5Z"
   },
   "outputs": [
    {
     "data": {
      "text/plain": [
       "Index(['Measure', 'Measure Info', 'Geo Type Name', 'Geo Place Name',\n",
       "       'Months Involved'],\n",
       "      dtype='object')"
      ]
     },
     "execution_count": 78,
     "metadata": {},
     "output_type": "execute_result"
    }
   ],
   "source": [
    "df5.select_dtypes(['object']).columns"
   ]
  },
  {
   "cell_type": "code",
   "execution_count": 79,
   "metadata": {
    "id": "5XJgRjpO4Q5Z"
   },
   "outputs": [],
   "source": [
    "#Exclude the label columns\n",
    "numerical_cols=['Indicator ID', 'Geo Join ID', 'Year']\n",
    "categorical_cols = ['Measure', 'Measure Info', 'Geo Type Name', 'Geo Place Name','Months Involved']"
   ]
  },
  {
   "cell_type": "code",
   "execution_count": 80,
   "metadata": {
    "id": "v3MQMQ154Q5Z"
   },
   "outputs": [
    {
     "data": {
      "text/html": [
       "<div>\n",
       "<style scoped>\n",
       "    .dataframe tbody tr th:only-of-type {\n",
       "        vertical-align: middle;\n",
       "    }\n",
       "\n",
       "    .dataframe tbody tr th {\n",
       "        vertical-align: top;\n",
       "    }\n",
       "\n",
       "    .dataframe thead th {\n",
       "        text-align: right;\n",
       "    }\n",
       "</style>\n",
       "<table border=\"1\" class=\"dataframe\">\n",
       "  <thead>\n",
       "    <tr style=\"text-align: right;\">\n",
       "      <th></th>\n",
       "      <th>Measure</th>\n",
       "      <th>Measure Info</th>\n",
       "      <th>Geo Type Name</th>\n",
       "      <th>Geo Place Name</th>\n",
       "      <th>Months Involved</th>\n",
       "    </tr>\n",
       "  </thead>\n",
       "  <tbody>\n",
       "    <tr>\n",
       "      <th>0</th>\n",
       "      <td>Mean</td>\n",
       "      <td>ppb</td>\n",
       "      <td>UHF34</td>\n",
       "      <td>Bedford Stuyvesant - Crown Heights</td>\n",
       "      <td>annual</td>\n",
       "    </tr>\n",
       "    <tr>\n",
       "      <th>1</th>\n",
       "      <td>Mean</td>\n",
       "      <td>ppb</td>\n",
       "      <td>UHF34</td>\n",
       "      <td>Bedford Stuyvesant - Crown Heights</td>\n",
       "      <td>annual</td>\n",
       "    </tr>\n",
       "    <tr>\n",
       "      <th>2</th>\n",
       "      <td>Mean</td>\n",
       "      <td>ppb</td>\n",
       "      <td>UHF34</td>\n",
       "      <td>East New York</td>\n",
       "      <td>annual</td>\n",
       "    </tr>\n",
       "  </tbody>\n",
       "</table>\n",
       "</div>"
      ],
      "text/plain": [
       "  Measure Measure Info Geo Type Name                      Geo Place Name  \\\n",
       "0    Mean          ppb         UHF34  Bedford Stuyvesant - Crown Heights   \n",
       "1    Mean          ppb         UHF34  Bedford Stuyvesant - Crown Heights   \n",
       "2    Mean          ppb         UHF34                       East New York   \n",
       "\n",
       "  Months Involved  \n",
       "0          annual  \n",
       "1          annual  \n",
       "2          annual  "
      ]
     },
     "execution_count": 80,
     "metadata": {},
     "output_type": "execute_result"
    }
   ],
   "source": [
    "df5[categorical_cols].head(3)"
   ]
  },
  {
   "cell_type": "code",
   "execution_count": 81,
   "metadata": {
    "id": "xQSmehpP4Q5Z"
   },
   "outputs": [],
   "source": [
    "dum_df = pd.get_dummies(df5[categorical_cols], dtype=int, dummy_na=False, drop_first=False)"
   ]
  },
  {
   "cell_type": "code",
   "execution_count": 82,
   "metadata": {
    "id": "3h9KNoxp4Q5a"
   },
   "outputs": [
    {
     "data": {
      "text/html": [
       "<div>\n",
       "<style scoped>\n",
       "    .dataframe tbody tr th:only-of-type {\n",
       "        vertical-align: middle;\n",
       "    }\n",
       "\n",
       "    .dataframe tbody tr th {\n",
       "        vertical-align: top;\n",
       "    }\n",
       "\n",
       "    .dataframe thead th {\n",
       "        text-align: right;\n",
       "    }\n",
       "</style>\n",
       "<table border=\"1\" class=\"dataframe\">\n",
       "  <thead>\n",
       "    <tr style=\"text-align: right;\">\n",
       "      <th></th>\n",
       "      <th>Measure_Annual average concentration</th>\n",
       "      <th>Measure_Estimated annual rate</th>\n",
       "      <th>Measure_Estimated annual rate (age 18+)</th>\n",
       "      <th>Measure_Estimated annual rate (age 30+)</th>\n",
       "      <th>Measure_Estimated annual rate (under age 18)</th>\n",
       "      <th>Measure_Mean</th>\n",
       "      <th>Measure_Number per km2</th>\n",
       "      <th>Measure_million miles</th>\n",
       "      <th>Measure Info_mcg/m3</th>\n",
       "      <th>Measure Info_number</th>\n",
       "      <th>...</th>\n",
       "      <th>Geo Place Name_Washington Heights</th>\n",
       "      <th>Geo Place Name_Washington Heights and Inwood (CD12)</th>\n",
       "      <th>Geo Place Name_West Queens</th>\n",
       "      <th>Geo Place Name_Williamsbridge and Baychester (CD12)</th>\n",
       "      <th>Geo Place Name_Williamsburg - Bushwick</th>\n",
       "      <th>Geo Place Name_Willowbrook</th>\n",
       "      <th>Geo Place Name_Woodside and Sunnyside (CD2)</th>\n",
       "      <th>Months Involved_annual</th>\n",
       "      <th>Months Involved_summer</th>\n",
       "      <th>Months Involved_winter</th>\n",
       "    </tr>\n",
       "  </thead>\n",
       "  <tbody>\n",
       "    <tr>\n",
       "      <th>0</th>\n",
       "      <td>0</td>\n",
       "      <td>0</td>\n",
       "      <td>0</td>\n",
       "      <td>0</td>\n",
       "      <td>0</td>\n",
       "      <td>1</td>\n",
       "      <td>0</td>\n",
       "      <td>0</td>\n",
       "      <td>0</td>\n",
       "      <td>0</td>\n",
       "      <td>...</td>\n",
       "      <td>0</td>\n",
       "      <td>0</td>\n",
       "      <td>0</td>\n",
       "      <td>0</td>\n",
       "      <td>0</td>\n",
       "      <td>0</td>\n",
       "      <td>0</td>\n",
       "      <td>1</td>\n",
       "      <td>0</td>\n",
       "      <td>0</td>\n",
       "    </tr>\n",
       "    <tr>\n",
       "      <th>1</th>\n",
       "      <td>0</td>\n",
       "      <td>0</td>\n",
       "      <td>0</td>\n",
       "      <td>0</td>\n",
       "      <td>0</td>\n",
       "      <td>1</td>\n",
       "      <td>0</td>\n",
       "      <td>0</td>\n",
       "      <td>0</td>\n",
       "      <td>0</td>\n",
       "      <td>...</td>\n",
       "      <td>0</td>\n",
       "      <td>0</td>\n",
       "      <td>0</td>\n",
       "      <td>0</td>\n",
       "      <td>0</td>\n",
       "      <td>0</td>\n",
       "      <td>0</td>\n",
       "      <td>1</td>\n",
       "      <td>0</td>\n",
       "      <td>0</td>\n",
       "    </tr>\n",
       "    <tr>\n",
       "      <th>2</th>\n",
       "      <td>0</td>\n",
       "      <td>0</td>\n",
       "      <td>0</td>\n",
       "      <td>0</td>\n",
       "      <td>0</td>\n",
       "      <td>1</td>\n",
       "      <td>0</td>\n",
       "      <td>0</td>\n",
       "      <td>0</td>\n",
       "      <td>0</td>\n",
       "      <td>...</td>\n",
       "      <td>0</td>\n",
       "      <td>0</td>\n",
       "      <td>0</td>\n",
       "      <td>0</td>\n",
       "      <td>0</td>\n",
       "      <td>0</td>\n",
       "      <td>0</td>\n",
       "      <td>1</td>\n",
       "      <td>0</td>\n",
       "      <td>0</td>\n",
       "    </tr>\n",
       "  </tbody>\n",
       "</table>\n",
       "<p>3 rows × 137 columns</p>\n",
       "</div>"
      ],
      "text/plain": [
       "   Measure_Annual average concentration  Measure_Estimated annual rate  \\\n",
       "0                                     0                              0   \n",
       "1                                     0                              0   \n",
       "2                                     0                              0   \n",
       "\n",
       "   Measure_Estimated annual rate (age 18+)  \\\n",
       "0                                        0   \n",
       "1                                        0   \n",
       "2                                        0   \n",
       "\n",
       "   Measure_Estimated annual rate (age 30+)  \\\n",
       "0                                        0   \n",
       "1                                        0   \n",
       "2                                        0   \n",
       "\n",
       "   Measure_Estimated annual rate (under age 18)  Measure_Mean  \\\n",
       "0                                             0             1   \n",
       "1                                             0             1   \n",
       "2                                             0             1   \n",
       "\n",
       "   Measure_Number per km2  Measure_million miles  Measure Info_mcg/m3  \\\n",
       "0                       0                      0                    0   \n",
       "1                       0                      0                    0   \n",
       "2                       0                      0                    0   \n",
       "\n",
       "   Measure Info_number  ...  Geo Place Name_Washington Heights  \\\n",
       "0                    0  ...                                  0   \n",
       "1                    0  ...                                  0   \n",
       "2                    0  ...                                  0   \n",
       "\n",
       "   Geo Place Name_Washington Heights and Inwood (CD12)  \\\n",
       "0                                                  0     \n",
       "1                                                  0     \n",
       "2                                                  0     \n",
       "\n",
       "   Geo Place Name_West Queens  \\\n",
       "0                           0   \n",
       "1                           0   \n",
       "2                           0   \n",
       "\n",
       "   Geo Place Name_Williamsbridge and Baychester (CD12)  \\\n",
       "0                                                  0     \n",
       "1                                                  0     \n",
       "2                                                  0     \n",
       "\n",
       "   Geo Place Name_Williamsburg - Bushwick  Geo Place Name_Willowbrook  \\\n",
       "0                                       0                           0   \n",
       "1                                       0                           0   \n",
       "2                                       0                           0   \n",
       "\n",
       "   Geo Place Name_Woodside and Sunnyside (CD2)  Months Involved_annual  \\\n",
       "0                                            0                       1   \n",
       "1                                            0                       1   \n",
       "2                                            0                       1   \n",
       "\n",
       "   Months Involved_summer  Months Involved_winter  \n",
       "0                       0                       0  \n",
       "1                       0                       0  \n",
       "2                       0                       0  \n",
       "\n",
       "[3 rows x 137 columns]"
      ]
     },
     "execution_count": 82,
     "metadata": {},
     "output_type": "execute_result"
    }
   ],
   "source": [
    "dum_df.head(3)"
   ]
  },
  {
   "cell_type": "markdown",
   "metadata": {
    "id": "n7t04Duc4Q5a"
   },
   "source": [
    "### Let's scale the numerical values if needed"
   ]
  },
  {
   "cell_type": "code",
   "execution_count": 83,
   "metadata": {
    "id": "Vu7_E7zf4Q5a",
    "scrolled": true
   },
   "outputs": [
    {
     "data": {
      "text/html": [
       "<div>\n",
       "<style scoped>\n",
       "    .dataframe tbody tr th:only-of-type {\n",
       "        vertical-align: middle;\n",
       "    }\n",
       "\n",
       "    .dataframe tbody tr th {\n",
       "        vertical-align: top;\n",
       "    }\n",
       "\n",
       "    .dataframe thead th {\n",
       "        text-align: right;\n",
       "    }\n",
       "</style>\n",
       "<table border=\"1\" class=\"dataframe\">\n",
       "  <thead>\n",
       "    <tr style=\"text-align: right;\">\n",
       "      <th></th>\n",
       "      <th>Indicator ID</th>\n",
       "      <th>Geo Join ID</th>\n",
       "      <th>Year</th>\n",
       "    </tr>\n",
       "  </thead>\n",
       "  <tbody>\n",
       "    <tr>\n",
       "      <th>0</th>\n",
       "      <td>375</td>\n",
       "      <td>203</td>\n",
       "      <td>2010</td>\n",
       "    </tr>\n",
       "    <tr>\n",
       "      <th>1</th>\n",
       "      <td>375</td>\n",
       "      <td>203</td>\n",
       "      <td>2008</td>\n",
       "    </tr>\n",
       "    <tr>\n",
       "      <th>2</th>\n",
       "      <td>375</td>\n",
       "      <td>204</td>\n",
       "      <td>2015</td>\n",
       "    </tr>\n",
       "    <tr>\n",
       "      <th>3</th>\n",
       "      <td>375</td>\n",
       "      <td>103</td>\n",
       "      <td>2015</td>\n",
       "    </tr>\n",
       "    <tr>\n",
       "      <th>4</th>\n",
       "      <td>375</td>\n",
       "      <td>104</td>\n",
       "      <td>2008</td>\n",
       "    </tr>\n",
       "  </tbody>\n",
       "</table>\n",
       "</div>"
      ],
      "text/plain": [
       "   Indicator ID  Geo Join ID  Year\n",
       "0           375          203  2010\n",
       "1           375          203  2008\n",
       "2           375          204  2015\n",
       "3           375          103  2015\n",
       "4           375          104  2008"
      ]
     },
     "execution_count": 83,
     "metadata": {},
     "output_type": "execute_result"
    }
   ],
   "source": [
    "df5[numerical_cols].head(5)"
   ]
  },
  {
   "cell_type": "code",
   "execution_count": 84,
   "metadata": {
    "id": "zcJkCr4J4Q5a"
   },
   "outputs": [],
   "source": [
    "from sklearn.preprocessing import MinMaxScaler\n",
    "from sklearn.impute import SimpleImputer"
   ]
  },
  {
   "cell_type": "code",
   "execution_count": 85,
   "metadata": {
    "id": "Qv6Ze2Q94Q5a"
   },
   "outputs": [],
   "source": [
    "scaler = MinMaxScaler(feature_range=(0, 1))\n",
    "df5[numerical_cols] = scaler.fit_transform(df5[numerical_cols])"
   ]
  },
  {
   "cell_type": "code",
   "execution_count": 86,
   "metadata": {
    "id": "Xp2a5DYg4Q5a"
   },
   "outputs": [
    {
     "data": {
      "text/html": [
       "<div>\n",
       "<style scoped>\n",
       "    .dataframe tbody tr th:only-of-type {\n",
       "        vertical-align: middle;\n",
       "    }\n",
       "\n",
       "    .dataframe tbody tr th {\n",
       "        vertical-align: top;\n",
       "    }\n",
       "\n",
       "    .dataframe thead th {\n",
       "        text-align: right;\n",
       "    }\n",
       "</style>\n",
       "<table border=\"1\" class=\"dataframe\">\n",
       "  <thead>\n",
       "    <tr style=\"text-align: right;\">\n",
       "      <th></th>\n",
       "      <th>Indicator ID</th>\n",
       "      <th>Geo Join ID</th>\n",
       "      <th>Year</th>\n",
       "    </tr>\n",
       "  </thead>\n",
       "  <tbody>\n",
       "    <tr>\n",
       "      <th>0</th>\n",
       "      <td>0.033784</td>\n",
       "      <td>0.000002</td>\n",
       "      <td>0.3125</td>\n",
       "    </tr>\n",
       "    <tr>\n",
       "      <th>1</th>\n",
       "      <td>0.033784</td>\n",
       "      <td>0.000002</td>\n",
       "      <td>0.1875</td>\n",
       "    </tr>\n",
       "    <tr>\n",
       "      <th>2</th>\n",
       "      <td>0.033784</td>\n",
       "      <td>0.000002</td>\n",
       "      <td>0.6250</td>\n",
       "    </tr>\n",
       "  </tbody>\n",
       "</table>\n",
       "</div>"
      ],
      "text/plain": [
       "   Indicator ID  Geo Join ID    Year\n",
       "0      0.033784     0.000002  0.3125\n",
       "1      0.033784     0.000002  0.1875\n",
       "2      0.033784     0.000002  0.6250"
      ]
     },
     "execution_count": 86,
     "metadata": {},
     "output_type": "execute_result"
    }
   ],
   "source": [
    "df5[numerical_cols].head(3)"
   ]
  },
  {
   "cell_type": "code",
   "execution_count": 87,
   "metadata": {
    "id": "47M9KhUh4Q5a"
   },
   "outputs": [
    {
     "data": {
      "text/html": [
       "<div>\n",
       "<style scoped>\n",
       "    .dataframe tbody tr th:only-of-type {\n",
       "        vertical-align: middle;\n",
       "    }\n",
       "\n",
       "    .dataframe tbody tr th {\n",
       "        vertical-align: top;\n",
       "    }\n",
       "\n",
       "    .dataframe thead th {\n",
       "        text-align: right;\n",
       "    }\n",
       "</style>\n",
       "<table border=\"1\" class=\"dataframe\">\n",
       "  <thead>\n",
       "    <tr style=\"text-align: right;\">\n",
       "      <th></th>\n",
       "      <th>Indicator ID</th>\n",
       "      <th>Measure</th>\n",
       "      <th>Measure Info</th>\n",
       "      <th>Geo Type Name</th>\n",
       "      <th>Geo Join ID</th>\n",
       "      <th>Geo Place Name</th>\n",
       "      <th>Data Value</th>\n",
       "      <th>Months Involved</th>\n",
       "      <th>Year</th>\n",
       "    </tr>\n",
       "  </thead>\n",
       "  <tbody>\n",
       "    <tr>\n",
       "      <th>0</th>\n",
       "      <td>0.033784</td>\n",
       "      <td>Mean</td>\n",
       "      <td>ppb</td>\n",
       "      <td>UHF34</td>\n",
       "      <td>0.000002</td>\n",
       "      <td>Bedford Stuyvesant - Crown Heights</td>\n",
       "      <td>25.30</td>\n",
       "      <td>annual</td>\n",
       "      <td>0.3125</td>\n",
       "    </tr>\n",
       "    <tr>\n",
       "      <th>1</th>\n",
       "      <td>0.033784</td>\n",
       "      <td>Mean</td>\n",
       "      <td>ppb</td>\n",
       "      <td>UHF34</td>\n",
       "      <td>0.000002</td>\n",
       "      <td>Bedford Stuyvesant - Crown Heights</td>\n",
       "      <td>26.93</td>\n",
       "      <td>annual</td>\n",
       "      <td>0.1875</td>\n",
       "    </tr>\n",
       "    <tr>\n",
       "      <th>2</th>\n",
       "      <td>0.033784</td>\n",
       "      <td>Mean</td>\n",
       "      <td>ppb</td>\n",
       "      <td>UHF34</td>\n",
       "      <td>0.000002</td>\n",
       "      <td>East New York</td>\n",
       "      <td>19.09</td>\n",
       "      <td>annual</td>\n",
       "      <td>0.6250</td>\n",
       "    </tr>\n",
       "  </tbody>\n",
       "</table>\n",
       "</div>"
      ],
      "text/plain": [
       "   Indicator ID Measure Measure Info Geo Type Name  Geo Join ID  \\\n",
       "0      0.033784    Mean          ppb         UHF34     0.000002   \n",
       "1      0.033784    Mean          ppb         UHF34     0.000002   \n",
       "2      0.033784    Mean          ppb         UHF34     0.000002   \n",
       "\n",
       "                       Geo Place Name  Data Value Months Involved    Year  \n",
       "0  Bedford Stuyvesant - Crown Heights       25.30          annual  0.3125  \n",
       "1  Bedford Stuyvesant - Crown Heights       26.93          annual  0.1875  \n",
       "2                       East New York       19.09          annual  0.6250  "
      ]
     },
     "execution_count": 87,
     "metadata": {},
     "output_type": "execute_result"
    }
   ],
   "source": [
    "df5.head(3)"
   ]
  },
  {
   "cell_type": "code",
   "execution_count": 88,
   "metadata": {
    "id": "WZyl7U314Q5a"
   },
   "outputs": [
    {
     "data": {
      "text/plain": [
       "Indicator ID    0\n",
       "Geo Join ID     0\n",
       "Year            0\n",
       "dtype: int64"
      ]
     },
     "execution_count": 88,
     "metadata": {},
     "output_type": "execute_result"
    }
   ],
   "source": [
    "df5[numerical_cols].isna().sum()"
   ]
  },
  {
   "cell_type": "markdown",
   "metadata": {
    "id": "PPicDzo_4Q5b"
   },
   "source": [
    "### all numerical is has some value so there's no null values in df4[numerical_cols]"
   ]
  },
  {
   "cell_type": "markdown",
   "metadata": {
    "id": "YNqsY0Vp4Q5b"
   },
   "source": [
    "## Let's concat encoding dataframe to main data"
   ]
  },
  {
   "cell_type": "code",
   "execution_count": 89,
   "metadata": {
    "id": "Ean0U1Pj4Q5b"
   },
   "outputs": [
    {
     "data": {
      "text/html": [
       "<div>\n",
       "<style scoped>\n",
       "    .dataframe tbody tr th:only-of-type {\n",
       "        vertical-align: middle;\n",
       "    }\n",
       "\n",
       "    .dataframe tbody tr th {\n",
       "        vertical-align: top;\n",
       "    }\n",
       "\n",
       "    .dataframe thead th {\n",
       "        text-align: right;\n",
       "    }\n",
       "</style>\n",
       "<table border=\"1\" class=\"dataframe\">\n",
       "  <thead>\n",
       "    <tr style=\"text-align: right;\">\n",
       "      <th></th>\n",
       "      <th>Measure</th>\n",
       "      <th>Measure Info</th>\n",
       "      <th>Geo Type Name</th>\n",
       "      <th>Geo Place Name</th>\n",
       "      <th>Months Involved</th>\n",
       "    </tr>\n",
       "  </thead>\n",
       "  <tbody>\n",
       "    <tr>\n",
       "      <th>0</th>\n",
       "      <td>Mean</td>\n",
       "      <td>ppb</td>\n",
       "      <td>UHF34</td>\n",
       "      <td>Bedford Stuyvesant - Crown Heights</td>\n",
       "      <td>annual</td>\n",
       "    </tr>\n",
       "    <tr>\n",
       "      <th>1</th>\n",
       "      <td>Mean</td>\n",
       "      <td>ppb</td>\n",
       "      <td>UHF34</td>\n",
       "      <td>Bedford Stuyvesant - Crown Heights</td>\n",
       "      <td>annual</td>\n",
       "    </tr>\n",
       "    <tr>\n",
       "      <th>2</th>\n",
       "      <td>Mean</td>\n",
       "      <td>ppb</td>\n",
       "      <td>UHF34</td>\n",
       "      <td>East New York</td>\n",
       "      <td>annual</td>\n",
       "    </tr>\n",
       "  </tbody>\n",
       "</table>\n",
       "</div>"
      ],
      "text/plain": [
       "  Measure Measure Info Geo Type Name                      Geo Place Name  \\\n",
       "0    Mean          ppb         UHF34  Bedford Stuyvesant - Crown Heights   \n",
       "1    Mean          ppb         UHF34  Bedford Stuyvesant - Crown Heights   \n",
       "2    Mean          ppb         UHF34                       East New York   \n",
       "\n",
       "  Months Involved  \n",
       "0          annual  \n",
       "1          annual  \n",
       "2          annual  "
      ]
     },
     "execution_count": 89,
     "metadata": {},
     "output_type": "execute_result"
    }
   ],
   "source": [
    "df6=df5.copy()\n",
    "df6[categorical_cols].head(3)"
   ]
  },
  {
   "cell_type": "code",
   "execution_count": 90,
   "metadata": {
    "id": "1oDoNv6d4Q5b"
   },
   "outputs": [],
   "source": [
    "df6 = pd.concat([df5, dum_df], axis=1)\n",
    "df6.drop(categorical_cols, axis='columns',inplace=True)"
   ]
  },
  {
   "cell_type": "code",
   "execution_count": 91,
   "metadata": {
    "id": "mtOdzYF_4Q5b"
   },
   "outputs": [
    {
     "data": {
      "text/html": [
       "<div>\n",
       "<style scoped>\n",
       "    .dataframe tbody tr th:only-of-type {\n",
       "        vertical-align: middle;\n",
       "    }\n",
       "\n",
       "    .dataframe tbody tr th {\n",
       "        vertical-align: top;\n",
       "    }\n",
       "\n",
       "    .dataframe thead th {\n",
       "        text-align: right;\n",
       "    }\n",
       "</style>\n",
       "<table border=\"1\" class=\"dataframe\">\n",
       "  <thead>\n",
       "    <tr style=\"text-align: right;\">\n",
       "      <th></th>\n",
       "      <th>Indicator ID</th>\n",
       "      <th>Geo Join ID</th>\n",
       "      <th>Data Value</th>\n",
       "      <th>Year</th>\n",
       "      <th>Measure_Annual average concentration</th>\n",
       "      <th>Measure_Estimated annual rate</th>\n",
       "      <th>Measure_Estimated annual rate (age 18+)</th>\n",
       "      <th>Measure_Estimated annual rate (age 30+)</th>\n",
       "      <th>Measure_Estimated annual rate (under age 18)</th>\n",
       "      <th>Measure_Mean</th>\n",
       "      <th>...</th>\n",
       "      <th>Geo Place Name_Washington Heights</th>\n",
       "      <th>Geo Place Name_Washington Heights and Inwood (CD12)</th>\n",
       "      <th>Geo Place Name_West Queens</th>\n",
       "      <th>Geo Place Name_Williamsbridge and Baychester (CD12)</th>\n",
       "      <th>Geo Place Name_Williamsburg - Bushwick</th>\n",
       "      <th>Geo Place Name_Willowbrook</th>\n",
       "      <th>Geo Place Name_Woodside and Sunnyside (CD2)</th>\n",
       "      <th>Months Involved_annual</th>\n",
       "      <th>Months Involved_summer</th>\n",
       "      <th>Months Involved_winter</th>\n",
       "    </tr>\n",
       "  </thead>\n",
       "  <tbody>\n",
       "    <tr>\n",
       "      <th>0</th>\n",
       "      <td>0.033784</td>\n",
       "      <td>0.000002</td>\n",
       "      <td>25.30</td>\n",
       "      <td>0.3125</td>\n",
       "      <td>0</td>\n",
       "      <td>0</td>\n",
       "      <td>0</td>\n",
       "      <td>0</td>\n",
       "      <td>0</td>\n",
       "      <td>1</td>\n",
       "      <td>...</td>\n",
       "      <td>0</td>\n",
       "      <td>0</td>\n",
       "      <td>0</td>\n",
       "      <td>0</td>\n",
       "      <td>0</td>\n",
       "      <td>0</td>\n",
       "      <td>0</td>\n",
       "      <td>1</td>\n",
       "      <td>0</td>\n",
       "      <td>0</td>\n",
       "    </tr>\n",
       "    <tr>\n",
       "      <th>1</th>\n",
       "      <td>0.033784</td>\n",
       "      <td>0.000002</td>\n",
       "      <td>26.93</td>\n",
       "      <td>0.1875</td>\n",
       "      <td>0</td>\n",
       "      <td>0</td>\n",
       "      <td>0</td>\n",
       "      <td>0</td>\n",
       "      <td>0</td>\n",
       "      <td>1</td>\n",
       "      <td>...</td>\n",
       "      <td>0</td>\n",
       "      <td>0</td>\n",
       "      <td>0</td>\n",
       "      <td>0</td>\n",
       "      <td>0</td>\n",
       "      <td>0</td>\n",
       "      <td>0</td>\n",
       "      <td>1</td>\n",
       "      <td>0</td>\n",
       "      <td>0</td>\n",
       "    </tr>\n",
       "    <tr>\n",
       "      <th>2</th>\n",
       "      <td>0.033784</td>\n",
       "      <td>0.000002</td>\n",
       "      <td>19.09</td>\n",
       "      <td>0.6250</td>\n",
       "      <td>0</td>\n",
       "      <td>0</td>\n",
       "      <td>0</td>\n",
       "      <td>0</td>\n",
       "      <td>0</td>\n",
       "      <td>1</td>\n",
       "      <td>...</td>\n",
       "      <td>0</td>\n",
       "      <td>0</td>\n",
       "      <td>0</td>\n",
       "      <td>0</td>\n",
       "      <td>0</td>\n",
       "      <td>0</td>\n",
       "      <td>0</td>\n",
       "      <td>1</td>\n",
       "      <td>0</td>\n",
       "      <td>0</td>\n",
       "    </tr>\n",
       "  </tbody>\n",
       "</table>\n",
       "<p>3 rows × 141 columns</p>\n",
       "</div>"
      ],
      "text/plain": [
       "   Indicator ID  Geo Join ID  Data Value    Year  \\\n",
       "0      0.033784     0.000002       25.30  0.3125   \n",
       "1      0.033784     0.000002       26.93  0.1875   \n",
       "2      0.033784     0.000002       19.09  0.6250   \n",
       "\n",
       "   Measure_Annual average concentration  Measure_Estimated annual rate  \\\n",
       "0                                     0                              0   \n",
       "1                                     0                              0   \n",
       "2                                     0                              0   \n",
       "\n",
       "   Measure_Estimated annual rate (age 18+)  \\\n",
       "0                                        0   \n",
       "1                                        0   \n",
       "2                                        0   \n",
       "\n",
       "   Measure_Estimated annual rate (age 30+)  \\\n",
       "0                                        0   \n",
       "1                                        0   \n",
       "2                                        0   \n",
       "\n",
       "   Measure_Estimated annual rate (under age 18)  Measure_Mean  ...  \\\n",
       "0                                             0             1  ...   \n",
       "1                                             0             1  ...   \n",
       "2                                             0             1  ...   \n",
       "\n",
       "   Geo Place Name_Washington Heights  \\\n",
       "0                                  0   \n",
       "1                                  0   \n",
       "2                                  0   \n",
       "\n",
       "   Geo Place Name_Washington Heights and Inwood (CD12)  \\\n",
       "0                                                  0     \n",
       "1                                                  0     \n",
       "2                                                  0     \n",
       "\n",
       "   Geo Place Name_West Queens  \\\n",
       "0                           0   \n",
       "1                           0   \n",
       "2                           0   \n",
       "\n",
       "   Geo Place Name_Williamsbridge and Baychester (CD12)  \\\n",
       "0                                                  0     \n",
       "1                                                  0     \n",
       "2                                                  0     \n",
       "\n",
       "   Geo Place Name_Williamsburg - Bushwick  Geo Place Name_Willowbrook  \\\n",
       "0                                       0                           0   \n",
       "1                                       0                           0   \n",
       "2                                       0                           0   \n",
       "\n",
       "   Geo Place Name_Woodside and Sunnyside (CD2)  Months Involved_annual  \\\n",
       "0                                            0                       1   \n",
       "1                                            0                       1   \n",
       "2                                            0                       1   \n",
       "\n",
       "   Months Involved_summer  Months Involved_winter  \n",
       "0                       0                       0  \n",
       "1                       0                       0  \n",
       "2                       0                       0  \n",
       "\n",
       "[3 rows x 141 columns]"
      ]
     },
     "execution_count": 91,
     "metadata": {},
     "output_type": "execute_result"
    }
   ],
   "source": [
    "df6.head(3)"
   ]
  },
  {
   "cell_type": "markdown",
   "metadata": {
    "id": "JyV4Xgo24Q5b"
   },
   "source": [
    "## We can use sklearn API to make onehotencoder"
   ]
  },
  {
   "cell_type": "code",
   "execution_count": 92,
   "metadata": {
    "id": "K2ZtwFP84Q5b"
   },
   "outputs": [],
   "source": [
    "# from sklearn.preprocessing import OneHotEncoder\n",
    "# encoder=OneHotEncoder(sparse_output =False, handle_unknown='ignore').fit(df69[categorical_cols])\n",
    "# encoded_cols = list(encoder.get_feature_names_out(categorical_cols))\n",
    "\n",
    "# encoded_data = encoder.transform(df6[categorical_cols])\n",
    "# encoded_df = pd.DataFrame(encoded_data, columns=encoded_cols, index=df6.index)\n",
    "\n",
    "# df6 = pd.concat([df6, encoded_df], axis=1)\n",
    "# df6.head(5)"
   ]
  },
  {
   "cell_type": "markdown",
   "metadata": {
    "id": "GdOOTwUR4Q5b"
   },
   "source": [
    "# Let's split test and training"
   ]
  },
  {
   "cell_type": "code",
   "execution_count": 93,
   "metadata": {
    "id": "YGjcl8Tb4Q5b"
   },
   "outputs": [],
   "source": [
    "from sklearn.model_selection import train_test_split\n",
    "train_df, test_df = train_test_split(df6, test_size=0.2, random_state=42)"
   ]
  },
  {
   "cell_type": "code",
   "execution_count": 94,
   "metadata": {
    "id": "0kxC3inH4Q5c"
   },
   "outputs": [
    {
     "data": {
      "text/html": [
       "<div>\n",
       "<style scoped>\n",
       "    .dataframe tbody tr th:only-of-type {\n",
       "        vertical-align: middle;\n",
       "    }\n",
       "\n",
       "    .dataframe tbody tr th {\n",
       "        vertical-align: top;\n",
       "    }\n",
       "\n",
       "    .dataframe thead th {\n",
       "        text-align: right;\n",
       "    }\n",
       "</style>\n",
       "<table border=\"1\" class=\"dataframe\">\n",
       "  <thead>\n",
       "    <tr style=\"text-align: right;\">\n",
       "      <th></th>\n",
       "      <th>Indicator ID</th>\n",
       "      <th>Geo Join ID</th>\n",
       "      <th>Data Value</th>\n",
       "      <th>Year</th>\n",
       "      <th>Measure_Annual average concentration</th>\n",
       "      <th>Measure_Estimated annual rate</th>\n",
       "      <th>Measure_Estimated annual rate (age 18+)</th>\n",
       "      <th>Measure_Estimated annual rate (age 30+)</th>\n",
       "      <th>Measure_Estimated annual rate (under age 18)</th>\n",
       "      <th>Measure_Mean</th>\n",
       "      <th>...</th>\n",
       "      <th>Geo Place Name_Washington Heights</th>\n",
       "      <th>Geo Place Name_Washington Heights and Inwood (CD12)</th>\n",
       "      <th>Geo Place Name_West Queens</th>\n",
       "      <th>Geo Place Name_Williamsbridge and Baychester (CD12)</th>\n",
       "      <th>Geo Place Name_Williamsburg - Bushwick</th>\n",
       "      <th>Geo Place Name_Willowbrook</th>\n",
       "      <th>Geo Place Name_Woodside and Sunnyside (CD2)</th>\n",
       "      <th>Months Involved_annual</th>\n",
       "      <th>Months Involved_summer</th>\n",
       "      <th>Months Involved_winter</th>\n",
       "    </tr>\n",
       "  </thead>\n",
       "  <tbody>\n",
       "    <tr>\n",
       "      <th>15596</th>\n",
       "      <td>0.952703</td>\n",
       "      <td>0.000003</td>\n",
       "      <td>1.71</td>\n",
       "      <td>0.3750</td>\n",
       "      <td>1</td>\n",
       "      <td>0</td>\n",
       "      <td>0</td>\n",
       "      <td>0</td>\n",
       "      <td>0</td>\n",
       "      <td>0</td>\n",
       "      <td>...</td>\n",
       "      <td>0</td>\n",
       "      <td>0</td>\n",
       "      <td>0</td>\n",
       "      <td>0</td>\n",
       "      <td>0</td>\n",
       "      <td>0</td>\n",
       "      <td>0</td>\n",
       "      <td>1</td>\n",
       "      <td>0</td>\n",
       "      <td>0</td>\n",
       "    </tr>\n",
       "    <tr>\n",
       "      <th>9736</th>\n",
       "      <td>0.000000</td>\n",
       "      <td>0.000003</td>\n",
       "      <td>8.82</td>\n",
       "      <td>0.8125</td>\n",
       "      <td>0</td>\n",
       "      <td>0</td>\n",
       "      <td>0</td>\n",
       "      <td>0</td>\n",
       "      <td>0</td>\n",
       "      <td>1</td>\n",
       "      <td>...</td>\n",
       "      <td>0</td>\n",
       "      <td>0</td>\n",
       "      <td>0</td>\n",
       "      <td>0</td>\n",
       "      <td>0</td>\n",
       "      <td>0</td>\n",
       "      <td>0</td>\n",
       "      <td>0</td>\n",
       "      <td>1</td>\n",
       "      <td>0</td>\n",
       "    </tr>\n",
       "  </tbody>\n",
       "</table>\n",
       "<p>2 rows × 141 columns</p>\n",
       "</div>"
      ],
      "text/plain": [
       "       Indicator ID  Geo Join ID  Data Value    Year  \\\n",
       "15596      0.952703     0.000003        1.71  0.3750   \n",
       "9736       0.000000     0.000003        8.82  0.8125   \n",
       "\n",
       "       Measure_Annual average concentration  Measure_Estimated annual rate  \\\n",
       "15596                                     1                              0   \n",
       "9736                                      0                              0   \n",
       "\n",
       "       Measure_Estimated annual rate (age 18+)  \\\n",
       "15596                                        0   \n",
       "9736                                         0   \n",
       "\n",
       "       Measure_Estimated annual rate (age 30+)  \\\n",
       "15596                                        0   \n",
       "9736                                         0   \n",
       "\n",
       "       Measure_Estimated annual rate (under age 18)  Measure_Mean  ...  \\\n",
       "15596                                             0             0  ...   \n",
       "9736                                              0             1  ...   \n",
       "\n",
       "       Geo Place Name_Washington Heights  \\\n",
       "15596                                  0   \n",
       "9736                                   0   \n",
       "\n",
       "       Geo Place Name_Washington Heights and Inwood (CD12)  \\\n",
       "15596                                                  0     \n",
       "9736                                                   0     \n",
       "\n",
       "       Geo Place Name_West Queens  \\\n",
       "15596                           0   \n",
       "9736                            0   \n",
       "\n",
       "       Geo Place Name_Williamsbridge and Baychester (CD12)  \\\n",
       "15596                                                  0     \n",
       "9736                                                   0     \n",
       "\n",
       "       Geo Place Name_Williamsburg - Bushwick  Geo Place Name_Willowbrook  \\\n",
       "15596                                       0                           0   \n",
       "9736                                        0                           0   \n",
       "\n",
       "       Geo Place Name_Woodside and Sunnyside (CD2)  Months Involved_annual  \\\n",
       "15596                                            0                       1   \n",
       "9736                                             0                       0   \n",
       "\n",
       "       Months Involved_summer  Months Involved_winter  \n",
       "15596                       0                       0  \n",
       "9736                        1                       0  \n",
       "\n",
       "[2 rows x 141 columns]"
      ]
     },
     "execution_count": 94,
     "metadata": {},
     "output_type": "execute_result"
    }
   ],
   "source": [
    "train_df.head(2)"
   ]
  },
  {
   "cell_type": "code",
   "execution_count": 95,
   "metadata": {
    "id": "kfLFyEXq4Q5c"
   },
   "outputs": [
    {
     "data": {
      "text/html": [
       "<div>\n",
       "<style scoped>\n",
       "    .dataframe tbody tr th:only-of-type {\n",
       "        vertical-align: middle;\n",
       "    }\n",
       "\n",
       "    .dataframe tbody tr th {\n",
       "        vertical-align: top;\n",
       "    }\n",
       "\n",
       "    .dataframe thead th {\n",
       "        text-align: right;\n",
       "    }\n",
       "</style>\n",
       "<table border=\"1\" class=\"dataframe\">\n",
       "  <thead>\n",
       "    <tr style=\"text-align: right;\">\n",
       "      <th></th>\n",
       "      <th>Indicator ID</th>\n",
       "      <th>Geo Join ID</th>\n",
       "      <th>Data Value</th>\n",
       "      <th>Year</th>\n",
       "      <th>Measure_Annual average concentration</th>\n",
       "      <th>Measure_Estimated annual rate</th>\n",
       "      <th>Measure_Estimated annual rate (age 18+)</th>\n",
       "      <th>Measure_Estimated annual rate (age 30+)</th>\n",
       "      <th>Measure_Estimated annual rate (under age 18)</th>\n",
       "      <th>Measure_Mean</th>\n",
       "      <th>...</th>\n",
       "      <th>Geo Place Name_Washington Heights</th>\n",
       "      <th>Geo Place Name_Washington Heights and Inwood (CD12)</th>\n",
       "      <th>Geo Place Name_West Queens</th>\n",
       "      <th>Geo Place Name_Williamsbridge and Baychester (CD12)</th>\n",
       "      <th>Geo Place Name_Williamsburg - Bushwick</th>\n",
       "      <th>Geo Place Name_Willowbrook</th>\n",
       "      <th>Geo Place Name_Woodside and Sunnyside (CD2)</th>\n",
       "      <th>Months Involved_annual</th>\n",
       "      <th>Months Involved_summer</th>\n",
       "      <th>Months Involved_winter</th>\n",
       "    </tr>\n",
       "  </thead>\n",
       "  <tbody>\n",
       "    <tr>\n",
       "      <th>2678</th>\n",
       "      <td>0.033784</td>\n",
       "      <td>9.609337e-07</td>\n",
       "      <td>17.16</td>\n",
       "      <td>0.375</td>\n",
       "      <td>0</td>\n",
       "      <td>0</td>\n",
       "      <td>0</td>\n",
       "      <td>0</td>\n",
       "      <td>0</td>\n",
       "      <td>1</td>\n",
       "      <td>...</td>\n",
       "      <td>0</td>\n",
       "      <td>0</td>\n",
       "      <td>0</td>\n",
       "      <td>0</td>\n",
       "      <td>0</td>\n",
       "      <td>0</td>\n",
       "      <td>0</td>\n",
       "      <td>0</td>\n",
       "      <td>1</td>\n",
       "      <td>0</td>\n",
       "    </tr>\n",
       "    <tr>\n",
       "      <th>14249</th>\n",
       "      <td>0.070946</td>\n",
       "      <td>1.978953e-06</td>\n",
       "      <td>31.44</td>\n",
       "      <td>0.500</td>\n",
       "      <td>0</td>\n",
       "      <td>0</td>\n",
       "      <td>0</td>\n",
       "      <td>0</td>\n",
       "      <td>0</td>\n",
       "      <td>1</td>\n",
       "      <td>...</td>\n",
       "      <td>0</td>\n",
       "      <td>0</td>\n",
       "      <td>0</td>\n",
       "      <td>0</td>\n",
       "      <td>0</td>\n",
       "      <td>0</td>\n",
       "      <td>0</td>\n",
       "      <td>0</td>\n",
       "      <td>1</td>\n",
       "      <td>0</td>\n",
       "    </tr>\n",
       "  </tbody>\n",
       "</table>\n",
       "<p>2 rows × 141 columns</p>\n",
       "</div>"
      ],
      "text/plain": [
       "       Indicator ID   Geo Join ID  Data Value   Year  \\\n",
       "2678       0.033784  9.609337e-07       17.16  0.375   \n",
       "14249      0.070946  1.978953e-06       31.44  0.500   \n",
       "\n",
       "       Measure_Annual average concentration  Measure_Estimated annual rate  \\\n",
       "2678                                      0                              0   \n",
       "14249                                     0                              0   \n",
       "\n",
       "       Measure_Estimated annual rate (age 18+)  \\\n",
       "2678                                         0   \n",
       "14249                                        0   \n",
       "\n",
       "       Measure_Estimated annual rate (age 30+)  \\\n",
       "2678                                         0   \n",
       "14249                                        0   \n",
       "\n",
       "       Measure_Estimated annual rate (under age 18)  Measure_Mean  ...  \\\n",
       "2678                                              0             1  ...   \n",
       "14249                                             0             1  ...   \n",
       "\n",
       "       Geo Place Name_Washington Heights  \\\n",
       "2678                                   0   \n",
       "14249                                  0   \n",
       "\n",
       "       Geo Place Name_Washington Heights and Inwood (CD12)  \\\n",
       "2678                                                   0     \n",
       "14249                                                  0     \n",
       "\n",
       "       Geo Place Name_West Queens  \\\n",
       "2678                            0   \n",
       "14249                           0   \n",
       "\n",
       "       Geo Place Name_Williamsbridge and Baychester (CD12)  \\\n",
       "2678                                                   0     \n",
       "14249                                                  0     \n",
       "\n",
       "       Geo Place Name_Williamsburg - Bushwick  Geo Place Name_Willowbrook  \\\n",
       "2678                                        0                           0   \n",
       "14249                                       0                           0   \n",
       "\n",
       "       Geo Place Name_Woodside and Sunnyside (CD2)  Months Involved_annual  \\\n",
       "2678                                             0                       0   \n",
       "14249                                            0                       0   \n",
       "\n",
       "       Months Involved_summer  Months Involved_winter  \n",
       "2678                        1                       0  \n",
       "14249                       1                       0  \n",
       "\n",
       "[2 rows x 141 columns]"
      ]
     },
     "execution_count": 95,
     "metadata": {},
     "output_type": "execute_result"
    }
   ],
   "source": [
    "test_df.head(2)"
   ]
  },
  {
   "cell_type": "markdown",
   "metadata": {
    "id": "rgf6pLCa4Q5c"
   },
   "source": [
    "### let's split the train inputs and targets"
   ]
  },
  {
   "cell_type": "code",
   "execution_count": 96,
   "metadata": {
    "id": "YSEgPlse4Q5c"
   },
   "outputs": [],
   "source": [
    "train_inputs = train_df.drop('Data Value',axis=1)\n",
    "train_target = train_df['Data Value']\n",
    "test_inputs = test_df.drop('Data Value', axis=1)\n",
    "test_target = test_df['Data Value']"
   ]
  },
  {
   "cell_type": "code",
   "execution_count": 97,
   "metadata": {
    "id": "3OKj0qW84Q5c"
   },
   "outputs": [
    {
     "data": {
      "text/html": [
       "<div>\n",
       "<style scoped>\n",
       "    .dataframe tbody tr th:only-of-type {\n",
       "        vertical-align: middle;\n",
       "    }\n",
       "\n",
       "    .dataframe tbody tr th {\n",
       "        vertical-align: top;\n",
       "    }\n",
       "\n",
       "    .dataframe thead th {\n",
       "        text-align: right;\n",
       "    }\n",
       "</style>\n",
       "<table border=\"1\" class=\"dataframe\">\n",
       "  <thead>\n",
       "    <tr style=\"text-align: right;\">\n",
       "      <th></th>\n",
       "      <th>Indicator ID</th>\n",
       "      <th>Geo Join ID</th>\n",
       "      <th>Year</th>\n",
       "      <th>Measure_Annual average concentration</th>\n",
       "      <th>Measure_Estimated annual rate</th>\n",
       "      <th>Measure_Estimated annual rate (age 18+)</th>\n",
       "      <th>Measure_Estimated annual rate (age 30+)</th>\n",
       "      <th>Measure_Estimated annual rate (under age 18)</th>\n",
       "      <th>Measure_Mean</th>\n",
       "      <th>Measure_Number per km2</th>\n",
       "      <th>...</th>\n",
       "      <th>Geo Place Name_Washington Heights</th>\n",
       "      <th>Geo Place Name_Washington Heights and Inwood (CD12)</th>\n",
       "      <th>Geo Place Name_West Queens</th>\n",
       "      <th>Geo Place Name_Williamsbridge and Baychester (CD12)</th>\n",
       "      <th>Geo Place Name_Williamsburg - Bushwick</th>\n",
       "      <th>Geo Place Name_Willowbrook</th>\n",
       "      <th>Geo Place Name_Woodside and Sunnyside (CD2)</th>\n",
       "      <th>Months Involved_annual</th>\n",
       "      <th>Months Involved_summer</th>\n",
       "      <th>Months Involved_winter</th>\n",
       "    </tr>\n",
       "  </thead>\n",
       "  <tbody>\n",
       "    <tr>\n",
       "      <th>15596</th>\n",
       "      <td>0.952703</td>\n",
       "      <td>0.000003</td>\n",
       "      <td>0.3750</td>\n",
       "      <td>1</td>\n",
       "      <td>0</td>\n",
       "      <td>0</td>\n",
       "      <td>0</td>\n",
       "      <td>0</td>\n",
       "      <td>0</td>\n",
       "      <td>0</td>\n",
       "      <td>...</td>\n",
       "      <td>0</td>\n",
       "      <td>0</td>\n",
       "      <td>0</td>\n",
       "      <td>0</td>\n",
       "      <td>0</td>\n",
       "      <td>0</td>\n",
       "      <td>0</td>\n",
       "      <td>1</td>\n",
       "      <td>0</td>\n",
       "      <td>0</td>\n",
       "    </tr>\n",
       "    <tr>\n",
       "      <th>9736</th>\n",
       "      <td>0.000000</td>\n",
       "      <td>0.000003</td>\n",
       "      <td>0.8125</td>\n",
       "      <td>0</td>\n",
       "      <td>0</td>\n",
       "      <td>0</td>\n",
       "      <td>0</td>\n",
       "      <td>0</td>\n",
       "      <td>1</td>\n",
       "      <td>0</td>\n",
       "      <td>...</td>\n",
       "      <td>0</td>\n",
       "      <td>0</td>\n",
       "      <td>0</td>\n",
       "      <td>0</td>\n",
       "      <td>0</td>\n",
       "      <td>0</td>\n",
       "      <td>0</td>\n",
       "      <td>0</td>\n",
       "      <td>1</td>\n",
       "      <td>0</td>\n",
       "    </tr>\n",
       "  </tbody>\n",
       "</table>\n",
       "<p>2 rows × 140 columns</p>\n",
       "</div>"
      ],
      "text/plain": [
       "       Indicator ID  Geo Join ID    Year  \\\n",
       "15596      0.952703     0.000003  0.3750   \n",
       "9736       0.000000     0.000003  0.8125   \n",
       "\n",
       "       Measure_Annual average concentration  Measure_Estimated annual rate  \\\n",
       "15596                                     1                              0   \n",
       "9736                                      0                              0   \n",
       "\n",
       "       Measure_Estimated annual rate (age 18+)  \\\n",
       "15596                                        0   \n",
       "9736                                         0   \n",
       "\n",
       "       Measure_Estimated annual rate (age 30+)  \\\n",
       "15596                                        0   \n",
       "9736                                         0   \n",
       "\n",
       "       Measure_Estimated annual rate (under age 18)  Measure_Mean  \\\n",
       "15596                                             0             0   \n",
       "9736                                              0             1   \n",
       "\n",
       "       Measure_Number per km2  ...  Geo Place Name_Washington Heights  \\\n",
       "15596                       0  ...                                  0   \n",
       "9736                        0  ...                                  0   \n",
       "\n",
       "       Geo Place Name_Washington Heights and Inwood (CD12)  \\\n",
       "15596                                                  0     \n",
       "9736                                                   0     \n",
       "\n",
       "       Geo Place Name_West Queens  \\\n",
       "15596                           0   \n",
       "9736                            0   \n",
       "\n",
       "       Geo Place Name_Williamsbridge and Baychester (CD12)  \\\n",
       "15596                                                  0     \n",
       "9736                                                   0     \n",
       "\n",
       "       Geo Place Name_Williamsburg - Bushwick  Geo Place Name_Willowbrook  \\\n",
       "15596                                       0                           0   \n",
       "9736                                        0                           0   \n",
       "\n",
       "       Geo Place Name_Woodside and Sunnyside (CD2)  Months Involved_annual  \\\n",
       "15596                                            0                       1   \n",
       "9736                                             0                       0   \n",
       "\n",
       "       Months Involved_summer  Months Involved_winter  \n",
       "15596                       0                       0  \n",
       "9736                        1                       0  \n",
       "\n",
       "[2 rows x 140 columns]"
      ]
     },
     "execution_count": 97,
     "metadata": {},
     "output_type": "execute_result"
    }
   ],
   "source": [
    "train_inputs.head(2)"
   ]
  },
  {
   "cell_type": "code",
   "execution_count": 98,
   "metadata": {
    "id": "cssaQqWj4Q5c"
   },
   "outputs": [
    {
     "data": {
      "text/html": [
       "<div>\n",
       "<style scoped>\n",
       "    .dataframe tbody tr th:only-of-type {\n",
       "        vertical-align: middle;\n",
       "    }\n",
       "\n",
       "    .dataframe tbody tr th {\n",
       "        vertical-align: top;\n",
       "    }\n",
       "\n",
       "    .dataframe thead th {\n",
       "        text-align: right;\n",
       "    }\n",
       "</style>\n",
       "<table border=\"1\" class=\"dataframe\">\n",
       "  <thead>\n",
       "    <tr style=\"text-align: right;\">\n",
       "      <th></th>\n",
       "      <th>Indicator ID</th>\n",
       "      <th>Geo Join ID</th>\n",
       "      <th>Year</th>\n",
       "      <th>Measure_Annual average concentration</th>\n",
       "      <th>Measure_Estimated annual rate</th>\n",
       "      <th>Measure_Estimated annual rate (age 18+)</th>\n",
       "      <th>Measure_Estimated annual rate (age 30+)</th>\n",
       "      <th>Measure_Estimated annual rate (under age 18)</th>\n",
       "      <th>Measure_Mean</th>\n",
       "      <th>Measure_Number per km2</th>\n",
       "      <th>...</th>\n",
       "      <th>Geo Place Name_Washington Heights</th>\n",
       "      <th>Geo Place Name_Washington Heights and Inwood (CD12)</th>\n",
       "      <th>Geo Place Name_West Queens</th>\n",
       "      <th>Geo Place Name_Williamsbridge and Baychester (CD12)</th>\n",
       "      <th>Geo Place Name_Williamsburg - Bushwick</th>\n",
       "      <th>Geo Place Name_Willowbrook</th>\n",
       "      <th>Geo Place Name_Woodside and Sunnyside (CD2)</th>\n",
       "      <th>Months Involved_annual</th>\n",
       "      <th>Months Involved_summer</th>\n",
       "      <th>Months Involved_winter</th>\n",
       "    </tr>\n",
       "  </thead>\n",
       "  <tbody>\n",
       "    <tr>\n",
       "      <th>2678</th>\n",
       "      <td>0.033784</td>\n",
       "      <td>9.609337e-07</td>\n",
       "      <td>0.375</td>\n",
       "      <td>0</td>\n",
       "      <td>0</td>\n",
       "      <td>0</td>\n",
       "      <td>0</td>\n",
       "      <td>0</td>\n",
       "      <td>1</td>\n",
       "      <td>0</td>\n",
       "      <td>...</td>\n",
       "      <td>0</td>\n",
       "      <td>0</td>\n",
       "      <td>0</td>\n",
       "      <td>0</td>\n",
       "      <td>0</td>\n",
       "      <td>0</td>\n",
       "      <td>0</td>\n",
       "      <td>0</td>\n",
       "      <td>1</td>\n",
       "      <td>0</td>\n",
       "    </tr>\n",
       "    <tr>\n",
       "      <th>14249</th>\n",
       "      <td>0.070946</td>\n",
       "      <td>1.978953e-06</td>\n",
       "      <td>0.500</td>\n",
       "      <td>0</td>\n",
       "      <td>0</td>\n",
       "      <td>0</td>\n",
       "      <td>0</td>\n",
       "      <td>0</td>\n",
       "      <td>1</td>\n",
       "      <td>0</td>\n",
       "      <td>...</td>\n",
       "      <td>0</td>\n",
       "      <td>0</td>\n",
       "      <td>0</td>\n",
       "      <td>0</td>\n",
       "      <td>0</td>\n",
       "      <td>0</td>\n",
       "      <td>0</td>\n",
       "      <td>0</td>\n",
       "      <td>1</td>\n",
       "      <td>0</td>\n",
       "    </tr>\n",
       "  </tbody>\n",
       "</table>\n",
       "<p>2 rows × 140 columns</p>\n",
       "</div>"
      ],
      "text/plain": [
       "       Indicator ID   Geo Join ID   Year  \\\n",
       "2678       0.033784  9.609337e-07  0.375   \n",
       "14249      0.070946  1.978953e-06  0.500   \n",
       "\n",
       "       Measure_Annual average concentration  Measure_Estimated annual rate  \\\n",
       "2678                                      0                              0   \n",
       "14249                                     0                              0   \n",
       "\n",
       "       Measure_Estimated annual rate (age 18+)  \\\n",
       "2678                                         0   \n",
       "14249                                        0   \n",
       "\n",
       "       Measure_Estimated annual rate (age 30+)  \\\n",
       "2678                                         0   \n",
       "14249                                        0   \n",
       "\n",
       "       Measure_Estimated annual rate (under age 18)  Measure_Mean  \\\n",
       "2678                                              0             1   \n",
       "14249                                             0             1   \n",
       "\n",
       "       Measure_Number per km2  ...  Geo Place Name_Washington Heights  \\\n",
       "2678                        0  ...                                  0   \n",
       "14249                       0  ...                                  0   \n",
       "\n",
       "       Geo Place Name_Washington Heights and Inwood (CD12)  \\\n",
       "2678                                                   0     \n",
       "14249                                                  0     \n",
       "\n",
       "       Geo Place Name_West Queens  \\\n",
       "2678                            0   \n",
       "14249                           0   \n",
       "\n",
       "       Geo Place Name_Williamsbridge and Baychester (CD12)  \\\n",
       "2678                                                   0     \n",
       "14249                                                  0     \n",
       "\n",
       "       Geo Place Name_Williamsburg - Bushwick  Geo Place Name_Willowbrook  \\\n",
       "2678                                        0                           0   \n",
       "14249                                       0                           0   \n",
       "\n",
       "       Geo Place Name_Woodside and Sunnyside (CD2)  Months Involved_annual  \\\n",
       "2678                                             0                       0   \n",
       "14249                                            0                       0   \n",
       "\n",
       "       Months Involved_summer  Months Involved_winter  \n",
       "2678                        1                       0  \n",
       "14249                       1                       0  \n",
       "\n",
       "[2 rows x 140 columns]"
      ]
     },
     "execution_count": 98,
     "metadata": {},
     "output_type": "execute_result"
    }
   ],
   "source": [
    "test_inputs.head(2)"
   ]
  },
  {
   "cell_type": "markdown",
   "metadata": {
    "id": "ItP2_rRf4Q5c"
   },
   "source": [
    "### Let's make some model to predict values"
   ]
  },
  {
   "cell_type": "code",
   "execution_count": 99,
   "metadata": {
    "id": "xjODPFjn4Q5c"
   },
   "outputs": [],
   "source": [
    "from sklearn.linear_model import Lasso, Ridge, LinearRegression, SGDRegressor, ElasticNet\n",
    "from sklearn.metrics import mean_squared_error"
   ]
  },
  {
   "cell_type": "code",
   "execution_count": 100,
   "metadata": {
    "id": "BxeLrk1c4Q5c"
   },
   "outputs": [],
   "source": [
    "def mse(y_true, y_pred):\n",
    "    return mean_squared_error(y_true,y_pred, squared=False)"
   ]
  },
  {
   "cell_type": "code",
   "execution_count": 101,
   "metadata": {
    "id": "R4ssB1bc4Q5c"
   },
   "outputs": [],
   "source": [
    "lr_reg = LinearRegression()\n",
    "rid = Ridge()\n",
    "las = Lasso()\n",
    "sgdr = SGDRegressor()\n",
    "eln = ElasticNet()\n",
    "models=[lr_reg,rid,sgdr,eln]"
   ]
  },
  {
   "cell_type": "code",
   "execution_count": 102,
   "metadata": {
    "id": "9mMlkUJ84Q5d"
   },
   "outputs": [
    {
     "data": {
      "text/html": [
       "<style>#sk-container-id-1 {color: black;}#sk-container-id-1 pre{padding: 0;}#sk-container-id-1 div.sk-toggleable {background-color: white;}#sk-container-id-1 label.sk-toggleable__label {cursor: pointer;display: block;width: 100%;margin-bottom: 0;padding: 0.3em;box-sizing: border-box;text-align: center;}#sk-container-id-1 label.sk-toggleable__label-arrow:before {content: \"▸\";float: left;margin-right: 0.25em;color: #696969;}#sk-container-id-1 label.sk-toggleable__label-arrow:hover:before {color: black;}#sk-container-id-1 div.sk-estimator:hover label.sk-toggleable__label-arrow:before {color: black;}#sk-container-id-1 div.sk-toggleable__content {max-height: 0;max-width: 0;overflow: hidden;text-align: left;background-color: #f0f8ff;}#sk-container-id-1 div.sk-toggleable__content pre {margin: 0.2em;color: black;border-radius: 0.25em;background-color: #f0f8ff;}#sk-container-id-1 input.sk-toggleable__control:checked~div.sk-toggleable__content {max-height: 200px;max-width: 100%;overflow: auto;}#sk-container-id-1 input.sk-toggleable__control:checked~label.sk-toggleable__label-arrow:before {content: \"▾\";}#sk-container-id-1 div.sk-estimator input.sk-toggleable__control:checked~label.sk-toggleable__label {background-color: #d4ebff;}#sk-container-id-1 div.sk-label input.sk-toggleable__control:checked~label.sk-toggleable__label {background-color: #d4ebff;}#sk-container-id-1 input.sk-hidden--visually {border: 0;clip: rect(1px 1px 1px 1px);clip: rect(1px, 1px, 1px, 1px);height: 1px;margin: -1px;overflow: hidden;padding: 0;position: absolute;width: 1px;}#sk-container-id-1 div.sk-estimator {font-family: monospace;background-color: #f0f8ff;border: 1px dotted black;border-radius: 0.25em;box-sizing: border-box;margin-bottom: 0.5em;}#sk-container-id-1 div.sk-estimator:hover {background-color: #d4ebff;}#sk-container-id-1 div.sk-parallel-item::after {content: \"\";width: 100%;border-bottom: 1px solid gray;flex-grow: 1;}#sk-container-id-1 div.sk-label:hover label.sk-toggleable__label {background-color: #d4ebff;}#sk-container-id-1 div.sk-serial::before {content: \"\";position: absolute;border-left: 1px solid gray;box-sizing: border-box;top: 0;bottom: 0;left: 50%;z-index: 0;}#sk-container-id-1 div.sk-serial {display: flex;flex-direction: column;align-items: center;background-color: white;padding-right: 0.2em;padding-left: 0.2em;position: relative;}#sk-container-id-1 div.sk-item {position: relative;z-index: 1;}#sk-container-id-1 div.sk-parallel {display: flex;align-items: stretch;justify-content: center;background-color: white;position: relative;}#sk-container-id-1 div.sk-item::before, #sk-container-id-1 div.sk-parallel-item::before {content: \"\";position: absolute;border-left: 1px solid gray;box-sizing: border-box;top: 0;bottom: 0;left: 50%;z-index: -1;}#sk-container-id-1 div.sk-parallel-item {display: flex;flex-direction: column;z-index: 1;position: relative;background-color: white;}#sk-container-id-1 div.sk-parallel-item:first-child::after {align-self: flex-end;width: 50%;}#sk-container-id-1 div.sk-parallel-item:last-child::after {align-self: flex-start;width: 50%;}#sk-container-id-1 div.sk-parallel-item:only-child::after {width: 0;}#sk-container-id-1 div.sk-dashed-wrapped {border: 1px dashed gray;margin: 0 0.4em 0.5em 0.4em;box-sizing: border-box;padding-bottom: 0.4em;background-color: white;}#sk-container-id-1 div.sk-label label {font-family: monospace;font-weight: bold;display: inline-block;line-height: 1.2em;}#sk-container-id-1 div.sk-label-container {text-align: center;}#sk-container-id-1 div.sk-container {/* jupyter's `normalize.less` sets `[hidden] { display: none; }` but bootstrap.min.css set `[hidden] { display: none !important; }` so we also need the `!important` here to be able to override the default hidden behavior on the sphinx rendered scikit-learn.org. See: https://github.com/scikit-learn/scikit-learn/issues/21755 */display: inline-block !important;position: relative;}#sk-container-id-1 div.sk-text-repr-fallback {display: none;}</style><div id=\"sk-container-id-1\" class=\"sk-top-container\"><div class=\"sk-text-repr-fallback\"><pre>LinearRegression()</pre><b>In a Jupyter environment, please rerun this cell to show the HTML representation or trust the notebook. <br />On GitHub, the HTML representation is unable to render, please try loading this page with nbviewer.org.</b></div><div class=\"sk-container\" hidden><div class=\"sk-item\"><div class=\"sk-estimator sk-toggleable\"><input class=\"sk-toggleable__control sk-hidden--visually\" id=\"sk-estimator-id-1\" type=\"checkbox\" checked><label for=\"sk-estimator-id-1\" class=\"sk-toggleable__label sk-toggleable__label-arrow\">LinearRegression</label><div class=\"sk-toggleable__content\"><pre>LinearRegression()</pre></div></div></div></div></div>"
      ],
      "text/plain": [
       "LinearRegression()"
      ]
     },
     "execution_count": 102,
     "metadata": {},
     "output_type": "execute_result"
    }
   ],
   "source": [
    "lr_reg.fit(train_inputs,train_target)"
   ]
  },
  {
   "cell_type": "code",
   "execution_count": 103,
   "metadata": {
    "id": "3-AQQYtb4Q5d"
   },
   "outputs": [],
   "source": [
    "preds =lr_reg.predict(train_inputs)"
   ]
  },
  {
   "cell_type": "code",
   "execution_count": 104,
   "metadata": {
    "id": "72aHvKcO4Q5d"
   },
   "outputs": [],
   "source": [
    "preds = np.array(preds.reshape(-1,1))"
   ]
  },
  {
   "cell_type": "code",
   "execution_count": 105,
   "metadata": {
    "id": "x_D6kKDx4Q5d"
   },
   "outputs": [
    {
     "data": {
      "text/plain": [
       "16.38100461834815"
      ]
     },
     "execution_count": 105,
     "metadata": {},
     "output_type": "execute_result"
    }
   ],
   "source": [
    "mse(preds,train_target)"
   ]
  },
  {
   "cell_type": "code",
   "execution_count": 106,
   "metadata": {
    "id": "y2IgZLT64Q5d"
   },
   "outputs": [],
   "source": [
    "def try_model(model):\n",
    "        model.fit(train_inputs,train_target)\n",
    "        preds_train = model.predict(train_inputs)\n",
    "        preds_test = model.predict(test_inputs)\n",
    "        return print(\"train error: : {}, test_error: {}\".format(mse(train_target,preds_train),mse(test_target, preds_test)))"
   ]
  },
  {
   "cell_type": "code",
   "execution_count": 107,
   "metadata": {
    "id": "Rp6i0B_24Q5d"
   },
   "outputs": [
    {
     "name": "stdout",
     "output_type": "stream",
     "text": [
      "[0.39727072 0.44934203 0.40196271 0.43498069 0.42735718 0.06082286\n",
      " 0.39345449 0.42764768 0.43931249 0.40549125]\n",
      "\n",
      "\n",
      "[0.39574017 0.44694043 0.40665575 0.44475807 0.4270011  0.40047654\n",
      " 0.39249459 0.42861097 0.43861815 0.40247438]\n",
      "\n",
      "\n",
      "[0.39568001 0.44168349 0.40342467 0.44274913 0.42383547 0.39739787\n",
      " 0.3887239  0.42624982 0.43628156 0.40071534]\n",
      "\n",
      "\n",
      "[0.12539173 0.10254625 0.10324747 0.10076216 0.10396428 0.1100003\n",
      " 0.10466343 0.10739788 0.11143347 0.09532634]\n",
      "\n",
      "\n"
     ]
    }
   ],
   "source": [
    "from sklearn.model_selection import ShuffleSplit, cross_val_score\n",
    "\n",
    "cv = ShuffleSplit(n_splits=10,test_size=0.2,random_state=0)\n",
    "\n",
    "\n",
    "for model in models:\n",
    "    print(cross_val_score(model,train_inputs,train_target, cv=cv))\n",
    "    print('\\n')"
   ]
  },
  {
   "cell_type": "markdown",
   "metadata": {
    "id": "XPk1nT0W4Q5e"
   },
   "source": [
    "#### Elastic net performs a bit good in this but still these linear models are not so good"
   ]
  },
  {
   "cell_type": "markdown",
   "metadata": {
    "id": "5DlYSWGN4Q5e"
   },
   "source": [
    "## Let's hypertune some parameters"
   ]
  },
  {
   "cell_type": "code",
   "execution_count": 108,
   "metadata": {
    "id": "RThXxE3a4Q5e"
   },
   "outputs": [],
   "source": [
    "from sklearn.tree import DecisionTreeRegressor\n",
    "from sklearn.svm import SVR\n",
    "from sklearn.model_selection import GridSearchCV\n",
    "from sklearn.ensemble import RandomForestRegressor\n",
    "tree = DecisionTreeRegressor()\n",
    "rf = RandomForestRegressor()"
   ]
  },
  {
   "cell_type": "code",
   "execution_count": 109,
   "metadata": {
    "id": "wdtO7r6o4Q5e"
   },
   "outputs": [
    {
     "name": "stdout",
     "output_type": "stream",
     "text": [
      "[0.89446338 0.77539549 0.85646124 0.93546133 0.88490216] \n",
      "\n",
      "[0.91149888 0.91562554 0.86119775 0.94153918 0.91868659] \n",
      "\n"
     ]
    }
   ],
   "source": [
    "cv = ShuffleSplit(n_splits=5,test_size=0.2,random_state=0)\n",
    "tree_models = [tree,rf]\n",
    "for model in tree_models:\n",
    "    print(cross_val_score(model,train_inputs,train_target,cv=cv),\"\\n\")"
   ]
  },
  {
   "cell_type": "code",
   "execution_count": 110,
   "metadata": {
    "id": "hq3Pqlyg4Q5e"
   },
   "outputs": [],
   "source": [
    "def max_depth(n):\n",
    "    tree = DecisionTreeRegressor(max_depth=n).fit(train_inputs,train_target)\n",
    "    return mse(tree.predict(train_inputs) ,train_target), mse(tree.predict(test_inputs), test_target)"
   ]
  },
  {
   "cell_type": "code",
   "execution_count": 111,
   "metadata": {
    "id": "hb3LNdNq4Q5e",
    "scrolled": true
   },
   "outputs": [
    {
     "data": {
      "text/html": [
       "<div>\n",
       "<style scoped>\n",
       "    .dataframe tbody tr th:only-of-type {\n",
       "        vertical-align: middle;\n",
       "    }\n",
       "\n",
       "    .dataframe tbody tr th {\n",
       "        vertical-align: top;\n",
       "    }\n",
       "\n",
       "    .dataframe thead th {\n",
       "        text-align: right;\n",
       "    }\n",
       "</style>\n",
       "<table border=\"1\" class=\"dataframe\">\n",
       "  <thead>\n",
       "    <tr style=\"text-align: right;\">\n",
       "      <th></th>\n",
       "      <th>Train error</th>\n",
       "      <th>test_error</th>\n",
       "    </tr>\n",
       "  </thead>\n",
       "  <tbody>\n",
       "    <tr>\n",
       "      <th>10</th>\n",
       "      <td>7.007289</td>\n",
       "      <td>9.162610</td>\n",
       "    </tr>\n",
       "    <tr>\n",
       "      <th>11</th>\n",
       "      <td>6.203017</td>\n",
       "      <td>8.398692</td>\n",
       "    </tr>\n",
       "    <tr>\n",
       "      <th>12</th>\n",
       "      <td>5.607399</td>\n",
       "      <td>8.055956</td>\n",
       "    </tr>\n",
       "    <tr>\n",
       "      <th>13</th>\n",
       "      <td>4.877769</td>\n",
       "      <td>7.159045</td>\n",
       "    </tr>\n",
       "    <tr>\n",
       "      <th>14</th>\n",
       "      <td>4.251082</td>\n",
       "      <td>6.722328</td>\n",
       "    </tr>\n",
       "    <tr>\n",
       "      <th>15</th>\n",
       "      <td>3.923312</td>\n",
       "      <td>6.683192</td>\n",
       "    </tr>\n",
       "    <tr>\n",
       "      <th>16</th>\n",
       "      <td>3.629290</td>\n",
       "      <td>6.485470</td>\n",
       "    </tr>\n",
       "    <tr>\n",
       "      <th>17</th>\n",
       "      <td>3.381437</td>\n",
       "      <td>6.398269</td>\n",
       "    </tr>\n",
       "    <tr>\n",
       "      <th>18</th>\n",
       "      <td>3.171021</td>\n",
       "      <td>6.286136</td>\n",
       "    </tr>\n",
       "    <tr>\n",
       "      <th>19</th>\n",
       "      <td>2.973339</td>\n",
       "      <td>6.207891</td>\n",
       "    </tr>\n",
       "    <tr>\n",
       "      <th>20</th>\n",
       "      <td>2.777427</td>\n",
       "      <td>6.108450</td>\n",
       "    </tr>\n",
       "    <tr>\n",
       "      <th>21</th>\n",
       "      <td>2.619545</td>\n",
       "      <td>6.045377</td>\n",
       "    </tr>\n",
       "    <tr>\n",
       "      <th>22</th>\n",
       "      <td>2.464073</td>\n",
       "      <td>6.054983</td>\n",
       "    </tr>\n",
       "    <tr>\n",
       "      <th>23</th>\n",
       "      <td>2.312418</td>\n",
       "      <td>5.912467</td>\n",
       "    </tr>\n",
       "    <tr>\n",
       "      <th>24</th>\n",
       "      <td>2.169642</td>\n",
       "      <td>5.882139</td>\n",
       "    </tr>\n",
       "    <tr>\n",
       "      <th>25</th>\n",
       "      <td>2.047509</td>\n",
       "      <td>5.839513</td>\n",
       "    </tr>\n",
       "    <tr>\n",
       "      <th>26</th>\n",
       "      <td>1.902466</td>\n",
       "      <td>5.751942</td>\n",
       "    </tr>\n",
       "    <tr>\n",
       "      <th>27</th>\n",
       "      <td>1.770971</td>\n",
       "      <td>5.770110</td>\n",
       "    </tr>\n",
       "    <tr>\n",
       "      <th>28</th>\n",
       "      <td>1.654041</td>\n",
       "      <td>5.757438</td>\n",
       "    </tr>\n",
       "    <tr>\n",
       "      <th>29</th>\n",
       "      <td>1.534543</td>\n",
       "      <td>5.696236</td>\n",
       "    </tr>\n",
       "    <tr>\n",
       "      <th>30</th>\n",
       "      <td>1.411222</td>\n",
       "      <td>5.654141</td>\n",
       "    </tr>\n",
       "  </tbody>\n",
       "</table>\n",
       "</div>"
      ],
      "text/plain": [
       "    Train error  test_error\n",
       "10     7.007289    9.162610\n",
       "11     6.203017    8.398692\n",
       "12     5.607399    8.055956\n",
       "13     4.877769    7.159045\n",
       "14     4.251082    6.722328\n",
       "15     3.923312    6.683192\n",
       "16     3.629290    6.485470\n",
       "17     3.381437    6.398269\n",
       "18     3.171021    6.286136\n",
       "19     2.973339    6.207891\n",
       "20     2.777427    6.108450\n",
       "21     2.619545    6.045377\n",
       "22     2.464073    6.054983\n",
       "23     2.312418    5.912467\n",
       "24     2.169642    5.882139\n",
       "25     2.047509    5.839513\n",
       "26     1.902466    5.751942\n",
       "27     1.770971    5.770110\n",
       "28     1.654041    5.757438\n",
       "29     1.534543    5.696236\n",
       "30     1.411222    5.654141"
      ]
     },
     "execution_count": 111,
     "metadata": {},
     "output_type": "execute_result"
    }
   ],
   "source": [
    "err = [max_depth(x) for x in range(1,32)]\n",
    "err_df = pd.DataFrame(err,columns=['Train error', 'test_error'])\n",
    "err_df[10:]"
   ]
  },
  {
   "cell_type": "code",
   "execution_count": 112,
   "metadata": {
    "id": "vPOo7knwtwc2"
   },
   "outputs": [],
   "source": [
    "max_depth=28"
   ]
  },
  {
   "cell_type": "code",
   "execution_count": 113,
   "metadata": {
    "id": "7UdzC2mXFwuy"
   },
   "outputs": [],
   "source": [
    "def try_model(model):\n",
    "  model.fit(train_inputs, train_target)\n",
    "  preds_t = model.predict(train_inputs)\n",
    "  preds_tx = model.predict(test_inputs)\n",
    "  print(\"train error: {}, test error: {}\".format(mse(preds_t,train_target), mse(preds_tx, test_target)))"
   ]
  },
  {
   "cell_type": "code",
   "execution_count": 114,
   "metadata": {
    "id": "O0MVqc0I4Q5f"
   },
   "outputs": [
    {
     "name": "stdout",
     "output_type": "stream",
     "text": [
      "train error: 12.936672681188632, test error: 12.11930204079656\n"
     ]
    }
   ],
   "source": [
    "random_forest = RandomForestRegressor(n_estimators=30,\n",
    "                criterion ='absolute_error',\n",
    "                 max_depth =28,\n",
    "                  n_jobs=-1,\n",
    "                min_samples_leaf =20)\n",
    "try_model(random_forest)"
   ]
  },
  {
   "cell_type": "code",
   "execution_count": 115,
   "metadata": {
    "id": "DQZEsrVdvxua"
   },
   "outputs": [
    {
     "data": {
      "image/png": "[encoded data removed]",
      "text/plain": [
       "<Figure size 1000x800 with 1 Axes>"
      ]
     },
     "metadata": {},
     "output_type": "display_data"
    }
   ],
   "source": [
    "from sklearn.tree import plot_tree\n",
    "import matplotlib.pyplot as plt\n",
    "\n",
    "plt.figure(figsize=(10, 8))\n",
    "plot_tree(random_forest.estimators_[0], filled=True, max_depth=2)\n",
    "plt.title(\"Example Decision Tree from Random Forest\")\n",
    "plt.show()"
   ]
  },
  {
   "cell_type": "markdown",
   "metadata": {
    "id": "dETYlN-Yt3E4"
   },
   "source": [
    "**We can see the random forest is better regressor than SVR this time and let's check XGBRegressor and conclude the model selection**"
   ]
  },
  {
   "cell_type": "code",
   "execution_count": 116,
   "metadata": {
    "id": "w5Trgh8Gudzi"
   },
   "outputs": [],
   "source": [
    "from sklearn.model_selection import cross_val_score\n",
    "from xgboost import XGBRegressor\n",
    "\n",
    "xgb = XGBRegressor(n_estimators=20,\n",
    "                   n_jobs=-1,\n",
    "                random_state=42,\n",
    "                max_depth =28)"
   ]
  },
  {
   "cell_type": "code",
   "execution_count": 117,
   "metadata": {
    "id": "uVFrvPb70vz2"
   },
   "outputs": [
    {
     "name": "stdout",
     "output_type": "stream",
     "text": [
      "train error: 0.4351141197090309, test error: 3.8585914668452492\n"
     ]
    }
   ],
   "source": [
    "try_model(xgb)"
   ]
  },
  {
   "cell_type": "code",
   "execution_count": 118,
   "metadata": {
    "id": "u7tIlMEM2qz9"
   },
   "outputs": [
    {
     "name": "stdout",
     "output_type": "stream",
     "text": [
      "Mean Absolute Error (MAE) scores: [3.72577881 4.1487316  3.67544432 4.14679743 3.84017033]\n",
      "Mean MAE: 3.907384496107563\n"
     ]
    }
   ],
   "source": [
    "scores = cross_val_score(random_forest, train_inputs, train_target, cv=5, scoring='neg_mean_absolute_error')\n",
    "\n",
    "mae_scores = -scores\n",
    "\n",
    "print(\"Mean Absolute Error (MAE) scores:\", mae_scores)\n",
    "print(\"Mean MAE:\", mae_scores.mean())"
   ]
  },
  {
   "cell_type": "code",
   "execution_count": 119,
   "metadata": {},
   "outputs": [],
   "source": [
    "# !pip install graphviz\n",
    "#install graphviz before showing it \n",
    "#you can visualise the xgbregressor by that code below\n",
    "# from xgboost import plot_tree\n",
    "# from matplotlib.pylab import rcParams\n",
    "# rcParams['figure.figsize'] = 15,15\n",
    "\n",
    "# plot_tree(xgb, rankdir='LR')"
   ]
  },
  {
   "cell_type": "markdown",
   "metadata": {
    "id": "v9v1pSND7ksV"
   },
   "source": [
    "**SO far XGBoost model is best so we will use that**"
   ]
  },
  {
   "cell_type": "markdown",
   "metadata": {
    "id": "Of6Tokgd2A3r"
   },
   "source": [
    "**Making a predict funtion**"
   ]
  },
  {
   "cell_type": "code",
   "execution_count": 120,
   "metadata": {},
   "outputs": [],
   "source": [
    "from sklearn.preprocessing import OneHotEncoder\n",
    "encoder = OneHotEncoder(sparse_output=False, handle_unknown='ignore').fit(df5[categorical_cols])\n",
    "encoded_cols = list(encoder.get_feature_names_out(categorical_cols))"
   ]
  },
  {
   "cell_type": "code",
   "execution_count": 121,
   "metadata": {},
   "outputs": [
    {
     "data": {
      "text/plain": [
       "(661, 105106107, 2021)"
      ]
     },
     "execution_count": 121,
     "metadata": {},
     "output_type": "execute_result"
    }
   ],
   "source": [
    "a = max(df4['Indicator ID'])\n",
    "b = max(df4['Geo Join ID'])\n",
    "c = max(df4['Year'])\n",
    "a,b,c"
   ]
  },
  {
   "cell_type": "code",
   "execution_count": 122,
   "metadata": {
    "id": "PMeFr_6M1G1o"
   },
   "outputs": [],
   "source": [
    "def predict_func(ind_name,meas, meas_info,gtn,gji,gpn, mthinv,year):\n",
    "    ind_id = indicator_names[ind_name]\n",
    "    data= {'Indicator ID':ind_id, \n",
    "           'Measure':meas,\n",
    "           'Measure Info':meas_info, \n",
    "           'Geo Type Name':gtn ,\n",
    "           'Geo Join ID': gji, \n",
    "           'Geo Place Name': gpn,\n",
    "           'Months Involved':mthinv ,\n",
    "           'Year': year}\n",
    "    df = pd.DataFrame([data])\n",
    "    categorical_cols = ['Measure','Measure Info','Geo Type Name','Geo Place Name','Months Involved']\n",
    "    numeric_cols = ['Indicator ID', 'Geo Join ID','Year']\n",
    "    a = max(df4['Indicator ID'])\n",
    "    b = max(df4['Geo Join ID'])\n",
    "    c = max(df4['Year'])\n",
    "    df['Indicator ID'] = df['Indicator ID']/a\n",
    "    df['Geo Join ID'] = df['Geo Join ID']/b\n",
    "    df['Year'] = df['Year']/c\n",
    "    dum = pd.get_dummies(df[categorical_cols], dtype=int, dummy_na=False, drop_first=False)\n",
    "    df = pd.concat([df,dum], axis=1)\n",
    "    df.drop(categorical_cols,axis=1, inplace=True)\n",
    "    # encoder = OneHotEncoder(sparse_output=False, handle_unknown='ignore').fit(df5[categorical_cols])\n",
    "    # encoded_cols = list(encoder.get_feature_names_out(categorical_cols))\n",
    "    # x = df[encoded_cols+numerical_cols]\n",
    "    colt = [col for col in df.columns if col not in numerical_cols]\n",
    "    dat={}\n",
    "    col_name=[]\n",
    "    for col,series in df6.items():\n",
    "        dat[col] = 0\n",
    "        if col in colt:\n",
    "            dat[col] = 1\n",
    "            col_name.append(col)\n",
    "            print(col)\n",
    "    for i in numerical_cols:\n",
    "        dat[i] = df[i].iloc[0]\n",
    "    x = pd.DataFrame([dat])\n",
    "    x.drop('Data Value', axis=1,inplace=True)\n",
    "    return xgb.predict(x)[0]"
   ]
  },
  {
   "cell_type": "code",
   "execution_count": 123,
   "metadata": {
    "id": "s1UBXGA41_a5",
    "scrolled": true
   },
   "outputs": [
    {
     "name": "stdout",
     "output_type": "stream",
     "text": [
      "Measure_Mean\n",
      "Measure Info_ppb\n",
      "Geo Type Name_UHF34\n",
      "Geo Place Name_Bedford Stuyvesant - Crown Heights\n",
      "Months Involved_annual\n"
     ]
    },
    {
     "data": {
      "text/plain": [
       "29.339775"
      ]
     },
     "execution_count": 123,
     "metadata": {},
     "output_type": "execute_result"
    }
   ],
   "source": [
    "predict_func('Nitrogen dioxide (NO2)', 'Mean', 'ppb', 'UHF34', 203, 'Bedford Stuyvesant - Crown Heights','annual', 2009)"
   ]
  },
  {
   "cell_type": "code",
   "execution_count": 124,
   "metadata": {},
   "outputs": [
    {
     "data": {
      "text/html": [
       "<div>\n",
       "<style scoped>\n",
       "    .dataframe tbody tr th:only-of-type {\n",
       "        vertical-align: middle;\n",
       "    }\n",
       "\n",
       "    .dataframe tbody tr th {\n",
       "        vertical-align: top;\n",
       "    }\n",
       "\n",
       "    .dataframe thead th {\n",
       "        text-align: right;\n",
       "    }\n",
       "</style>\n",
       "<table border=\"1\" class=\"dataframe\">\n",
       "  <thead>\n",
       "    <tr style=\"text-align: right;\">\n",
       "      <th></th>\n",
       "      <th>Indicator ID</th>\n",
       "      <th>Measure</th>\n",
       "      <th>Measure Info</th>\n",
       "      <th>Geo Type Name</th>\n",
       "      <th>Geo Join ID</th>\n",
       "      <th>Geo Place Name</th>\n",
       "      <th>Time Period</th>\n",
       "      <th>Start_Date</th>\n",
       "      <th>Data Value</th>\n",
       "      <th>Months Involved</th>\n",
       "      <th>Year</th>\n",
       "    </tr>\n",
       "  </thead>\n",
       "  <tbody>\n",
       "    <tr>\n",
       "      <th>0</th>\n",
       "      <td>375</td>\n",
       "      <td>Mean</td>\n",
       "      <td>ppb</td>\n",
       "      <td>UHF34</td>\n",
       "      <td>203</td>\n",
       "      <td>Bedford Stuyvesant - Crown Heights</td>\n",
       "      <td>Annual Average 2011</td>\n",
       "      <td>2010-12-01</td>\n",
       "      <td>25.30</td>\n",
       "      <td>annual</td>\n",
       "      <td>2010</td>\n",
       "    </tr>\n",
       "    <tr>\n",
       "      <th>1</th>\n",
       "      <td>375</td>\n",
       "      <td>Mean</td>\n",
       "      <td>ppb</td>\n",
       "      <td>UHF34</td>\n",
       "      <td>203</td>\n",
       "      <td>Bedford Stuyvesant - Crown Heights</td>\n",
       "      <td>Annual Average 2009</td>\n",
       "      <td>2008-12-01</td>\n",
       "      <td>26.93</td>\n",
       "      <td>annual</td>\n",
       "      <td>2008</td>\n",
       "    </tr>\n",
       "  </tbody>\n",
       "</table>\n",
       "</div>"
      ],
      "text/plain": [
       "   Indicator ID Measure Measure Info Geo Type Name  Geo Join ID  \\\n",
       "0           375    Mean          ppb         UHF34          203   \n",
       "1           375    Mean          ppb         UHF34          203   \n",
       "\n",
       "                       Geo Place Name          Time Period Start_Date  \\\n",
       "0  Bedford Stuyvesant - Crown Heights  Annual Average 2011 2010-12-01   \n",
       "1  Bedford Stuyvesant - Crown Heights  Annual Average 2009 2008-12-01   \n",
       "\n",
       "   Data Value Months Involved  Year  \n",
       "0       25.30          annual  2010  \n",
       "1       26.93          annual  2008  "
      ]
     },
     "execution_count": 124,
     "metadata": {},
     "output_type": "execute_result"
    }
   ],
   "source": [
    "df4.head(2)"
   ]
  },
  {
   "cell_type": "markdown",
   "metadata": {
    "id": "cR0TI9yD1HPn"
   },
   "source": [
    "# **Let's export the model and make a predict**"
   ]
  },
  {
   "cell_type": "code",
   "execution_count": 125,
   "metadata": {
    "id": "bOrygpzQ1S2T"
   },
   "outputs": [
    {
     "data": {
      "text/plain": [
       "['air_pollution_model_NY.pkl']"
      ]
     },
     "execution_count": 125,
     "metadata": {},
     "output_type": "execute_result"
    }
   ],
   "source": [
    "import joblib\n",
    "joblib.dump(xgb,'air_pollution_model_NY.pkl')"
   ]
  },
  {
   "cell_type": "code",
   "execution_count": 128,
   "metadata": {
    "id": "q2VwiQ335_H7"
   },
   "outputs": [],
   "source": [
    "import json\n",
    "columns = {\n",
    "    'data_columns' : [col.lower() for col in df5[categorical_cols].columns]\n",
    "}\n",
    "with open(\"columns.json\", \"w\") as f:\n",
    "    json.dump(columns,f)\n",
    "with open(\"indicator_names.json\", \"w\") as f:\n",
    "    json.dump(indicator_names,f)"
   ]
  },
  {
   "cell_type": "code",
   "execution_count": 129,
   "metadata": {},
   "outputs": [
    {
     "data": {
      "application/javascript": [
       "if (window.IPython && IPython.notebook.kernel) IPython.notebook.kernel.execute('jovian.utils.jupyter.get_notebook_name_saved = lambda: \"' + IPython.notebook.notebook_name + '\"')"
      ],
      "text/plain": [
       "<IPython.core.display.Javascript object>"
      ]
     },
     "metadata": {},
     "output_type": "display_data"
    },
    {
     "data": {
      "application/javascript": [
       "window.require && require([\"base/js/namespace\"],function(Jupyter){Jupyter.notebook.save_checkpoint()})"
      ],
      "text/plain": [
       "<IPython.core.display.Javascript object>"
      ]
     },
     "metadata": {},
     "output_type": "display_data"
    },
    {
     "name": "stdout",
     "output_type": "stream",
     "text": [
      "[jovian] Updating notebook \"mrheaven1y/airpollution\" on https://jovian.com/\u001b[0m\n",
      "[jovian] Committed successfully! https://jovian.com/mrheaven1y/airpollution\u001b[0m\n"
     ]
    },
    {
     "data": {
      "text/plain": [
       "'https://jovian.com/mrheaven1y/airpollution'"
      ]
     },
     "execution_count": 129,
     "metadata": {},
     "output_type": "execute_result"
    }
   ],
   "source": [
    "# !pip install jovian\n",
    "import jovian\n",
    "jovian.commit(filename='AirPollution.ipynb')"
   ]
  },
  {
   "cell_type": "markdown",
   "metadata": {},
   "source": [
    "# Done"
   ]
  }
 ],
 "metadata": {
  "accelerator": "GPU",
  "colab": {
   "gpuType": "T4",
   "provenance": []
  },
  "kernelspec": {
   "display_name": "Python 3 (ipykernel)",
   "language": "python",
   "name": "python3"
  },
  "language_info": {
   "codemirror_mode": {
    "name": "ipython",
    "version": 3
   },
   "file_extension": ".py",
   "mimetype": "text/x-python",
   "name": "python",
   "nbconvert_exporter": "python",
   "pygments_lexer": "ipython3",
   "version": "3.8.10"
  },
  "widgets": {
   "application/vnd.jupyter.widget-state+json": {
    "state": {},
    "version_major": 2,
    "version_minor": 0
   }
  }
 },
 "nbformat": 4,
 "nbformat_minor": 4
}
